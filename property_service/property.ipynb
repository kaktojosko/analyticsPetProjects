{
 "cells": [
  {
   "cell_type": "markdown",
   "metadata": {},
   "source": [
    "# Исследование объявлений о продаже квартир\n",
    "\n",
    "В вашем распоряжении данные сервиса по продаже недвижимости — архив объявлений о продаже квартир в Санкт-Петербурге и соседних населённых пунктах за несколько лет. Нужно научиться определять рыночную стоимость объектов недвижимости. Ваша задача — установить параметры. Это позволит построить автоматизированную систему: она отследит аномалии и мошенническую деятельность. \n",
    "\n",
    "По каждой квартире на продажу доступны два вида данных. Первые вписаны пользователем, вторые получены автоматически на основе картографических данных. Например, расстояние до центра, аэропорта, ближайшего парка и водоёма. "
   ]
  },
  {
   "cell_type": "markdown",
   "metadata": {},
   "source": [
    "## Изучение данных из файла"
   ]
  },
  {
   "cell_type": "code",
   "execution_count": 964,
   "metadata": {},
   "outputs": [],
   "source": [
    "# импорт необходимых библиотек\n",
    "import pandas as pd\n",
    "import matplotlib.pyplot as plt\n",
    "import numpy as np\n",
    "import seaborn as sns\n",
    "sns.set(rc={'figure.figsize':(13,5)})"
   ]
  },
  {
   "cell_type": "code",
   "execution_count": 965,
   "metadata": {},
   "outputs": [],
   "source": [
    "# чтение данных\n",
    "df = pd.read_csv('/datasets/real_estate_data.csv', sep='\\t')"
   ]
  },
  {
   "cell_type": "markdown",
   "metadata": {},
   "source": [
    "Описание данных\n",
    "* `airports_nearest` — расстояние до ближайшего аэропорта в метрах (м)\n",
    "* `balcony` — число балконов\n",
    "* `ceiling_height` — высота потолков (м)\n",
    "* `cityCenters_nearest` — расстояние до центра города (м)\n",
    "* `days_exposition` — сколько дней было размещено объявление (от публикации до снятия)\n",
    "* `first_day_exposition` — дата публикации\n",
    "* `floor` — этаж\n",
    "* `floors_total` — всего этажей в доме\n",
    "* `is_apartment` — апартаменты (булев тип)\n",
    "* `kitchen_area` — площадь кухни в квадратных метрах (м²)\n",
    "* `last_price` — цена на момент снятия с публикации\n",
    "* `living_area` — жилая площадь в квадратных метрах (м²)\n",
    "* `locality_name` — название населённого пункта\n",
    "* `open_plan` — свободная планировка (булев тип)\n",
    "* `parks_around3000` — число парков в радиусе 3 км\n",
    "* `parks_nearest` — расстояние до ближайшего парка (м)\n",
    "* `ponds_around3000` — число водоёмов в радиусе 3 км\n",
    "* `ponds_nearest` — расстояние до ближайшего водоёма (м)\n",
    "* `rooms` — число комнат\n",
    "* `studio` — квартира-студия (булев тип)\n",
    "* `total_area` — площадь квартиры в квадратных метрах (м²)\n",
    "* `total_images` — число фотографий квартиры в объявлении"
   ]
  },
  {
   "cell_type": "code",
   "execution_count": 966,
   "metadata": {
    "scrolled": false
   },
   "outputs": [
    {
     "name": "stdout",
     "output_type": "stream",
     "text": [
      "<class 'pandas.core.frame.DataFrame'>\n",
      "RangeIndex: 23699 entries, 0 to 23698\n",
      "Data columns (total 22 columns):\n",
      " #   Column                Non-Null Count  Dtype  \n",
      "---  ------                --------------  -----  \n",
      " 0   total_images          23699 non-null  int64  \n",
      " 1   last_price            23699 non-null  float64\n",
      " 2   total_area            23699 non-null  float64\n",
      " 3   first_day_exposition  23699 non-null  object \n",
      " 4   rooms                 23699 non-null  int64  \n",
      " 5   ceiling_height        14504 non-null  float64\n",
      " 6   floors_total          23613 non-null  float64\n",
      " 7   living_area           21796 non-null  float64\n",
      " 8   floor                 23699 non-null  int64  \n",
      " 9   is_apartment          2775 non-null   object \n",
      " 10  studio                23699 non-null  bool   \n",
      " 11  open_plan             23699 non-null  bool   \n",
      " 12  kitchen_area          21421 non-null  float64\n",
      " 13  balcony               12180 non-null  float64\n",
      " 14  locality_name         23650 non-null  object \n",
      " 15  airports_nearest      18157 non-null  float64\n",
      " 16  cityCenters_nearest   18180 non-null  float64\n",
      " 17  parks_around3000      18181 non-null  float64\n",
      " 18  parks_nearest         8079 non-null   float64\n",
      " 19  ponds_around3000      18181 non-null  float64\n",
      " 20  ponds_nearest         9110 non-null   float64\n",
      " 21  days_exposition       20518 non-null  float64\n",
      "dtypes: bool(2), float64(14), int64(3), object(3)\n",
      "memory usage: 3.7+ MB\n"
     ]
    }
   ],
   "source": [
    "df.info()"
   ]
  },
  {
   "cell_type": "code",
   "execution_count": 967,
   "metadata": {},
   "outputs": [
    {
     "data": {
      "text/plain": [
       "total_images                0\n",
       "last_price                  0\n",
       "total_area                  0\n",
       "first_day_exposition        0\n",
       "rooms                       0\n",
       "ceiling_height           9195\n",
       "floors_total               86\n",
       "living_area              1903\n",
       "floor                       0\n",
       "is_apartment            20924\n",
       "studio                      0\n",
       "open_plan                   0\n",
       "kitchen_area             2278\n",
       "balcony                 11519\n",
       "locality_name              49\n",
       "airports_nearest         5542\n",
       "cityCenters_nearest      5519\n",
       "parks_around3000         5518\n",
       "parks_nearest           15620\n",
       "ponds_around3000         5518\n",
       "ponds_nearest           14589\n",
       "days_exposition          3181\n",
       "dtype: int64"
      ]
     },
     "execution_count": 967,
     "metadata": {},
     "output_type": "execute_result"
    }
   ],
   "source": [
    "df.isna().sum()"
   ]
  },
  {
   "cell_type": "markdown",
   "metadata": {},
   "source": [
    "* Пропуски больше, чем в половине колонок.\n",
    "* Нужно приветсти к `datetime` типу колонку `first_day_exposition`."
   ]
  },
  {
   "cell_type": "code",
   "execution_count": 968,
   "metadata": {
    "scrolled": true
   },
   "outputs": [
    {
     "data": {
      "text/html": [
       "<div>\n",
       "<style scoped>\n",
       "    .dataframe tbody tr th:only-of-type {\n",
       "        vertical-align: middle;\n",
       "    }\n",
       "\n",
       "    .dataframe tbody tr th {\n",
       "        vertical-align: top;\n",
       "    }\n",
       "\n",
       "    .dataframe thead th {\n",
       "        text-align: right;\n",
       "    }\n",
       "</style>\n",
       "<table border=\"1\" class=\"dataframe\">\n",
       "  <thead>\n",
       "    <tr style=\"text-align: right;\">\n",
       "      <th></th>\n",
       "      <th>total_images</th>\n",
       "      <th>last_price</th>\n",
       "      <th>total_area</th>\n",
       "      <th>first_day_exposition</th>\n",
       "      <th>rooms</th>\n",
       "      <th>ceiling_height</th>\n",
       "      <th>floors_total</th>\n",
       "      <th>living_area</th>\n",
       "      <th>floor</th>\n",
       "      <th>is_apartment</th>\n",
       "      <th>...</th>\n",
       "      <th>kitchen_area</th>\n",
       "      <th>balcony</th>\n",
       "      <th>locality_name</th>\n",
       "      <th>airports_nearest</th>\n",
       "      <th>cityCenters_nearest</th>\n",
       "      <th>parks_around3000</th>\n",
       "      <th>parks_nearest</th>\n",
       "      <th>ponds_around3000</th>\n",
       "      <th>ponds_nearest</th>\n",
       "      <th>days_exposition</th>\n",
       "    </tr>\n",
       "  </thead>\n",
       "  <tbody>\n",
       "    <tr>\n",
       "      <th>0</th>\n",
       "      <td>20</td>\n",
       "      <td>13000000.0</td>\n",
       "      <td>108.0</td>\n",
       "      <td>2019-03-07T00:00:00</td>\n",
       "      <td>3</td>\n",
       "      <td>2.70</td>\n",
       "      <td>16.0</td>\n",
       "      <td>51.0</td>\n",
       "      <td>8</td>\n",
       "      <td>NaN</td>\n",
       "      <td>...</td>\n",
       "      <td>25.0</td>\n",
       "      <td>NaN</td>\n",
       "      <td>Санкт-Петербург</td>\n",
       "      <td>18863.0</td>\n",
       "      <td>16028.0</td>\n",
       "      <td>1.0</td>\n",
       "      <td>482.0</td>\n",
       "      <td>2.0</td>\n",
       "      <td>755.0</td>\n",
       "      <td>NaN</td>\n",
       "    </tr>\n",
       "    <tr>\n",
       "      <th>1</th>\n",
       "      <td>7</td>\n",
       "      <td>3350000.0</td>\n",
       "      <td>40.4</td>\n",
       "      <td>2018-12-04T00:00:00</td>\n",
       "      <td>1</td>\n",
       "      <td>NaN</td>\n",
       "      <td>11.0</td>\n",
       "      <td>18.6</td>\n",
       "      <td>1</td>\n",
       "      <td>NaN</td>\n",
       "      <td>...</td>\n",
       "      <td>11.0</td>\n",
       "      <td>2.0</td>\n",
       "      <td>посёлок Шушары</td>\n",
       "      <td>12817.0</td>\n",
       "      <td>18603.0</td>\n",
       "      <td>0.0</td>\n",
       "      <td>NaN</td>\n",
       "      <td>0.0</td>\n",
       "      <td>NaN</td>\n",
       "      <td>81.0</td>\n",
       "    </tr>\n",
       "    <tr>\n",
       "      <th>2</th>\n",
       "      <td>10</td>\n",
       "      <td>5196000.0</td>\n",
       "      <td>56.0</td>\n",
       "      <td>2015-08-20T00:00:00</td>\n",
       "      <td>2</td>\n",
       "      <td>NaN</td>\n",
       "      <td>5.0</td>\n",
       "      <td>34.3</td>\n",
       "      <td>4</td>\n",
       "      <td>NaN</td>\n",
       "      <td>...</td>\n",
       "      <td>8.3</td>\n",
       "      <td>0.0</td>\n",
       "      <td>Санкт-Петербург</td>\n",
       "      <td>21741.0</td>\n",
       "      <td>13933.0</td>\n",
       "      <td>1.0</td>\n",
       "      <td>90.0</td>\n",
       "      <td>2.0</td>\n",
       "      <td>574.0</td>\n",
       "      <td>558.0</td>\n",
       "    </tr>\n",
       "    <tr>\n",
       "      <th>3</th>\n",
       "      <td>0</td>\n",
       "      <td>64900000.0</td>\n",
       "      <td>159.0</td>\n",
       "      <td>2015-07-24T00:00:00</td>\n",
       "      <td>3</td>\n",
       "      <td>NaN</td>\n",
       "      <td>14.0</td>\n",
       "      <td>NaN</td>\n",
       "      <td>9</td>\n",
       "      <td>NaN</td>\n",
       "      <td>...</td>\n",
       "      <td>NaN</td>\n",
       "      <td>0.0</td>\n",
       "      <td>Санкт-Петербург</td>\n",
       "      <td>28098.0</td>\n",
       "      <td>6800.0</td>\n",
       "      <td>2.0</td>\n",
       "      <td>84.0</td>\n",
       "      <td>3.0</td>\n",
       "      <td>234.0</td>\n",
       "      <td>424.0</td>\n",
       "    </tr>\n",
       "    <tr>\n",
       "      <th>4</th>\n",
       "      <td>2</td>\n",
       "      <td>10000000.0</td>\n",
       "      <td>100.0</td>\n",
       "      <td>2018-06-19T00:00:00</td>\n",
       "      <td>2</td>\n",
       "      <td>3.03</td>\n",
       "      <td>14.0</td>\n",
       "      <td>32.0</td>\n",
       "      <td>13</td>\n",
       "      <td>NaN</td>\n",
       "      <td>...</td>\n",
       "      <td>41.0</td>\n",
       "      <td>NaN</td>\n",
       "      <td>Санкт-Петербург</td>\n",
       "      <td>31856.0</td>\n",
       "      <td>8098.0</td>\n",
       "      <td>2.0</td>\n",
       "      <td>112.0</td>\n",
       "      <td>1.0</td>\n",
       "      <td>48.0</td>\n",
       "      <td>121.0</td>\n",
       "    </tr>\n",
       "  </tbody>\n",
       "</table>\n",
       "<p>5 rows × 22 columns</p>\n",
       "</div>"
      ],
      "text/plain": [
       "   total_images  last_price  total_area first_day_exposition  rooms  \\\n",
       "0            20  13000000.0       108.0  2019-03-07T00:00:00      3   \n",
       "1             7   3350000.0        40.4  2018-12-04T00:00:00      1   \n",
       "2            10   5196000.0        56.0  2015-08-20T00:00:00      2   \n",
       "3             0  64900000.0       159.0  2015-07-24T00:00:00      3   \n",
       "4             2  10000000.0       100.0  2018-06-19T00:00:00      2   \n",
       "\n",
       "   ceiling_height  floors_total  living_area  floor is_apartment  ...  \\\n",
       "0            2.70          16.0         51.0      8          NaN  ...   \n",
       "1             NaN          11.0         18.6      1          NaN  ...   \n",
       "2             NaN           5.0         34.3      4          NaN  ...   \n",
       "3             NaN          14.0          NaN      9          NaN  ...   \n",
       "4            3.03          14.0         32.0     13          NaN  ...   \n",
       "\n",
       "   kitchen_area  balcony    locality_name  airports_nearest  \\\n",
       "0          25.0      NaN  Санкт-Петербург           18863.0   \n",
       "1          11.0      2.0   посёлок Шушары           12817.0   \n",
       "2           8.3      0.0  Санкт-Петербург           21741.0   \n",
       "3           NaN      0.0  Санкт-Петербург           28098.0   \n",
       "4          41.0      NaN  Санкт-Петербург           31856.0   \n",
       "\n",
       "  cityCenters_nearest  parks_around3000  parks_nearest  ponds_around3000  \\\n",
       "0             16028.0               1.0          482.0               2.0   \n",
       "1             18603.0               0.0            NaN               0.0   \n",
       "2             13933.0               1.0           90.0               2.0   \n",
       "3              6800.0               2.0           84.0               3.0   \n",
       "4              8098.0               2.0          112.0               1.0   \n",
       "\n",
       "   ponds_nearest  days_exposition  \n",
       "0          755.0              NaN  \n",
       "1            NaN             81.0  \n",
       "2          574.0            558.0  \n",
       "3          234.0            424.0  \n",
       "4           48.0            121.0  \n",
       "\n",
       "[5 rows x 22 columns]"
      ]
     },
     "execution_count": 968,
     "metadata": {},
     "output_type": "execute_result"
    }
   ],
   "source": [
    "df.head()"
   ]
  },
  {
   "cell_type": "code",
   "execution_count": 969,
   "metadata": {
    "scrolled": false
   },
   "outputs": [
    {
     "data": {
      "text/html": [
       "<div>\n",
       "<style scoped>\n",
       "    .dataframe tbody tr th:only-of-type {\n",
       "        vertical-align: middle;\n",
       "    }\n",
       "\n",
       "    .dataframe tbody tr th {\n",
       "        vertical-align: top;\n",
       "    }\n",
       "\n",
       "    .dataframe thead th {\n",
       "        text-align: right;\n",
       "    }\n",
       "</style>\n",
       "<table border=\"1\" class=\"dataframe\">\n",
       "  <thead>\n",
       "    <tr style=\"text-align: right;\">\n",
       "      <th></th>\n",
       "      <th>count</th>\n",
       "      <th>mean</th>\n",
       "      <th>std</th>\n",
       "      <th>min</th>\n",
       "      <th>25%</th>\n",
       "      <th>50%</th>\n",
       "      <th>75%</th>\n",
       "      <th>max</th>\n",
       "    </tr>\n",
       "  </thead>\n",
       "  <tbody>\n",
       "    <tr>\n",
       "      <th>total_images</th>\n",
       "      <td>23699.0</td>\n",
       "      <td>9.858475e+00</td>\n",
       "      <td>5.682529e+00</td>\n",
       "      <td>0.0</td>\n",
       "      <td>6.00</td>\n",
       "      <td>9.00</td>\n",
       "      <td>14.0</td>\n",
       "      <td>50.0</td>\n",
       "    </tr>\n",
       "    <tr>\n",
       "      <th>last_price</th>\n",
       "      <td>23699.0</td>\n",
       "      <td>6.541549e+06</td>\n",
       "      <td>1.088701e+07</td>\n",
       "      <td>12190.0</td>\n",
       "      <td>3400000.00</td>\n",
       "      <td>4650000.00</td>\n",
       "      <td>6800000.0</td>\n",
       "      <td>763000000.0</td>\n",
       "    </tr>\n",
       "    <tr>\n",
       "      <th>total_area</th>\n",
       "      <td>23699.0</td>\n",
       "      <td>6.034865e+01</td>\n",
       "      <td>3.565408e+01</td>\n",
       "      <td>12.0</td>\n",
       "      <td>40.00</td>\n",
       "      <td>52.00</td>\n",
       "      <td>69.9</td>\n",
       "      <td>900.0</td>\n",
       "    </tr>\n",
       "    <tr>\n",
       "      <th>rooms</th>\n",
       "      <td>23699.0</td>\n",
       "      <td>2.070636e+00</td>\n",
       "      <td>1.078405e+00</td>\n",
       "      <td>0.0</td>\n",
       "      <td>1.00</td>\n",
       "      <td>2.00</td>\n",
       "      <td>3.0</td>\n",
       "      <td>19.0</td>\n",
       "    </tr>\n",
       "    <tr>\n",
       "      <th>ceiling_height</th>\n",
       "      <td>14504.0</td>\n",
       "      <td>2.771499e+00</td>\n",
       "      <td>1.261056e+00</td>\n",
       "      <td>1.0</td>\n",
       "      <td>2.52</td>\n",
       "      <td>2.65</td>\n",
       "      <td>2.8</td>\n",
       "      <td>100.0</td>\n",
       "    </tr>\n",
       "    <tr>\n",
       "      <th>floors_total</th>\n",
       "      <td>23613.0</td>\n",
       "      <td>1.067382e+01</td>\n",
       "      <td>6.597173e+00</td>\n",
       "      <td>1.0</td>\n",
       "      <td>5.00</td>\n",
       "      <td>9.00</td>\n",
       "      <td>16.0</td>\n",
       "      <td>60.0</td>\n",
       "    </tr>\n",
       "    <tr>\n",
       "      <th>living_area</th>\n",
       "      <td>21796.0</td>\n",
       "      <td>3.445785e+01</td>\n",
       "      <td>2.203045e+01</td>\n",
       "      <td>2.0</td>\n",
       "      <td>18.60</td>\n",
       "      <td>30.00</td>\n",
       "      <td>42.3</td>\n",
       "      <td>409.7</td>\n",
       "    </tr>\n",
       "    <tr>\n",
       "      <th>floor</th>\n",
       "      <td>23699.0</td>\n",
       "      <td>5.892358e+00</td>\n",
       "      <td>4.885249e+00</td>\n",
       "      <td>1.0</td>\n",
       "      <td>2.00</td>\n",
       "      <td>4.00</td>\n",
       "      <td>8.0</td>\n",
       "      <td>33.0</td>\n",
       "    </tr>\n",
       "    <tr>\n",
       "      <th>kitchen_area</th>\n",
       "      <td>21421.0</td>\n",
       "      <td>1.056981e+01</td>\n",
       "      <td>5.905438e+00</td>\n",
       "      <td>1.3</td>\n",
       "      <td>7.00</td>\n",
       "      <td>9.10</td>\n",
       "      <td>12.0</td>\n",
       "      <td>112.0</td>\n",
       "    </tr>\n",
       "    <tr>\n",
       "      <th>balcony</th>\n",
       "      <td>12180.0</td>\n",
       "      <td>1.150082e+00</td>\n",
       "      <td>1.071300e+00</td>\n",
       "      <td>0.0</td>\n",
       "      <td>0.00</td>\n",
       "      <td>1.00</td>\n",
       "      <td>2.0</td>\n",
       "      <td>5.0</td>\n",
       "    </tr>\n",
       "    <tr>\n",
       "      <th>airports_nearest</th>\n",
       "      <td>18157.0</td>\n",
       "      <td>2.879367e+04</td>\n",
       "      <td>1.263088e+04</td>\n",
       "      <td>0.0</td>\n",
       "      <td>18585.00</td>\n",
       "      <td>26726.00</td>\n",
       "      <td>37273.0</td>\n",
       "      <td>84869.0</td>\n",
       "    </tr>\n",
       "    <tr>\n",
       "      <th>cityCenters_nearest</th>\n",
       "      <td>18180.0</td>\n",
       "      <td>1.419128e+04</td>\n",
       "      <td>8.608386e+03</td>\n",
       "      <td>181.0</td>\n",
       "      <td>9238.00</td>\n",
       "      <td>13098.50</td>\n",
       "      <td>16293.0</td>\n",
       "      <td>65968.0</td>\n",
       "    </tr>\n",
       "    <tr>\n",
       "      <th>parks_around3000</th>\n",
       "      <td>18181.0</td>\n",
       "      <td>6.114075e-01</td>\n",
       "      <td>8.020736e-01</td>\n",
       "      <td>0.0</td>\n",
       "      <td>0.00</td>\n",
       "      <td>0.00</td>\n",
       "      <td>1.0</td>\n",
       "      <td>3.0</td>\n",
       "    </tr>\n",
       "    <tr>\n",
       "      <th>parks_nearest</th>\n",
       "      <td>8079.0</td>\n",
       "      <td>4.908046e+02</td>\n",
       "      <td>3.423180e+02</td>\n",
       "      <td>1.0</td>\n",
       "      <td>288.00</td>\n",
       "      <td>455.00</td>\n",
       "      <td>612.0</td>\n",
       "      <td>3190.0</td>\n",
       "    </tr>\n",
       "    <tr>\n",
       "      <th>ponds_around3000</th>\n",
       "      <td>18181.0</td>\n",
       "      <td>7.702547e-01</td>\n",
       "      <td>9.383456e-01</td>\n",
       "      <td>0.0</td>\n",
       "      <td>0.00</td>\n",
       "      <td>1.00</td>\n",
       "      <td>1.0</td>\n",
       "      <td>3.0</td>\n",
       "    </tr>\n",
       "    <tr>\n",
       "      <th>ponds_nearest</th>\n",
       "      <td>9110.0</td>\n",
       "      <td>5.179809e+02</td>\n",
       "      <td>2.777206e+02</td>\n",
       "      <td>13.0</td>\n",
       "      <td>294.00</td>\n",
       "      <td>502.00</td>\n",
       "      <td>729.0</td>\n",
       "      <td>1344.0</td>\n",
       "    </tr>\n",
       "    <tr>\n",
       "      <th>days_exposition</th>\n",
       "      <td>20518.0</td>\n",
       "      <td>1.808886e+02</td>\n",
       "      <td>2.197280e+02</td>\n",
       "      <td>1.0</td>\n",
       "      <td>45.00</td>\n",
       "      <td>95.00</td>\n",
       "      <td>232.0</td>\n",
       "      <td>1580.0</td>\n",
       "    </tr>\n",
       "  </tbody>\n",
       "</table>\n",
       "</div>"
      ],
      "text/plain": [
       "                       count          mean           std      min         25%  \\\n",
       "total_images         23699.0  9.858475e+00  5.682529e+00      0.0        6.00   \n",
       "last_price           23699.0  6.541549e+06  1.088701e+07  12190.0  3400000.00   \n",
       "total_area           23699.0  6.034865e+01  3.565408e+01     12.0       40.00   \n",
       "rooms                23699.0  2.070636e+00  1.078405e+00      0.0        1.00   \n",
       "ceiling_height       14504.0  2.771499e+00  1.261056e+00      1.0        2.52   \n",
       "floors_total         23613.0  1.067382e+01  6.597173e+00      1.0        5.00   \n",
       "living_area          21796.0  3.445785e+01  2.203045e+01      2.0       18.60   \n",
       "floor                23699.0  5.892358e+00  4.885249e+00      1.0        2.00   \n",
       "kitchen_area         21421.0  1.056981e+01  5.905438e+00      1.3        7.00   \n",
       "balcony              12180.0  1.150082e+00  1.071300e+00      0.0        0.00   \n",
       "airports_nearest     18157.0  2.879367e+04  1.263088e+04      0.0    18585.00   \n",
       "cityCenters_nearest  18180.0  1.419128e+04  8.608386e+03    181.0     9238.00   \n",
       "parks_around3000     18181.0  6.114075e-01  8.020736e-01      0.0        0.00   \n",
       "parks_nearest         8079.0  4.908046e+02  3.423180e+02      1.0      288.00   \n",
       "ponds_around3000     18181.0  7.702547e-01  9.383456e-01      0.0        0.00   \n",
       "ponds_nearest         9110.0  5.179809e+02  2.777206e+02     13.0      294.00   \n",
       "days_exposition      20518.0  1.808886e+02  2.197280e+02      1.0       45.00   \n",
       "\n",
       "                            50%        75%          max  \n",
       "total_images               9.00       14.0         50.0  \n",
       "last_price           4650000.00  6800000.0  763000000.0  \n",
       "total_area                52.00       69.9        900.0  \n",
       "rooms                      2.00        3.0         19.0  \n",
       "ceiling_height             2.65        2.8        100.0  \n",
       "floors_total               9.00       16.0         60.0  \n",
       "living_area               30.00       42.3        409.7  \n",
       "floor                      4.00        8.0         33.0  \n",
       "kitchen_area               9.10       12.0        112.0  \n",
       "balcony                    1.00        2.0          5.0  \n",
       "airports_nearest       26726.00    37273.0      84869.0  \n",
       "cityCenters_nearest    13098.50    16293.0      65968.0  \n",
       "parks_around3000           0.00        1.0          3.0  \n",
       "parks_nearest            455.00      612.0       3190.0  \n",
       "ponds_around3000           1.00        1.0          3.0  \n",
       "ponds_nearest            502.00      729.0       1344.0  \n",
       "days_exposition           95.00      232.0       1580.0  "
      ]
     },
     "execution_count": 969,
     "metadata": {},
     "output_type": "execute_result"
    }
   ],
   "source": [
    "df.describe().T"
   ]
  },
  {
   "cell_type": "markdown",
   "metadata": {},
   "source": [
    "* `ceiling_height` максимальное 100 метров. Странное значение. Возвожно выбросы.\n",
    "* `rooms` минимальное 0. Тоже странное значение. Возможно так обозначают студии."
   ]
  },
  {
   "cell_type": "code",
   "execution_count": 970,
   "metadata": {
    "scrolled": false
   },
   "outputs": [
    {
     "data": {
      "text/plain": [
       "<AxesSubplot:>"
      ]
     },
     "execution_count": 970,
     "metadata": {},
     "output_type": "execute_result"
    },
    {
     "data": {
      "image/png": "[encoded data removed]",
      "text/plain": [
       "<Figure size 936x360 with 2 Axes>"
      ]
     },
     "metadata": {},
     "output_type": "display_data"
    }
   ],
   "source": [
    "sns.heatmap(data=df.corr(), vmin=-1, vmax=1, cmap='coolwarm', square=True)"
   ]
  },
  {
   "cell_type": "markdown",
   "metadata": {},
   "source": [
    "Интересные корреляции у:\n",
    "* `living_area` - `rooms`\n",
    "* `total_area` - `rooms`"
   ]
  },
  {
   "cell_type": "code",
   "execution_count": 971,
   "metadata": {},
   "outputs": [],
   "source": [
    "def describe_cols(df):\n",
    "    \n",
    "    values = pd.DataFrame()\n",
    "    \n",
    "    for col in df.columns:\n",
    "        values[col] = [df[col].unique(), df[col].nunique()]\n",
    "        \n",
    "    return values.transpose().sort_values(by=1, ascending=True).rename(\n",
    "        {0: 'Значения', 1: 'Кол-во уникальных значений'}, axis=1)"
   ]
  },
  {
   "cell_type": "code",
   "execution_count": 972,
   "metadata": {
    "scrolled": false
   },
   "outputs": [
    {
     "data": {
      "text/html": [
       "<div>\n",
       "<style scoped>\n",
       "    .dataframe tbody tr th:only-of-type {\n",
       "        vertical-align: middle;\n",
       "    }\n",
       "\n",
       "    .dataframe tbody tr th {\n",
       "        vertical-align: top;\n",
       "    }\n",
       "\n",
       "    .dataframe thead th {\n",
       "        text-align: right;\n",
       "    }\n",
       "</style>\n",
       "<table border=\"1\" class=\"dataframe\">\n",
       "  <thead>\n",
       "    <tr style=\"text-align: right;\">\n",
       "      <th></th>\n",
       "      <th>Значения</th>\n",
       "      <th>Кол-во уникальных значений</th>\n",
       "    </tr>\n",
       "  </thead>\n",
       "  <tbody>\n",
       "    <tr>\n",
       "      <th>studio</th>\n",
       "      <td>[False, True]</td>\n",
       "      <td>2</td>\n",
       "    </tr>\n",
       "    <tr>\n",
       "      <th>open_plan</th>\n",
       "      <td>[False, True]</td>\n",
       "      <td>2</td>\n",
       "    </tr>\n",
       "    <tr>\n",
       "      <th>is_apartment</th>\n",
       "      <td>[nan, False, True]</td>\n",
       "      <td>2</td>\n",
       "    </tr>\n",
       "    <tr>\n",
       "      <th>ponds_around3000</th>\n",
       "      <td>[2.0, 0.0, 3.0, 1.0, nan]</td>\n",
       "      <td>4</td>\n",
       "    </tr>\n",
       "    <tr>\n",
       "      <th>parks_around3000</th>\n",
       "      <td>[1.0, 0.0, 2.0, nan, 3.0]</td>\n",
       "      <td>4</td>\n",
       "    </tr>\n",
       "    <tr>\n",
       "      <th>balcony</th>\n",
       "      <td>[nan, 2.0, 0.0, 1.0, 5.0, 4.0, 3.0]</td>\n",
       "      <td>6</td>\n",
       "    </tr>\n",
       "    <tr>\n",
       "      <th>rooms</th>\n",
       "      <td>[3, 1, 2, 4, 5, 6, 0, 7, 11, 8, 14, 10, 15, 9,...</td>\n",
       "      <td>17</td>\n",
       "    </tr>\n",
       "    <tr>\n",
       "      <th>floor</th>\n",
       "      <td>[8, 1, 4, 9, 13, 5, 6, 22, 26, 7, 3, 2, 11, 15...</td>\n",
       "      <td>33</td>\n",
       "    </tr>\n",
       "    <tr>\n",
       "      <th>floors_total</th>\n",
       "      <td>[16.0, 11.0, 5.0, 14.0, 12.0, 26.0, 24.0, 27.0...</td>\n",
       "      <td>36</td>\n",
       "    </tr>\n",
       "    <tr>\n",
       "      <th>total_images</th>\n",
       "      <td>[20, 7, 10, 0, 2, 6, 5, 18, 9, 1, 16, 11, 8, 1...</td>\n",
       "      <td>38</td>\n",
       "    </tr>\n",
       "    <tr>\n",
       "      <th>ceiling_height</th>\n",
       "      <td>[2.7, nan, 3.03, 2.5, 2.67, 2.56, 3.05, 2.75, ...</td>\n",
       "      <td>183</td>\n",
       "    </tr>\n",
       "    <tr>\n",
       "      <th>locality_name</th>\n",
       "      <td>[Санкт-Петербург, посёлок Шушары, городской по...</td>\n",
       "      <td>364</td>\n",
       "    </tr>\n",
       "    <tr>\n",
       "      <th>kitchen_area</th>\n",
       "      <td>[25.0, 11.0, 8.3, nan, 41.0, 9.1, 14.4, 18.9, ...</td>\n",
       "      <td>971</td>\n",
       "    </tr>\n",
       "    <tr>\n",
       "      <th>parks_nearest</th>\n",
       "      <td>[482.0, nan, 90.0, 84.0, 112.0, 310.0, 294.0, ...</td>\n",
       "      <td>995</td>\n",
       "    </tr>\n",
       "    <tr>\n",
       "      <th>ponds_nearest</th>\n",
       "      <td>[755.0, nan, 574.0, 234.0, 48.0, 553.0, 298.0,...</td>\n",
       "      <td>1096</td>\n",
       "    </tr>\n",
       "    <tr>\n",
       "      <th>days_exposition</th>\n",
       "      <td>[nan, 81.0, 558.0, 424.0, 121.0, 55.0, 155.0, ...</td>\n",
       "      <td>1141</td>\n",
       "    </tr>\n",
       "    <tr>\n",
       "      <th>first_day_exposition</th>\n",
       "      <td>[2019-03-07T00:00:00, 2018-12-04T00:00:00, 201...</td>\n",
       "      <td>1491</td>\n",
       "    </tr>\n",
       "    <tr>\n",
       "      <th>living_area</th>\n",
       "      <td>[51.0, 18.6, 34.3, nan, 32.0, 14.4, 10.6, 15.4...</td>\n",
       "      <td>1782</td>\n",
       "    </tr>\n",
       "    <tr>\n",
       "      <th>total_area</th>\n",
       "      <td>[108.0, 40.4, 56.0, 159.0, 100.0, 30.4, 37.3, ...</td>\n",
       "      <td>2182</td>\n",
       "    </tr>\n",
       "    <tr>\n",
       "      <th>last_price</th>\n",
       "      <td>[13000000.0, 3350000.0, 5196000.0, 64900000.0,...</td>\n",
       "      <td>2978</td>\n",
       "    </tr>\n",
       "    <tr>\n",
       "      <th>cityCenters_nearest</th>\n",
       "      <td>[16028.0, 18603.0, 13933.0, 6800.0, 8098.0, na...</td>\n",
       "      <td>7642</td>\n",
       "    </tr>\n",
       "    <tr>\n",
       "      <th>airports_nearest</th>\n",
       "      <td>[18863.0, 12817.0, 21741.0, 28098.0, 31856.0, ...</td>\n",
       "      <td>8275</td>\n",
       "    </tr>\n",
       "  </tbody>\n",
       "</table>\n",
       "</div>"
      ],
      "text/plain": [
       "                                                               Значения  \\\n",
       "studio                                                    [False, True]   \n",
       "open_plan                                                 [False, True]   \n",
       "is_apartment                                         [nan, False, True]   \n",
       "ponds_around3000                              [2.0, 0.0, 3.0, 1.0, nan]   \n",
       "parks_around3000                              [1.0, 0.0, 2.0, nan, 3.0]   \n",
       "balcony                             [nan, 2.0, 0.0, 1.0, 5.0, 4.0, 3.0]   \n",
       "rooms                 [3, 1, 2, 4, 5, 6, 0, 7, 11, 8, 14, 10, 15, 9,...   \n",
       "floor                 [8, 1, 4, 9, 13, 5, 6, 22, 26, 7, 3, 2, 11, 15...   \n",
       "floors_total          [16.0, 11.0, 5.0, 14.0, 12.0, 26.0, 24.0, 27.0...   \n",
       "total_images          [20, 7, 10, 0, 2, 6, 5, 18, 9, 1, 16, 11, 8, 1...   \n",
       "ceiling_height        [2.7, nan, 3.03, 2.5, 2.67, 2.56, 3.05, 2.75, ...   \n",
       "locality_name         [Санкт-Петербург, посёлок Шушары, городской по...   \n",
       "kitchen_area          [25.0, 11.0, 8.3, nan, 41.0, 9.1, 14.4, 18.9, ...   \n",
       "parks_nearest         [482.0, nan, 90.0, 84.0, 112.0, 310.0, 294.0, ...   \n",
       "ponds_nearest         [755.0, nan, 574.0, 234.0, 48.0, 553.0, 298.0,...   \n",
       "days_exposition       [nan, 81.0, 558.0, 424.0, 121.0, 55.0, 155.0, ...   \n",
       "first_day_exposition  [2019-03-07T00:00:00, 2018-12-04T00:00:00, 201...   \n",
       "living_area           [51.0, 18.6, 34.3, nan, 32.0, 14.4, 10.6, 15.4...   \n",
       "total_area            [108.0, 40.4, 56.0, 159.0, 100.0, 30.4, 37.3, ...   \n",
       "last_price            [13000000.0, 3350000.0, 5196000.0, 64900000.0,...   \n",
       "cityCenters_nearest   [16028.0, 18603.0, 13933.0, 6800.0, 8098.0, na...   \n",
       "airports_nearest      [18863.0, 12817.0, 21741.0, 28098.0, 31856.0, ...   \n",
       "\n",
       "                     Кол-во уникальных значений  \n",
       "studio                                        2  \n",
       "open_plan                                     2  \n",
       "is_apartment                                  2  \n",
       "ponds_around3000                              4  \n",
       "parks_around3000                              4  \n",
       "balcony                                       6  \n",
       "rooms                                        17  \n",
       "floor                                        33  \n",
       "floors_total                                 36  \n",
       "total_images                                 38  \n",
       "ceiling_height                              183  \n",
       "locality_name                               364  \n",
       "kitchen_area                                971  \n",
       "parks_nearest                               995  \n",
       "ponds_nearest                              1096  \n",
       "days_exposition                            1141  \n",
       "first_day_exposition                       1491  \n",
       "living_area                                1782  \n",
       "total_area                                 2182  \n",
       "last_price                                 2978  \n",
       "cityCenters_nearest                        7642  \n",
       "airports_nearest                           8275  "
      ]
     },
     "execution_count": 972,
     "metadata": {},
     "output_type": "execute_result"
    }
   ],
   "source": [
    "describe_cols(df)"
   ]
  },
  {
   "cell_type": "code",
   "execution_count": 973,
   "metadata": {},
   "outputs": [
    {
     "data": {
      "text/plain": [
       "45.0      880\n",
       "60.0      538\n",
       "7.0       234\n",
       "30.0      208\n",
       "90.0      204\n",
       "         ... \n",
       "969.0       1\n",
       "1.0         1\n",
       "1147.0      1\n",
       "1148.0      1\n",
       "1174.0      1\n",
       "Name: days_exposition, Length: 1141, dtype: int64"
      ]
     },
     "execution_count": 973,
     "metadata": {},
     "output_type": "execute_result"
    }
   ],
   "source": [
    "df['days_exposition'].value_counts()"
   ]
  },
  {
   "cell_type": "code",
   "execution_count": 974,
   "metadata": {
    "scrolled": false
   },
   "outputs": [
    {
     "data": {
      "text/plain": [
       "total_images              int64\n",
       "last_price              float64\n",
       "total_area              float64\n",
       "first_day_exposition     object\n",
       "rooms                     int64\n",
       "ceiling_height          float64\n",
       "floors_total            float64\n",
       "living_area             float64\n",
       "floor                     int64\n",
       "is_apartment             object\n",
       "studio                     bool\n",
       "open_plan                  bool\n",
       "kitchen_area            float64\n",
       "balcony                 float64\n",
       "locality_name            object\n",
       "airports_nearest        float64\n",
       "cityCenters_nearest     float64\n",
       "parks_around3000        float64\n",
       "parks_nearest           float64\n",
       "ponds_around3000        float64\n",
       "ponds_nearest           float64\n",
       "days_exposition         float64\n",
       "dtype: object"
      ]
     },
     "execution_count": 974,
     "metadata": {},
     "output_type": "execute_result"
    }
   ],
   "source": [
    "df.dtypes"
   ]
  },
  {
   "cell_type": "markdown",
   "metadata": {},
   "source": [
    "Колонку `is_apartment` хорошо было бы привести к типу `bool`.\n",
    "\n",
    "Колонки `balcony`, `floors_total`, `days_exposition`, `parks_around3000`, `ponds_around3000` - к `int64`"
   ]
  },
  {
   "cell_type": "markdown",
   "metadata": {},
   "source": [
    "### Вывод"
   ]
  },
  {
   "cell_type": "markdown",
   "metadata": {},
   "source": [
    "В данных есть пропуски. Некоторые пропуски можно заполнить. Некоторые нельзя. Можно попробовать разбить на группы и посмотреть как именно заполнять."
   ]
  },
  {
   "cell_type": "markdown",
   "metadata": {},
   "source": [
    "## Предобработка данных"
   ]
  },
  {
   "cell_type": "markdown",
   "metadata": {},
   "source": [
    "### `balcony`"
   ]
  },
  {
   "cell_type": "markdown",
   "metadata": {},
   "source": [
    "Сначала заполним пропуски в `balcony`. Там, где пропуски - балкона нет."
   ]
  },
  {
   "cell_type": "code",
   "execution_count": 975,
   "metadata": {},
   "outputs": [],
   "source": [
    "df['balcony'] = df['balcony'].fillna(0)"
   ]
  },
  {
   "cell_type": "code",
   "execution_count": 976,
   "metadata": {
    "scrolled": true
   },
   "outputs": [
    {
     "data": {
      "text/plain": [
       "0"
      ]
     },
     "execution_count": 976,
     "metadata": {},
     "output_type": "execute_result"
    }
   ],
   "source": [
    "# Проверяем, что пропусков не осталось.\n",
    "df['balcony'].isna().sum()"
   ]
  },
  {
   "cell_type": "code",
   "execution_count": 977,
   "metadata": {},
   "outputs": [],
   "source": [
    "# Теперь приведение типа.\n",
    "df['balcony'] = df['balcony'].astype('int')"
   ]
  },
  {
   "cell_type": "code",
   "execution_count": 978,
   "metadata": {},
   "outputs": [
    {
     "data": {
      "text/plain": [
       "total_images              int64\n",
       "last_price              float64\n",
       "total_area              float64\n",
       "first_day_exposition     object\n",
       "rooms                     int64\n",
       "ceiling_height          float64\n",
       "floors_total            float64\n",
       "living_area             float64\n",
       "floor                     int64\n",
       "is_apartment             object\n",
       "studio                     bool\n",
       "open_plan                  bool\n",
       "kitchen_area            float64\n",
       "balcony                   int64\n",
       "locality_name            object\n",
       "airports_nearest        float64\n",
       "cityCenters_nearest     float64\n",
       "parks_around3000        float64\n",
       "parks_nearest           float64\n",
       "ponds_around3000        float64\n",
       "ponds_nearest           float64\n",
       "days_exposition         float64\n",
       "dtype: object"
      ]
     },
     "execution_count": 978,
     "metadata": {},
     "output_type": "execute_result"
    }
   ],
   "source": [
    "df.dtypes"
   ]
  },
  {
   "cell_type": "markdown",
   "metadata": {},
   "source": [
    "### `first_day_exposition`"
   ]
  },
  {
   "cell_type": "code",
   "execution_count": 979,
   "metadata": {},
   "outputs": [],
   "source": [
    "# Приведем колонку `first_day_exposition` к типу `datetime`.\n",
    "df['first_day_exposition'] = pd.to_datetime(df['first_day_exposition'], format=\"%Y-%m-%dT%H:%M:%S\")"
   ]
  },
  {
   "cell_type": "code",
   "execution_count": 980,
   "metadata": {
    "scrolled": true
   },
   "outputs": [
    {
     "data": {
      "text/plain": [
       "total_images                     int64\n",
       "last_price                     float64\n",
       "total_area                     float64\n",
       "first_day_exposition    datetime64[ns]\n",
       "rooms                            int64\n",
       "ceiling_height                 float64\n",
       "floors_total                   float64\n",
       "living_area                    float64\n",
       "floor                            int64\n",
       "is_apartment                    object\n",
       "studio                            bool\n",
       "open_plan                         bool\n",
       "kitchen_area                   float64\n",
       "balcony                          int64\n",
       "locality_name                   object\n",
       "airports_nearest               float64\n",
       "cityCenters_nearest            float64\n",
       "parks_around3000               float64\n",
       "parks_nearest                  float64\n",
       "ponds_around3000               float64\n",
       "ponds_nearest                  float64\n",
       "days_exposition                float64\n",
       "dtype: object"
      ]
     },
     "execution_count": 980,
     "metadata": {},
     "output_type": "execute_result"
    }
   ],
   "source": [
    "df.dtypes"
   ]
  },
  {
   "cell_type": "markdown",
   "metadata": {},
   "source": [
    "### `is_apartment`"
   ]
  },
  {
   "cell_type": "code",
   "execution_count": 981,
   "metadata": {
    "scrolled": true
   },
   "outputs": [
    {
     "data": {
      "text/html": [
       "<div>\n",
       "<style scoped>\n",
       "    .dataframe tbody tr th:only-of-type {\n",
       "        vertical-align: middle;\n",
       "    }\n",
       "\n",
       "    .dataframe tbody tr th {\n",
       "        vertical-align: top;\n",
       "    }\n",
       "\n",
       "    .dataframe thead th {\n",
       "        text-align: right;\n",
       "    }\n",
       "</style>\n",
       "<table border=\"1\" class=\"dataframe\">\n",
       "  <thead>\n",
       "    <tr style=\"text-align: right;\">\n",
       "      <th></th>\n",
       "      <th>total_images</th>\n",
       "      <th>last_price</th>\n",
       "      <th>total_area</th>\n",
       "      <th>first_day_exposition</th>\n",
       "      <th>rooms</th>\n",
       "      <th>ceiling_height</th>\n",
       "      <th>floors_total</th>\n",
       "      <th>living_area</th>\n",
       "      <th>floor</th>\n",
       "      <th>is_apartment</th>\n",
       "      <th>...</th>\n",
       "      <th>kitchen_area</th>\n",
       "      <th>balcony</th>\n",
       "      <th>locality_name</th>\n",
       "      <th>airports_nearest</th>\n",
       "      <th>cityCenters_nearest</th>\n",
       "      <th>parks_around3000</th>\n",
       "      <th>parks_nearest</th>\n",
       "      <th>ponds_around3000</th>\n",
       "      <th>ponds_nearest</th>\n",
       "      <th>days_exposition</th>\n",
       "    </tr>\n",
       "  </thead>\n",
       "  <tbody>\n",
       "    <tr>\n",
       "      <th>3076</th>\n",
       "      <td>20</td>\n",
       "      <td>2000000.0</td>\n",
       "      <td>80.0</td>\n",
       "      <td>2018-01-03</td>\n",
       "      <td>3</td>\n",
       "      <td>NaN</td>\n",
       "      <td>1.0</td>\n",
       "      <td>48.5</td>\n",
       "      <td>1</td>\n",
       "      <td>NaN</td>\n",
       "      <td>...</td>\n",
       "      <td>10.0</td>\n",
       "      <td>0</td>\n",
       "      <td>Волосово</td>\n",
       "      <td>NaN</td>\n",
       "      <td>NaN</td>\n",
       "      <td>NaN</td>\n",
       "      <td>NaN</td>\n",
       "      <td>NaN</td>\n",
       "      <td>NaN</td>\n",
       "      <td>44.0</td>\n",
       "    </tr>\n",
       "    <tr>\n",
       "      <th>4379</th>\n",
       "      <td>5</td>\n",
       "      <td>5300000.0</td>\n",
       "      <td>58.5</td>\n",
       "      <td>2017-11-15</td>\n",
       "      <td>2</td>\n",
       "      <td>NaN</td>\n",
       "      <td>1.0</td>\n",
       "      <td>31.6</td>\n",
       "      <td>1</td>\n",
       "      <td>NaN</td>\n",
       "      <td>...</td>\n",
       "      <td>9.4</td>\n",
       "      <td>0</td>\n",
       "      <td>поселок городского типа Рощино</td>\n",
       "      <td>NaN</td>\n",
       "      <td>NaN</td>\n",
       "      <td>NaN</td>\n",
       "      <td>NaN</td>\n",
       "      <td>NaN</td>\n",
       "      <td>NaN</td>\n",
       "      <td>226.0</td>\n",
       "    </tr>\n",
       "    <tr>\n",
       "      <th>5300</th>\n",
       "      <td>5</td>\n",
       "      <td>2990000.0</td>\n",
       "      <td>60.0</td>\n",
       "      <td>2018-11-15</td>\n",
       "      <td>3</td>\n",
       "      <td>NaN</td>\n",
       "      <td>1.0</td>\n",
       "      <td>50.0</td>\n",
       "      <td>1</td>\n",
       "      <td>NaN</td>\n",
       "      <td>...</td>\n",
       "      <td>10.0</td>\n",
       "      <td>0</td>\n",
       "      <td>поселок станции Вещево</td>\n",
       "      <td>NaN</td>\n",
       "      <td>NaN</td>\n",
       "      <td>NaN</td>\n",
       "      <td>NaN</td>\n",
       "      <td>NaN</td>\n",
       "      <td>NaN</td>\n",
       "      <td>40.0</td>\n",
       "    </tr>\n",
       "    <tr>\n",
       "      <th>5698</th>\n",
       "      <td>7</td>\n",
       "      <td>450000.0</td>\n",
       "      <td>42.0</td>\n",
       "      <td>2017-07-31</td>\n",
       "      <td>2</td>\n",
       "      <td>NaN</td>\n",
       "      <td>1.0</td>\n",
       "      <td>23.0</td>\n",
       "      <td>1</td>\n",
       "      <td>NaN</td>\n",
       "      <td>...</td>\n",
       "      <td>5.8</td>\n",
       "      <td>0</td>\n",
       "      <td>городской посёлок Будогощь</td>\n",
       "      <td>NaN</td>\n",
       "      <td>NaN</td>\n",
       "      <td>NaN</td>\n",
       "      <td>NaN</td>\n",
       "      <td>NaN</td>\n",
       "      <td>NaN</td>\n",
       "      <td>233.0</td>\n",
       "    </tr>\n",
       "    <tr>\n",
       "      <th>5787</th>\n",
       "      <td>16</td>\n",
       "      <td>9000000.0</td>\n",
       "      <td>88.0</td>\n",
       "      <td>2018-08-06</td>\n",
       "      <td>3</td>\n",
       "      <td>NaN</td>\n",
       "      <td>1.0</td>\n",
       "      <td>NaN</td>\n",
       "      <td>1</td>\n",
       "      <td>NaN</td>\n",
       "      <td>...</td>\n",
       "      <td>NaN</td>\n",
       "      <td>0</td>\n",
       "      <td>Санкт-Петербург</td>\n",
       "      <td>44870.0</td>\n",
       "      <td>20802.0</td>\n",
       "      <td>0.0</td>\n",
       "      <td>NaN</td>\n",
       "      <td>1.0</td>\n",
       "      <td>792.0</td>\n",
       "      <td>60.0</td>\n",
       "    </tr>\n",
       "  </tbody>\n",
       "</table>\n",
       "<p>5 rows × 22 columns</p>\n",
       "</div>"
      ],
      "text/plain": [
       "      total_images  last_price  total_area first_day_exposition  rooms  \\\n",
       "3076            20   2000000.0        80.0           2018-01-03      3   \n",
       "4379             5   5300000.0        58.5           2017-11-15      2   \n",
       "5300             5   2990000.0        60.0           2018-11-15      3   \n",
       "5698             7    450000.0        42.0           2017-07-31      2   \n",
       "5787            16   9000000.0        88.0           2018-08-06      3   \n",
       "\n",
       "      ceiling_height  floors_total  living_area  floor is_apartment  ...  \\\n",
       "3076             NaN           1.0         48.5      1          NaN  ...   \n",
       "4379             NaN           1.0         31.6      1          NaN  ...   \n",
       "5300             NaN           1.0         50.0      1          NaN  ...   \n",
       "5698             NaN           1.0         23.0      1          NaN  ...   \n",
       "5787             NaN           1.0          NaN      1          NaN  ...   \n",
       "\n",
       "      kitchen_area  balcony                   locality_name  airports_nearest  \\\n",
       "3076          10.0        0                        Волосово               NaN   \n",
       "4379           9.4        0  поселок городского типа Рощино               NaN   \n",
       "5300          10.0        0          поселок станции Вещево               NaN   \n",
       "5698           5.8        0      городской посёлок Будогощь               NaN   \n",
       "5787           NaN        0                 Санкт-Петербург           44870.0   \n",
       "\n",
       "     cityCenters_nearest  parks_around3000  parks_nearest  ponds_around3000  \\\n",
       "3076                 NaN               NaN            NaN               NaN   \n",
       "4379                 NaN               NaN            NaN               NaN   \n",
       "5300                 NaN               NaN            NaN               NaN   \n",
       "5698                 NaN               NaN            NaN               NaN   \n",
       "5787             20802.0               0.0            NaN               1.0   \n",
       "\n",
       "      ponds_nearest  days_exposition  \n",
       "3076            NaN             44.0  \n",
       "4379            NaN            226.0  \n",
       "5300            NaN             40.0  \n",
       "5698            NaN            233.0  \n",
       "5787          792.0             60.0  \n",
       "\n",
       "[5 rows x 22 columns]"
      ]
     },
     "execution_count": 981,
     "metadata": {},
     "output_type": "execute_result"
    }
   ],
   "source": [
    "df[(df['is_apartment'].isna()) & (df['floors_total'] < 2)].head()"
   ]
  },
  {
   "cell_type": "markdown",
   "metadata": {},
   "source": [
    "[Мы не можем быть полностью уверены в том, что дома с максимальным значением этажей равным 1]('https://shiva16.livejournal.com/61245.html') - частные, но это наиболее вероятно. Заполним `is_apartment False`, где `floors_total == 1`"
   ]
  },
  {
   "cell_type": "code",
   "execution_count": 982,
   "metadata": {},
   "outputs": [],
   "source": [
    "df.loc[(df['is_apartment'].isna()) & (df['floors_total'] < 2), 'is_apartment'] = False"
   ]
  },
  {
   "cell_type": "code",
   "execution_count": 983,
   "metadata": {
    "scrolled": true
   },
   "outputs": [
    {
     "data": {
      "text/plain": [
       "(0, 22)"
      ]
     },
     "execution_count": 983,
     "metadata": {},
     "output_type": "execute_result"
    }
   ],
   "source": [
    "df[(df['is_apartment'].isna()) & (df['floors_total'] < 2)].shape"
   ]
  },
  {
   "cell_type": "markdown",
   "metadata": {},
   "source": [
    "[Дома, с этажностью более 13 скорее всего будут многоквартирными.]('https://ru.wikipedia.org/wiki/%D0%94%D0%BE%D0%BC_%D0%A1%D1%83%D1%82%D1%8F%D0%B3%D0%B8%D0%BD%D0%B0')"
   ]
  },
  {
   "cell_type": "code",
   "execution_count": 984,
   "metadata": {},
   "outputs": [],
   "source": [
    "df.loc[(df['is_apartment'].isna()) & (df['floors_total'] > 13), 'is_apartment'] = True"
   ]
  },
  {
   "cell_type": "code",
   "execution_count": 985,
   "metadata": {
    "scrolled": true
   },
   "outputs": [
    {
     "data": {
      "text/plain": [
       "14776"
      ]
     },
     "execution_count": 985,
     "metadata": {},
     "output_type": "execute_result"
    }
   ],
   "source": [
    "df['is_apartment'].isna().sum()"
   ]
  },
  {
   "cell_type": "code",
   "execution_count": 986,
   "metadata": {},
   "outputs": [],
   "source": [
    "# Приведем тип `is_apartment` к `bool`.\n",
    "df['is_apartment'] = df['is_apartment'].astype('boolean')"
   ]
  },
  {
   "cell_type": "code",
   "execution_count": 987,
   "metadata": {
    "scrolled": true
   },
   "outputs": [
    {
     "data": {
      "text/plain": [
       "total_images                     int64\n",
       "last_price                     float64\n",
       "total_area                     float64\n",
       "first_day_exposition    datetime64[ns]\n",
       "rooms                            int64\n",
       "ceiling_height                 float64\n",
       "floors_total                   float64\n",
       "living_area                    float64\n",
       "floor                            int64\n",
       "is_apartment                   boolean\n",
       "studio                            bool\n",
       "open_plan                         bool\n",
       "kitchen_area                   float64\n",
       "balcony                          int64\n",
       "locality_name                   object\n",
       "airports_nearest               float64\n",
       "cityCenters_nearest            float64\n",
       "parks_around3000               float64\n",
       "parks_nearest                  float64\n",
       "ponds_around3000               float64\n",
       "ponds_nearest                  float64\n",
       "days_exposition                float64\n",
       "dtype: object"
      ]
     },
     "execution_count": 987,
     "metadata": {},
     "output_type": "execute_result"
    }
   ],
   "source": [
    "# Проверяем тип\n",
    "df.dtypes"
   ]
  },
  {
   "cell_type": "markdown",
   "metadata": {},
   "source": [
    "### `floor` и `floors_total`"
   ]
  },
  {
   "cell_type": "markdown",
   "metadata": {},
   "source": [
    "Проверим, если ли аномалии: этаж недвижимости больше максимального."
   ]
  },
  {
   "cell_type": "code",
   "execution_count": 988,
   "metadata": {},
   "outputs": [
    {
     "data": {
      "text/plain": [
       "(0, 22)"
      ]
     },
     "execution_count": 988,
     "metadata": {},
     "output_type": "execute_result"
    }
   ],
   "source": [
    "df[df['floor'] > df['floors_total']].shape"
   ]
  },
  {
   "cell_type": "code",
   "execution_count": 989,
   "metadata": {
    "scrolled": false
   },
   "outputs": [
    {
     "data": {
      "text/plain": [
       "<AxesSubplot:xlabel='floor', ylabel='Count'>"
      ]
     },
     "execution_count": 989,
     "metadata": {},
     "output_type": "execute_result"
    },
    {
     "data": {
      "image/png": "[encoded data removed]",
      "text/plain": [
       "<Figure size 936x360 with 1 Axes>"
      ]
     },
     "metadata": {},
     "output_type": "display_data"
    }
   ],
   "source": [
    "sns.histplot(df['floor'])"
   ]
  },
  {
   "cell_type": "code",
   "execution_count": 990,
   "metadata": {
    "scrolled": true
   },
   "outputs": [
    {
     "data": {
      "text/plain": [
       "count    23699.000000\n",
       "mean         5.892358\n",
       "std          4.885249\n",
       "min          1.000000\n",
       "25%          2.000000\n",
       "50%          4.000000\n",
       "75%          8.000000\n",
       "max         33.000000\n",
       "Name: floor, dtype: float64"
      ]
     },
     "execution_count": 990,
     "metadata": {},
     "output_type": "execute_result"
    }
   ],
   "source": [
    "df['floor'].describe()"
   ]
  },
  {
   "cell_type": "code",
   "execution_count": 991,
   "metadata": {},
   "outputs": [
    {
     "data": {
      "text/plain": [
       "total_images                     int64\n",
       "last_price                     float64\n",
       "total_area                     float64\n",
       "first_day_exposition    datetime64[ns]\n",
       "rooms                            int64\n",
       "ceiling_height                 float64\n",
       "floors_total                     Int32\n",
       "living_area                    float64\n",
       "floor                            int64\n",
       "is_apartment                   boolean\n",
       "studio                            bool\n",
       "open_plan                         bool\n",
       "kitchen_area                   float64\n",
       "balcony                          int64\n",
       "locality_name                   object\n",
       "airports_nearest               float64\n",
       "cityCenters_nearest            float64\n",
       "parks_around3000               float64\n",
       "parks_nearest                  float64\n",
       "ponds_around3000               float64\n",
       "ponds_nearest                  float64\n",
       "days_exposition                float64\n",
       "dtype: object"
      ]
     },
     "execution_count": 991,
     "metadata": {},
     "output_type": "execute_result"
    }
   ],
   "source": [
    "# приведем к типу int floors_total\n",
    "df['floors_total'] = df['floors_total'].astype('Int32')\n",
    "df.dtypes"
   ]
  },
  {
   "cell_type": "markdown",
   "metadata": {},
   "source": [
    "### `rooms`"
   ]
  },
  {
   "cell_type": "code",
   "execution_count": 992,
   "metadata": {},
   "outputs": [
    {
     "data": {
      "text/html": [
       "<div>\n",
       "<style scoped>\n",
       "    .dataframe tbody tr th:only-of-type {\n",
       "        vertical-align: middle;\n",
       "    }\n",
       "\n",
       "    .dataframe tbody tr th {\n",
       "        vertical-align: top;\n",
       "    }\n",
       "\n",
       "    .dataframe thead th {\n",
       "        text-align: right;\n",
       "    }\n",
       "</style>\n",
       "<table border=\"1\" class=\"dataframe\">\n",
       "  <thead>\n",
       "    <tr style=\"text-align: right;\">\n",
       "      <th></th>\n",
       "      <th>rooms</th>\n",
       "      <th>living_area</th>\n",
       "      <th>total_area</th>\n",
       "      <th>kitchen_area</th>\n",
       "    </tr>\n",
       "  </thead>\n",
       "  <tbody>\n",
       "    <tr>\n",
       "      <th>144</th>\n",
       "      <td>0</td>\n",
       "      <td>15.50</td>\n",
       "      <td>27.00</td>\n",
       "      <td>NaN</td>\n",
       "    </tr>\n",
       "    <tr>\n",
       "      <th>349</th>\n",
       "      <td>0</td>\n",
       "      <td>17.00</td>\n",
       "      <td>25.00</td>\n",
       "      <td>NaN</td>\n",
       "    </tr>\n",
       "    <tr>\n",
       "      <th>440</th>\n",
       "      <td>0</td>\n",
       "      <td>24.75</td>\n",
       "      <td>27.11</td>\n",
       "      <td>NaN</td>\n",
       "    </tr>\n",
       "    <tr>\n",
       "      <th>508</th>\n",
       "      <td>0</td>\n",
       "      <td>24.30</td>\n",
       "      <td>34.40</td>\n",
       "      <td>NaN</td>\n",
       "    </tr>\n",
       "    <tr>\n",
       "      <th>608</th>\n",
       "      <td>0</td>\n",
       "      <td>NaN</td>\n",
       "      <td>25.00</td>\n",
       "      <td>NaN</td>\n",
       "    </tr>\n",
       "    <tr>\n",
       "      <th>...</th>\n",
       "      <td>...</td>\n",
       "      <td>...</td>\n",
       "      <td>...</td>\n",
       "      <td>...</td>\n",
       "    </tr>\n",
       "    <tr>\n",
       "      <th>23210</th>\n",
       "      <td>0</td>\n",
       "      <td>18.00</td>\n",
       "      <td>26.00</td>\n",
       "      <td>NaN</td>\n",
       "    </tr>\n",
       "    <tr>\n",
       "      <th>23442</th>\n",
       "      <td>0</td>\n",
       "      <td>18.00</td>\n",
       "      <td>27.70</td>\n",
       "      <td>NaN</td>\n",
       "    </tr>\n",
       "    <tr>\n",
       "      <th>23554</th>\n",
       "      <td>0</td>\n",
       "      <td>NaN</td>\n",
       "      <td>26.00</td>\n",
       "      <td>NaN</td>\n",
       "    </tr>\n",
       "    <tr>\n",
       "      <th>23592</th>\n",
       "      <td>0</td>\n",
       "      <td>18.00</td>\n",
       "      <td>29.00</td>\n",
       "      <td>NaN</td>\n",
       "    </tr>\n",
       "    <tr>\n",
       "      <th>23637</th>\n",
       "      <td>0</td>\n",
       "      <td>17.00</td>\n",
       "      <td>26.00</td>\n",
       "      <td>NaN</td>\n",
       "    </tr>\n",
       "  </tbody>\n",
       "</table>\n",
       "<p>197 rows × 4 columns</p>\n",
       "</div>"
      ],
      "text/plain": [
       "       rooms  living_area  total_area  kitchen_area\n",
       "144        0        15.50       27.00           NaN\n",
       "349        0        17.00       25.00           NaN\n",
       "440        0        24.75       27.11           NaN\n",
       "508        0        24.30       34.40           NaN\n",
       "608        0          NaN       25.00           NaN\n",
       "...      ...          ...         ...           ...\n",
       "23210      0        18.00       26.00           NaN\n",
       "23442      0        18.00       27.70           NaN\n",
       "23554      0          NaN       26.00           NaN\n",
       "23592      0        18.00       29.00           NaN\n",
       "23637      0        17.00       26.00           NaN\n",
       "\n",
       "[197 rows x 4 columns]"
      ]
     },
     "execution_count": 992,
     "metadata": {},
     "output_type": "execute_result"
    }
   ],
   "source": [
    "df.loc[df['rooms'] == 0, ['rooms', 'living_area', 'total_area', 'kitchen_area']]"
   ]
  },
  {
   "cell_type": "markdown",
   "metadata": {},
   "source": [
    "Не очень понятно почему указано 0 комнат, если есть жилая площадь. Данных не так много. 197 строк. Там, где известна жилая площадь укажем количество комнат 1."
   ]
  },
  {
   "cell_type": "code",
   "execution_count": 993,
   "metadata": {},
   "outputs": [],
   "source": [
    "df.loc[df['rooms'] == 0, 'rooms'] = 1"
   ]
  },
  {
   "cell_type": "code",
   "execution_count": 994,
   "metadata": {},
   "outputs": [
    {
     "data": {
      "text/plain": [
       "(0, 22)"
      ]
     },
     "execution_count": 994,
     "metadata": {},
     "output_type": "execute_result"
    }
   ],
   "source": [
    "df.loc[df['rooms'] == 0].shape"
   ]
  },
  {
   "cell_type": "code",
   "execution_count": 995,
   "metadata": {
    "scrolled": false
   },
   "outputs": [
    {
     "data": {
      "text/plain": [
       "<AxesSubplot:xlabel='rooms', ylabel='Count'>"
      ]
     },
     "execution_count": 995,
     "metadata": {},
     "output_type": "execute_result"
    },
    {
     "data": {
      "image/png": "[encoded data removed]",
      "text/plain": [
       "<Figure size 936x360 with 1 Axes>"
      ]
     },
     "metadata": {},
     "output_type": "display_data"
    }
   ],
   "source": [
    "sns.histplot(df['rooms'], bins=20, discrete=True, shrink=0.9, binrange=(0, 20))"
   ]
  },
  {
   "cell_type": "markdown",
   "metadata": {},
   "source": [
    "### `living_area`"
   ]
  },
  {
   "cell_type": "code",
   "execution_count": 996,
   "metadata": {
    "scrolled": false
   },
   "outputs": [
    {
     "data": {
      "text/plain": [
       "<AxesSubplot:xlabel='living_area', ylabel='Count'>"
      ]
     },
     "execution_count": 996,
     "metadata": {},
     "output_type": "execute_result"
    },
    {
     "data": {
      "image/png": "[encoded data removed]",
      "text/plain": [
       "<Figure size 936x360 with 1 Axes>"
      ]
     },
     "metadata": {},
     "output_type": "display_data"
    }
   ],
   "source": [
    "sns.histplot(df['living_area'])"
   ]
  },
  {
   "cell_type": "code",
   "execution_count": 997,
   "metadata": {
    "scrolled": true
   },
   "outputs": [
    {
     "data": {
      "text/plain": [
       "count    1903.000000\n",
       "mean        2.063058\n",
       "std         1.045352\n",
       "min         1.000000\n",
       "25%         1.000000\n",
       "50%         2.000000\n",
       "75%         3.000000\n",
       "max         9.000000\n",
       "Name: rooms, dtype: float64"
      ]
     },
     "execution_count": 997,
     "metadata": {},
     "output_type": "execute_result"
    }
   ],
   "source": [
    "df.loc[df['living_area'].isna(), 'rooms'].describe()"
   ]
  },
  {
   "cell_type": "markdown",
   "metadata": {},
   "source": [
    "Идея такая: заполнить NaN'ы медианным значением в зависимости от количества комнат. Сильно ли это улучшит данные - не ясно. Пропущенных данных чуть меньше 10%"
   ]
  },
  {
   "cell_type": "code",
   "execution_count": 998,
   "metadata": {
    "scrolled": true
   },
   "outputs": [
    {
     "data": {
      "text/plain": [
       "1903"
      ]
     },
     "execution_count": 998,
     "metadata": {},
     "output_type": "execute_result"
    }
   ],
   "source": [
    "df['living_area'].isna().sum()"
   ]
  },
  {
   "cell_type": "code",
   "execution_count": 999,
   "metadata": {},
   "outputs": [],
   "source": [
    "df['living_area'] = df['living_area'].fillna(df.groupby('rooms')['living_area'].transform('median'))"
   ]
  },
  {
   "cell_type": "code",
   "execution_count": 1000,
   "metadata": {
    "scrolled": true
   },
   "outputs": [
    {
     "data": {
      "text/plain": [
       "0"
      ]
     },
     "execution_count": 1000,
     "metadata": {},
     "output_type": "execute_result"
    }
   ],
   "source": [
    "df['living_area'].isna().sum()"
   ]
  },
  {
   "cell_type": "markdown",
   "metadata": {},
   "source": [
    "### `total_area`"
   ]
  },
  {
   "cell_type": "code",
   "execution_count": 1001,
   "metadata": {},
   "outputs": [
    {
     "data": {
      "text/plain": [
       "<AxesSubplot:xlabel='total_area', ylabel='Count'>"
      ]
     },
     "execution_count": 1001,
     "metadata": {},
     "output_type": "execute_result"
    },
    {
     "data": {
      "image/png": "[encoded data removed]",
      "text/plain": [
       "<Figure size 936x360 with 1 Axes>"
      ]
     },
     "metadata": {},
     "output_type": "display_data"
    }
   ],
   "source": [
    "sns.histplot(df['total_area'])"
   ]
  },
  {
   "cell_type": "code",
   "execution_count": 1002,
   "metadata": {},
   "outputs": [
    {
     "data": {
      "text/plain": [
       "0"
      ]
     },
     "execution_count": 1002,
     "metadata": {},
     "output_type": "execute_result"
    }
   ],
   "source": [
    "df['total_area'].isna().sum()"
   ]
  },
  {
   "cell_type": "markdown",
   "metadata": {},
   "source": [
    "### `kitchen_area`"
   ]
  },
  {
   "cell_type": "code",
   "execution_count": 1003,
   "metadata": {},
   "outputs": [
    {
     "data": {
      "text/plain": [
       "<AxesSubplot:xlabel='kitchen_area', ylabel='Count'>"
      ]
     },
     "execution_count": 1003,
     "metadata": {},
     "output_type": "execute_result"
    },
    {
     "data": {
      "image/png": "[encoded data removed]",
      "text/plain": [
       "<Figure size 936x360 with 1 Axes>"
      ]
     },
     "metadata": {},
     "output_type": "display_data"
    }
   ],
   "source": [
    "sns.histplot(df['kitchen_area'])"
   ]
  },
  {
   "cell_type": "code",
   "execution_count": 1004,
   "metadata": {
    "scrolled": true
   },
   "outputs": [
    {
     "data": {
      "text/plain": [
       "2278"
      ]
     },
     "execution_count": 1004,
     "metadata": {},
     "output_type": "execute_result"
    }
   ],
   "source": [
    "df['kitchen_area'].isna().sum()"
   ]
  },
  {
   "cell_type": "markdown",
   "metadata": {},
   "source": [
    "### `days_exposition`"
   ]
  },
  {
   "cell_type": "code",
   "execution_count": 1005,
   "metadata": {},
   "outputs": [
    {
     "data": {
      "text/plain": [
       "<AxesSubplot:xlabel='days_exposition', ylabel='Count'>"
      ]
     },
     "execution_count": 1005,
     "metadata": {},
     "output_type": "execute_result"
    },
    {
     "data": {
      "image/png": "[encoded data removed]",
      "text/plain": [
       "<Figure size 936x360 with 1 Axes>"
      ]
     },
     "metadata": {},
     "output_type": "display_data"
    }
   ],
   "source": [
    "sns.histplot(df['days_exposition'])"
   ]
  },
  {
   "cell_type": "code",
   "execution_count": 1006,
   "metadata": {},
   "outputs": [
    {
     "data": {
      "text/plain": [
       "2278"
      ]
     },
     "execution_count": 1006,
     "metadata": {},
     "output_type": "execute_result"
    }
   ],
   "source": [
    "df['kitchen_area'].isna().sum()"
   ]
  },
  {
   "cell_type": "markdown",
   "metadata": {},
   "source": [
    "### `last_price`"
   ]
  },
  {
   "cell_type": "code",
   "execution_count": 1007,
   "metadata": {},
   "outputs": [
    {
     "data": {
      "text/plain": [
       "<AxesSubplot:xlabel='last_price', ylabel='Count'>"
      ]
     },
     "execution_count": 1007,
     "metadata": {},
     "output_type": "execute_result"
    },
    {
     "data": {
      "image/png": "[encoded data removed]",
      "text/plain": [
       "<Figure size 936x360 with 1 Axes>"
      ]
     },
     "metadata": {},
     "output_type": "display_data"
    }
   ],
   "source": [
    "sns.histplot(df['last_price'])"
   ]
  },
  {
   "cell_type": "code",
   "execution_count": 1008,
   "metadata": {},
   "outputs": [
    {
     "data": {
      "text/plain": [
       "count    2.369900e+04\n",
       "mean     6.541549e+06\n",
       "std      1.088701e+07\n",
       "min      1.219000e+04\n",
       "25%      3.400000e+06\n",
       "50%      4.650000e+06\n",
       "75%      6.800000e+06\n",
       "max      7.630000e+08\n",
       "Name: last_price, dtype: float64"
      ]
     },
     "execution_count": 1008,
     "metadata": {},
     "output_type": "execute_result"
    }
   ],
   "source": [
    "df['last_price'].describe()"
   ]
  },
  {
   "cell_type": "markdown",
   "metadata": {},
   "source": [
    "Очень похоже на то, что есть выбросы. 3 квартиль слишком далеко от максимума"
   ]
  },
  {
   "cell_type": "code",
   "execution_count": 1009,
   "metadata": {},
   "outputs": [
    {
     "data": {
      "text/plain": [
       "<AxesSubplot:xlabel='last_price'>"
      ]
     },
     "execution_count": 1009,
     "metadata": {},
     "output_type": "execute_result"
    },
    {
     "data": {
      "image/png": "[encoded data removed]",
      "text/plain": [
       "<Figure size 936x360 with 1 Axes>"
      ]
     },
     "metadata": {},
     "output_type": "display_data"
    }
   ],
   "source": [
    "sns.boxplot(x=df['last_price'])"
   ]
  },
  {
   "cell_type": "markdown",
   "metadata": {},
   "source": [
    "Значения большие, чем $$1 * 10^8$$, то есть 100 млн руб - выбросы. "
   ]
  },
  {
   "cell_type": "code",
   "execution_count": 1010,
   "metadata": {},
   "outputs": [
    {
     "data": {
      "text/plain": [
       "<AxesSubplot:xlabel='last_price'>"
      ]
     },
     "execution_count": 1010,
     "metadata": {},
     "output_type": "execute_result"
    },
    {
     "data": {
      "image/png": "[encoded data removed]",
      "text/plain": [
       "<Figure size 936x360 with 1 Axes>"
      ]
     },
     "metadata": {},
     "output_type": "display_data"
    }
   ],
   "source": [
    "sns.boxplot(x=df['last_price'])"
   ]
  },
  {
   "cell_type": "code",
   "execution_count": 1011,
   "metadata": {
    "scrolled": true
   },
   "outputs": [
    {
     "data": {
      "text/plain": [
       "(23699, 22)"
      ]
     },
     "execution_count": 1011,
     "metadata": {},
     "output_type": "execute_result"
    }
   ],
   "source": [
    "df.shape"
   ]
  },
  {
   "cell_type": "markdown",
   "metadata": {},
   "source": [
    "### `ceiling_height`"
   ]
  },
  {
   "cell_type": "markdown",
   "metadata": {},
   "source": [
    "Проверим на выбросы"
   ]
  },
  {
   "cell_type": "code",
   "execution_count": 1012,
   "metadata": {},
   "outputs": [
    {
     "data": {
      "text/plain": [
       "<AxesSubplot:xlabel='ceiling_height'>"
      ]
     },
     "execution_count": 1012,
     "metadata": {},
     "output_type": "execute_result"
    },
    {
     "data": {
      "image/png": "[encoded data removed]",
      "text/plain": [
       "<Figure size 936x360 with 1 Axes>"
      ]
     },
     "metadata": {},
     "output_type": "display_data"
    }
   ],
   "source": [
    "sns.boxplot(x=df['ceiling_height'])"
   ]
  },
  {
   "cell_type": "markdown",
   "metadata": {},
   "source": [
    "Потолки 20 метров редко где встретишь."
   ]
  },
  {
   "cell_type": "markdown",
   "metadata": {},
   "source": [
    "Также уберем квартиры с потолками < 2 метров. Рост человека примерно 155-180 см. Явно какая то ошибка."
   ]
  },
  {
   "cell_type": "markdown",
   "metadata": {},
   "source": [
    "**Вывод** \n",
    "\n",
    "Мы заполнили пропуски в некоторых столбцах, в которых можно было логически это сделать. Убрали выбросы. Изменили типы данных некоторых столбцов: там, где был `float`, но целые числа - заменили на `int`, переформатировали дату в тип `datetime`."
   ]
  },
  {
   "cell_type": "markdown",
   "metadata": {},
   "source": [
    "## Расчёты и добавление результатов в таблицу"
   ]
  },
  {
   "cell_type": "markdown",
   "metadata": {},
   "source": [
    "### Добавим цену квадратного метра `price_per_square`"
   ]
  },
  {
   "cell_type": "code",
   "execution_count": 1017,
   "metadata": {},
   "outputs": [
    {
     "data": {
      "text/plain": [
       "total_images                0\n",
       "last_price                  0\n",
       "total_area                  0\n",
       "first_day_exposition        0\n",
       "rooms                       0\n",
       "ceiling_height           9195\n",
       "floors_total               86\n",
       "living_area                 0\n",
       "floor                       0\n",
       "is_apartment            14776\n",
       "studio                      0\n",
       "open_plan                   0\n",
       "kitchen_area             2278\n",
       "balcony                     0\n",
       "locality_name              49\n",
       "airports_nearest         5542\n",
       "cityCenters_nearest      5519\n",
       "parks_around3000         5518\n",
       "parks_nearest           15620\n",
       "ponds_around3000         5518\n",
       "ponds_nearest           14589\n",
       "days_exposition          3181\n",
       "dtype: int64"
      ]
     },
     "execution_count": 1017,
     "metadata": {},
     "output_type": "execute_result"
    }
   ],
   "source": [
    "df.isna().sum()"
   ]
  },
  {
   "cell_type": "markdown",
   "metadata": {},
   "source": [
    "Посчитаем цену квадратного метра. Считать будем так: "
   ]
  },
  {
   "cell_type": "markdown",
   "metadata": {},
   "source": [
    "$$price per square = \\dfrac{last price}{total area}$$"
   ]
  },
  {
   "cell_type": "code",
   "execution_count": 1018,
   "metadata": {},
   "outputs": [],
   "source": [
    "df['price_per_square'] = df['last_price'] / df['total_area']"
   ]
  },
  {
   "cell_type": "code",
   "execution_count": 1019,
   "metadata": {},
   "outputs": [
    {
     "data": {
      "text/plain": [
       "0    120370.370370\n",
       "1     82920.792079\n",
       "2     92785.714286\n",
       "3    408176.100629\n",
       "4    100000.000000\n",
       "Name: price_per_square, dtype: float64"
      ]
     },
     "execution_count": 1019,
     "metadata": {},
     "output_type": "execute_result"
    }
   ],
   "source": [
    "df['price_per_square'].head()"
   ]
  },
  {
   "cell_type": "markdown",
   "metadata": {},
   "source": [
    "### День недели, месяц и год публикации объявления"
   ]
  },
  {
   "cell_type": "markdown",
   "metadata": {},
   "source": [
    "Добавлять день, месяц, год в таблицу нет необходимости. Обращаться можно к колонке `first_day_exposition`."
   ]
  },
  {
   "cell_type": "code",
   "execution_count": 1020,
   "metadata": {},
   "outputs": [
    {
     "data": {
      "text/plain": [
       "0        2019\n",
       "1        2018\n",
       "2        2015\n",
       "3        2015\n",
       "4        2018\n",
       "         ... \n",
       "23694    2017\n",
       "23695    2018\n",
       "23696    2018\n",
       "23697    2017\n",
       "23698    2017\n",
       "Name: first_day_exposition, Length: 23699, dtype: int64"
      ]
     },
     "execution_count": 1020,
     "metadata": {},
     "output_type": "execute_result"
    }
   ],
   "source": [
    "df['first_day_exposition'].dt.year # month, day"
   ]
  },
  {
   "cell_type": "markdown",
   "metadata": {},
   "source": [
    "### Этаж квартиры"
   ]
  },
  {
   "cell_type": "code",
   "execution_count": 1021,
   "metadata": {
    "scrolled": true
   },
   "outputs": [],
   "source": [
    "df['floor_group'] = 'Другой'\n",
    "df['floor_group'] = df['floor_group'].where(df['floor'] > 1, 'Первый')\n",
    "df['floor_group'] = df['floor_group'].where(df['floor'] < df['floors_total'], 'Последний')"
   ]
  },
  {
   "cell_type": "code",
   "execution_count": 1022,
   "metadata": {
    "scrolled": true
   },
   "outputs": [
    {
     "data": {
      "text/html": [
       "<div>\n",
       "<style scoped>\n",
       "    .dataframe tbody tr th:only-of-type {\n",
       "        vertical-align: middle;\n",
       "    }\n",
       "\n",
       "    .dataframe tbody tr th {\n",
       "        vertical-align: top;\n",
       "    }\n",
       "\n",
       "    .dataframe thead th {\n",
       "        text-align: right;\n",
       "    }\n",
       "</style>\n",
       "<table border=\"1\" class=\"dataframe\">\n",
       "  <thead>\n",
       "    <tr style=\"text-align: right;\">\n",
       "      <th></th>\n",
       "      <th>floor</th>\n",
       "      <th>floors_total</th>\n",
       "      <th>floor_group</th>\n",
       "    </tr>\n",
       "  </thead>\n",
       "  <tbody>\n",
       "    <tr>\n",
       "      <th>0</th>\n",
       "      <td>8</td>\n",
       "      <td>16</td>\n",
       "      <td>Другой</td>\n",
       "    </tr>\n",
       "    <tr>\n",
       "      <th>1</th>\n",
       "      <td>1</td>\n",
       "      <td>11</td>\n",
       "      <td>Первый</td>\n",
       "    </tr>\n",
       "    <tr>\n",
       "      <th>2</th>\n",
       "      <td>4</td>\n",
       "      <td>5</td>\n",
       "      <td>Другой</td>\n",
       "    </tr>\n",
       "    <tr>\n",
       "      <th>3</th>\n",
       "      <td>9</td>\n",
       "      <td>14</td>\n",
       "      <td>Другой</td>\n",
       "    </tr>\n",
       "    <tr>\n",
       "      <th>4</th>\n",
       "      <td>13</td>\n",
       "      <td>14</td>\n",
       "      <td>Другой</td>\n",
       "    </tr>\n",
       "  </tbody>\n",
       "</table>\n",
       "</div>"
      ],
      "text/plain": [
       "   floor  floors_total floor_group\n",
       "0      8            16      Другой\n",
       "1      1            11      Первый\n",
       "2      4             5      Другой\n",
       "3      9            14      Другой\n",
       "4     13            14      Другой"
      ]
     },
     "execution_count": 1022,
     "metadata": {},
     "output_type": "execute_result"
    }
   ],
   "source": [
    "df[['floor', 'floors_total', 'floor_group']].head()"
   ]
  },
  {
   "cell_type": "markdown",
   "metadata": {},
   "source": [
    "### Соотношения"
   ]
  },
  {
   "cell_type": "markdown",
   "metadata": {},
   "source": [
    "Соотношения: площадь жилой к общей, площадь кухни к общей."
   ]
  },
  {
   "cell_type": "code",
   "execution_count": 1023,
   "metadata": {},
   "outputs": [],
   "source": [
    "df['living_on_total'] = df['living_area'] / df['total_area']"
   ]
  },
  {
   "cell_type": "code",
   "execution_count": 1024,
   "metadata": {},
   "outputs": [],
   "source": [
    "df['kitchen_on_total'] = df['kitchen_area'] / df['total_area']"
   ]
  },
  {
   "cell_type": "code",
   "execution_count": 1025,
   "metadata": {
    "scrolled": true
   },
   "outputs": [
    {
     "data": {
      "text/html": [
       "<div>\n",
       "<style scoped>\n",
       "    .dataframe tbody tr th:only-of-type {\n",
       "        vertical-align: middle;\n",
       "    }\n",
       "\n",
       "    .dataframe tbody tr th {\n",
       "        vertical-align: top;\n",
       "    }\n",
       "\n",
       "    .dataframe thead th {\n",
       "        text-align: right;\n",
       "    }\n",
       "</style>\n",
       "<table border=\"1\" class=\"dataframe\">\n",
       "  <thead>\n",
       "    <tr style=\"text-align: right;\">\n",
       "      <th></th>\n",
       "      <th>total_images</th>\n",
       "      <th>last_price</th>\n",
       "      <th>total_area</th>\n",
       "      <th>first_day_exposition</th>\n",
       "      <th>rooms</th>\n",
       "      <th>ceiling_height</th>\n",
       "      <th>floors_total</th>\n",
       "      <th>living_area</th>\n",
       "      <th>floor</th>\n",
       "      <th>is_apartment</th>\n",
       "      <th>...</th>\n",
       "      <th>cityCenters_nearest</th>\n",
       "      <th>parks_around3000</th>\n",
       "      <th>parks_nearest</th>\n",
       "      <th>ponds_around3000</th>\n",
       "      <th>ponds_nearest</th>\n",
       "      <th>days_exposition</th>\n",
       "      <th>price_per_square</th>\n",
       "      <th>floor_group</th>\n",
       "      <th>living_on_total</th>\n",
       "      <th>kitchen_on_total</th>\n",
       "    </tr>\n",
       "  </thead>\n",
       "  <tbody>\n",
       "    <tr>\n",
       "      <th>0</th>\n",
       "      <td>20</td>\n",
       "      <td>13000000.0</td>\n",
       "      <td>108.0</td>\n",
       "      <td>2019-03-07</td>\n",
       "      <td>3</td>\n",
       "      <td>2.70</td>\n",
       "      <td>16</td>\n",
       "      <td>51.0</td>\n",
       "      <td>8</td>\n",
       "      <td>True</td>\n",
       "      <td>...</td>\n",
       "      <td>16028.0</td>\n",
       "      <td>1.0</td>\n",
       "      <td>482.0</td>\n",
       "      <td>2.0</td>\n",
       "      <td>755.0</td>\n",
       "      <td>NaN</td>\n",
       "      <td>120370.370370</td>\n",
       "      <td>Другой</td>\n",
       "      <td>0.472222</td>\n",
       "      <td>0.231481</td>\n",
       "    </tr>\n",
       "    <tr>\n",
       "      <th>1</th>\n",
       "      <td>7</td>\n",
       "      <td>3350000.0</td>\n",
       "      <td>40.4</td>\n",
       "      <td>2018-12-04</td>\n",
       "      <td>1</td>\n",
       "      <td>NaN</td>\n",
       "      <td>11</td>\n",
       "      <td>18.6</td>\n",
       "      <td>1</td>\n",
       "      <td>&lt;NA&gt;</td>\n",
       "      <td>...</td>\n",
       "      <td>18603.0</td>\n",
       "      <td>0.0</td>\n",
       "      <td>NaN</td>\n",
       "      <td>0.0</td>\n",
       "      <td>NaN</td>\n",
       "      <td>81.0</td>\n",
       "      <td>82920.792079</td>\n",
       "      <td>Первый</td>\n",
       "      <td>0.460396</td>\n",
       "      <td>0.272277</td>\n",
       "    </tr>\n",
       "    <tr>\n",
       "      <th>2</th>\n",
       "      <td>10</td>\n",
       "      <td>5196000.0</td>\n",
       "      <td>56.0</td>\n",
       "      <td>2015-08-20</td>\n",
       "      <td>2</td>\n",
       "      <td>NaN</td>\n",
       "      <td>5</td>\n",
       "      <td>34.3</td>\n",
       "      <td>4</td>\n",
       "      <td>&lt;NA&gt;</td>\n",
       "      <td>...</td>\n",
       "      <td>13933.0</td>\n",
       "      <td>1.0</td>\n",
       "      <td>90.0</td>\n",
       "      <td>2.0</td>\n",
       "      <td>574.0</td>\n",
       "      <td>558.0</td>\n",
       "      <td>92785.714286</td>\n",
       "      <td>Другой</td>\n",
       "      <td>0.612500</td>\n",
       "      <td>0.148214</td>\n",
       "    </tr>\n",
       "    <tr>\n",
       "      <th>3</th>\n",
       "      <td>0</td>\n",
       "      <td>64900000.0</td>\n",
       "      <td>159.0</td>\n",
       "      <td>2015-07-24</td>\n",
       "      <td>3</td>\n",
       "      <td>NaN</td>\n",
       "      <td>14</td>\n",
       "      <td>45.0</td>\n",
       "      <td>9</td>\n",
       "      <td>True</td>\n",
       "      <td>...</td>\n",
       "      <td>6800.0</td>\n",
       "      <td>2.0</td>\n",
       "      <td>84.0</td>\n",
       "      <td>3.0</td>\n",
       "      <td>234.0</td>\n",
       "      <td>424.0</td>\n",
       "      <td>408176.100629</td>\n",
       "      <td>Другой</td>\n",
       "      <td>0.283019</td>\n",
       "      <td>NaN</td>\n",
       "    </tr>\n",
       "    <tr>\n",
       "      <th>4</th>\n",
       "      <td>2</td>\n",
       "      <td>10000000.0</td>\n",
       "      <td>100.0</td>\n",
       "      <td>2018-06-19</td>\n",
       "      <td>2</td>\n",
       "      <td>3.03</td>\n",
       "      <td>14</td>\n",
       "      <td>32.0</td>\n",
       "      <td>13</td>\n",
       "      <td>True</td>\n",
       "      <td>...</td>\n",
       "      <td>8098.0</td>\n",
       "      <td>2.0</td>\n",
       "      <td>112.0</td>\n",
       "      <td>1.0</td>\n",
       "      <td>48.0</td>\n",
       "      <td>121.0</td>\n",
       "      <td>100000.000000</td>\n",
       "      <td>Другой</td>\n",
       "      <td>0.320000</td>\n",
       "      <td>0.410000</td>\n",
       "    </tr>\n",
       "  </tbody>\n",
       "</table>\n",
       "<p>5 rows × 26 columns</p>\n",
       "</div>"
      ],
      "text/plain": [
       "   total_images  last_price  total_area first_day_exposition  rooms  \\\n",
       "0            20  13000000.0       108.0           2019-03-07      3   \n",
       "1             7   3350000.0        40.4           2018-12-04      1   \n",
       "2            10   5196000.0        56.0           2015-08-20      2   \n",
       "3             0  64900000.0       159.0           2015-07-24      3   \n",
       "4             2  10000000.0       100.0           2018-06-19      2   \n",
       "\n",
       "   ceiling_height  floors_total  living_area  floor  is_apartment  ...  \\\n",
       "0            2.70            16         51.0      8          True  ...   \n",
       "1             NaN            11         18.6      1          <NA>  ...   \n",
       "2             NaN             5         34.3      4          <NA>  ...   \n",
       "3             NaN            14         45.0      9          True  ...   \n",
       "4            3.03            14         32.0     13          True  ...   \n",
       "\n",
       "   cityCenters_nearest  parks_around3000  parks_nearest  ponds_around3000  \\\n",
       "0              16028.0               1.0          482.0               2.0   \n",
       "1              18603.0               0.0            NaN               0.0   \n",
       "2              13933.0               1.0           90.0               2.0   \n",
       "3               6800.0               2.0           84.0               3.0   \n",
       "4               8098.0               2.0          112.0               1.0   \n",
       "\n",
       "  ponds_nearest  days_exposition  price_per_square  floor_group  \\\n",
       "0         755.0              NaN     120370.370370       Другой   \n",
       "1           NaN             81.0      82920.792079       Первый   \n",
       "2         574.0            558.0      92785.714286       Другой   \n",
       "3         234.0            424.0     408176.100629       Другой   \n",
       "4          48.0            121.0     100000.000000       Другой   \n",
       "\n",
       "   living_on_total  kitchen_on_total  \n",
       "0         0.472222          0.231481  \n",
       "1         0.460396          0.272277  \n",
       "2         0.612500          0.148214  \n",
       "3         0.283019               NaN  \n",
       "4         0.320000          0.410000  \n",
       "\n",
       "[5 rows x 26 columns]"
      ]
     },
     "execution_count": 1025,
     "metadata": {},
     "output_type": "execute_result"
    }
   ],
   "source": [
    "df.head()"
   ]
  },
  {
   "cell_type": "markdown",
   "metadata": {},
   "source": [
    "**Вывод:**\n",
    "\n",
    "Рассчитали и добавили нужные для EDA колонки."
   ]
  },
  {
   "cell_type": "markdown",
   "metadata": {},
   "source": [
    "## Исследовательский анализ данных"
   ]
  },
  {
   "cell_type": "code",
   "execution_count": 1026,
   "metadata": {},
   "outputs": [
    {
     "data": {
      "image/png": "[encoded data removed]",
      "text/plain": [
       "<Figure size 936x360 with 1 Axes>"
      ]
     },
     "metadata": {},
     "output_type": "display_data"
    },
    {
     "data": {
      "image/png": "[encoded data removed]",
      "text/plain": [
       "<Figure size 936x360 with 1 Axes>"
      ]
     },
     "metadata": {},
     "output_type": "display_data"
    },
    {
     "data": {
      "image/png": "[encoded data removed]",
      "text/plain": [
       "<Figure size 936x360 with 1 Axes>"
      ]
     },
     "metadata": {},
     "output_type": "display_data"
    },
    {
     "data": {
      "image/png": "[encoded data removed]",
      "text/plain": [
       "<Figure size 936x360 with 1 Axes>"
      ]
     },
     "metadata": {},
     "output_type": "display_data"
    }
   ],
   "source": [
    "cols = ['last_price', 'total_area', 'rooms', 'ceiling_height']\n",
    "\n",
    "for i in cols:\n",
    "    plt.figure(i)\n",
    "    sns.histplot(df[i])"
   ]
  },
  {
   "cell_type": "code",
   "execution_count": 1027,
   "metadata": {
    "scrolled": false
   },
   "outputs": [
    {
     "data": {
      "image/png": "[encoded data removed]",
      "text/plain": [
       "<Figure size 936x360 with 1 Axes>"
      ]
     },
     "metadata": {},
     "output_type": "display_data"
    },
    {
     "data": {
      "image/png": "[encoded data removed]",
      "text/plain": [
       "<Figure size 936x360 with 1 Axes>"
      ]
     },
     "metadata": {},
     "output_type": "display_data"
    },
    {
     "data": {
      "image/png": "[encoded data removed]",
      "text/plain": [
       "<Figure size 936x360 with 1 Axes>"
      ]
     },
     "metadata": {},
     "output_type": "display_data"
    },
    {
     "data": {
      "image/png": "[encoded data removed]",
      "text/plain": [
       "<Figure size 936x360 with 1 Axes>"
      ]
     },
     "metadata": {},
     "output_type": "display_data"
    }
   ],
   "source": [
    "for i in cols:\n",
    "    plt.figure(i)\n",
    "    sns.boxplot(x=df[i], orient='h')"
   ]
  },
  {
   "cell_type": "code",
   "execution_count": 1028,
   "metadata": {},
   "outputs": [
    {
     "data": {
      "text/plain": [
       "<AxesSubplot:xlabel='days_exposition', ylabel='Count'>"
      ]
     },
     "execution_count": 1028,
     "metadata": {},
     "output_type": "execute_result"
    },
    {
     "data": {
      "image/png": "[encoded data removed]",
      "text/plain": [
       "<Figure size 936x360 with 1 Axes>"
      ]
     },
     "metadata": {},
     "output_type": "display_data"
    }
   ],
   "source": [
    "sns.histplot(df['days_exposition'])"
   ]
  },
  {
   "cell_type": "code",
   "execution_count": 1029,
   "metadata": {},
   "outputs": [
    {
     "data": {
      "text/plain": [
       "<AxesSubplot:>"
      ]
     },
     "execution_count": 1029,
     "metadata": {},
     "output_type": "execute_result"
    },
    {
     "data": {
      "image/png": "[encoded data removed]",
      "text/plain": [
       "<Figure size 936x360 with 1 Axes>"
      ]
     },
     "metadata": {},
     "output_type": "display_data"
    }
   ],
   "source": [
    "sns.boxplot(data=df['days_exposition'], orient='h')"
   ]
  },
  {
   "cell_type": "code",
   "execution_count": 1030,
   "metadata": {},
   "outputs": [
    {
     "data": {
      "text/plain": [
       "count    20518.000000\n",
       "mean       180.888634\n",
       "std        219.727988\n",
       "min          1.000000\n",
       "25%         45.000000\n",
       "50%         95.000000\n",
       "75%        232.000000\n",
       "max       1580.000000\n",
       "Name: days_exposition, dtype: float64"
      ]
     },
     "execution_count": 1030,
     "metadata": {},
     "output_type": "execute_result"
    }
   ],
   "source": [
    "df['days_exposition'].describe()"
   ]
  },
  {
   "cell_type": "markdown",
   "metadata": {},
   "source": [
    "Средняя равна 180.888634 , медиана 95.\n",
    "\n",
    "В пределах двух стандартных отклонений std в обе стороны лежит 95% всех значений. Можно считать нормальным временем продажи значения в диапазоне [0; 620.9] дней.\n",
    "\n",
    "Можно считать нормальными значения, которые входят в усы графика boxplot -- значения от 0 до 510."
   ]
  },
  {
   "cell_type": "markdown",
   "metadata": {},
   "source": [
    "Обычно продажи происходят в течение 180 дней. Продажа быстрая, если произошла в период до 95 дней. Медленная, если пришлось ждать больше 200."
   ]
  },
  {
   "cell_type": "markdown",
   "metadata": {},
   "source": [
    "Скорректируем данные. Уберем выбросы:\n",
    "* `last_price` > 400 000 000\n",
    "* `total_area` > 500\n",
    "* `rooms` > 10\n",
    "* `ceiling_height` > 30\n",
    "* `days_exposition` > 1500"
   ]
  },
  {
   "cell_type": "code",
   "execution_count": 1031,
   "metadata": {},
   "outputs": [
    {
     "data": {
      "text/plain": [
       "(23699, 26)"
      ]
     },
     "execution_count": 1031,
     "metadata": {},
     "output_type": "execute_result"
    }
   ],
   "source": [
    "df.shape"
   ]
  },
  {
   "cell_type": "code",
   "execution_count": 1032,
   "metadata": {
    "scrolled": false
   },
   "outputs": [
    {
     "data": {
      "text/plain": [
       "9195"
      ]
     },
     "execution_count": 1032,
     "metadata": {},
     "output_type": "execute_result"
    }
   ],
   "source": [
    "df['ceiling_height'].isna().sum()"
   ]
  },
  {
   "cell_type": "code",
   "execution_count": 1033,
   "metadata": {},
   "outputs": [],
   "source": [
    "df = df[df['last_price'] < 400000000]\n",
    "df = df[df['total_area'] < 500]\n",
    "df = df[df['rooms'] < 10]\n",
    "df = df[(df['ceiling_height'] < 30) | (df['ceiling_height'].isna())]\n",
    "df = df[df['days_exposition'] < 1500]"
   ]
  },
  {
   "cell_type": "code",
   "execution_count": 1034,
   "metadata": {},
   "outputs": [
    {
     "data": {
      "text/plain": [
       "(20496, 26)"
      ]
     },
     "execution_count": 1034,
     "metadata": {},
     "output_type": "execute_result"
    }
   ],
   "source": [
    "df.shape"
   ]
  },
  {
   "cell_type": "markdown",
   "metadata": {},
   "source": [
    "Какие факторы больше всего влияют на стоимость квартиры? Зависит ли цена от площади, числа комнат, удалённости от центра?"
   ]
  },
  {
   "cell_type": "code",
   "execution_count": 1035,
   "metadata": {},
   "outputs": [
    {
     "data": {
      "text/plain": [
       "<AxesSubplot:>"
      ]
     },
     "execution_count": 1035,
     "metadata": {},
     "output_type": "execute_result"
    },
    {
     "data": {
      "image/png": "[encoded data removed]",
      "text/plain": [
       "<Figure size 720x720 with 2 Axes>"
      ]
     },
     "metadata": {},
     "output_type": "display_data"
    }
   ],
   "source": [
    "plt.figure(figsize=(10, 10))\n",
    "sns.heatmap(df.corr(), vmin=-1, vmax=1, cmap='coolwarm', square=True)"
   ]
  },
  {
   "cell_type": "markdown",
   "metadata": {},
   "source": [
    "По графику видно, что между `last_price` и колонками `total_area`, `rooms`, `ceiling_height`, `floor` есть положительная корреляция, а с колонкой `cityCenters_nearest` - отрицательная.\n",
    "\n",
    "Корреляция говорит о взаимосвязи, но не говорит о том что на что влияет. Допускается влияние третьих факторов."
   ]
  },
  {
   "cell_type": "markdown",
   "metadata": {},
   "source": [
    "Изучим зависимость цены от того, на каком этаже расположена квартира"
   ]
  },
  {
   "cell_type": "code",
   "execution_count": 1036,
   "metadata": {},
   "outputs": [
    {
     "data": {
      "text/plain": [
       "<AxesSubplot:xlabel='floor_group'>"
      ]
     },
     "execution_count": 1036,
     "metadata": {},
     "output_type": "execute_result"
    },
    {
     "data": {
      "image/png": "[encoded data removed]",
      "text/plain": [
       "<Figure size 936x360 with 1 Axes>"
      ]
     },
     "metadata": {},
     "output_type": "display_data"
    }
   ],
   "source": [
    "df.groupby('floor_group')['last_price'].median().plot(kind='bar')"
   ]
  },
  {
   "cell_type": "markdown",
   "metadata": {},
   "source": [
    "Изучим зависимость от даты размещения: дня недели, месяца и года"
   ]
  },
  {
   "cell_type": "code",
   "execution_count": 1037,
   "metadata": {},
   "outputs": [
    {
     "data": {
      "text/plain": [
       "<AxesSubplot:xlabel='first_day_exposition'>"
      ]
     },
     "execution_count": 1037,
     "metadata": {},
     "output_type": "execute_result"
    },
    {
     "data": {
      "image/png": "[encoded data removed]",
      "text/plain": [
       "<Figure size 936x360 with 1 Axes>"
      ]
     },
     "metadata": {},
     "output_type": "display_data"
    }
   ],
   "source": [
    "df.groupby(df['first_day_exposition'].dt.year)['last_price'].median().plot(kind='bar')"
   ]
  },
  {
   "cell_type": "code",
   "execution_count": 1038,
   "metadata": {
    "scrolled": false
   },
   "outputs": [
    {
     "data": {
      "text/plain": [
       "<AxesSubplot:xlabel='first_day_exposition'>"
      ]
     },
     "execution_count": 1038,
     "metadata": {},
     "output_type": "execute_result"
    },
    {
     "data": {
      "image/png": "[encoded data removed]",
      "text/plain": [
       "<Figure size 936x360 with 1 Axes>"
      ]
     },
     "metadata": {},
     "output_type": "display_data"
    }
   ],
   "source": [
    "df.groupby(df['first_day_exposition'].dt.month)['last_price'].median().plot(kind='bar')"
   ]
  },
  {
   "cell_type": "code",
   "execution_count": 1039,
   "metadata": {},
   "outputs": [
    {
     "data": {
      "text/plain": [
       "<AxesSubplot:xlabel='first_day_exposition'>"
      ]
     },
     "execution_count": 1039,
     "metadata": {},
     "output_type": "execute_result"
    },
    {
     "data": {
      "image/png": "[encoded data removed]",
      "text/plain": [
       "<Figure size 936x360 with 1 Axes>"
      ]
     },
     "metadata": {},
     "output_type": "display_data"
    }
   ],
   "source": [
    "df.groupby(df['first_day_exposition'].dt.day_name())['last_price'].median().plot(kind='bar')"
   ]
  },
  {
   "cell_type": "code",
   "execution_count": 1040,
   "metadata": {},
   "outputs": [],
   "source": [
    "df['day_name_exp'] = df['first_day_exposition'].dt.day\n",
    "df['month_exp'] = df['first_day_exposition'].dt.month\n",
    "df['year_exp'] = df['first_day_exposition'].dt.year"
   ]
  },
  {
   "cell_type": "markdown",
   "metadata": {},
   "source": [
    "По графикам видно, что люди не любят первый этаж больше, чем последний. Предпочитают выбирать между ними.\n",
    "\n",
    "Цены, по которым продаются квартиры, снижались с 2014 года, а в 2019 немного выросли. Утверждать, что цена продажи зависит от даты выставления объявления по месяцам или дням недели нельзя."
   ]
  },
  {
   "cell_type": "markdown",
   "metadata": {},
   "source": [
    "Топ 10 по количествам объявлений. Средняя цена квадратного метра в этих населенных пунктах."
   ]
  },
  {
   "cell_type": "code",
   "execution_count": 1041,
   "metadata": {},
   "outputs": [
    {
     "data": {
      "text/html": [
       "<div>\n",
       "<style scoped>\n",
       "    .dataframe tbody tr th:only-of-type {\n",
       "        vertical-align: middle;\n",
       "    }\n",
       "\n",
       "    .dataframe tbody tr th {\n",
       "        vertical-align: top;\n",
       "    }\n",
       "\n",
       "    .dataframe thead th {\n",
       "        text-align: right;\n",
       "    }\n",
       "</style>\n",
       "<table border=\"1\" class=\"dataframe\">\n",
       "  <thead>\n",
       "    <tr style=\"text-align: right;\">\n",
       "      <th></th>\n",
       "      <th>count</th>\n",
       "      <th>mean</th>\n",
       "    </tr>\n",
       "    <tr>\n",
       "      <th>locality_name</th>\n",
       "      <th></th>\n",
       "      <th></th>\n",
       "    </tr>\n",
       "  </thead>\n",
       "  <tbody>\n",
       "    <tr>\n",
       "      <th>Санкт-Петербург</th>\n",
       "      <td>13618</td>\n",
       "      <td>112061.856384</td>\n",
       "    </tr>\n",
       "    <tr>\n",
       "      <th>посёлок Мурино</th>\n",
       "      <td>517</td>\n",
       "      <td>85818.383555</td>\n",
       "    </tr>\n",
       "    <tr>\n",
       "      <th>посёлок Шушары</th>\n",
       "      <td>408</td>\n",
       "      <td>78010.167480</td>\n",
       "    </tr>\n",
       "    <tr>\n",
       "      <th>Всеволожск</th>\n",
       "      <td>339</td>\n",
       "      <td>68570.615292</td>\n",
       "    </tr>\n",
       "    <tr>\n",
       "      <th>Колпино</th>\n",
       "      <td>308</td>\n",
       "      <td>74865.364347</td>\n",
       "    </tr>\n",
       "    <tr>\n",
       "      <th>Пушкин</th>\n",
       "      <td>306</td>\n",
       "      <td>102073.653442</td>\n",
       "    </tr>\n",
       "    <tr>\n",
       "      <th>посёлок Парголово</th>\n",
       "      <td>302</td>\n",
       "      <td>89505.043917</td>\n",
       "    </tr>\n",
       "    <tr>\n",
       "      <th>деревня Кудрово</th>\n",
       "      <td>299</td>\n",
       "      <td>92473.547576</td>\n",
       "    </tr>\n",
       "    <tr>\n",
       "      <th>Гатчина</th>\n",
       "      <td>268</td>\n",
       "      <td>67928.326990</td>\n",
       "    </tr>\n",
       "    <tr>\n",
       "      <th>Выборг</th>\n",
       "      <td>208</td>\n",
       "      <td>57084.582948</td>\n",
       "    </tr>\n",
       "  </tbody>\n",
       "</table>\n",
       "</div>"
      ],
      "text/plain": [
       "                   count           mean\n",
       "locality_name                          \n",
       "Санкт-Петербург    13618  112061.856384\n",
       "посёлок Мурино       517   85818.383555\n",
       "посёлок Шушары       408   78010.167480\n",
       "Всеволожск           339   68570.615292\n",
       "Колпино              308   74865.364347\n",
       "Пушкин               306  102073.653442\n",
       "посёлок Парголово    302   89505.043917\n",
       "деревня Кудрово      299   92473.547576\n",
       "Гатчина              268   67928.326990\n",
       "Выборг               208   57084.582948"
      ]
     },
     "execution_count": 1041,
     "metadata": {},
     "output_type": "execute_result"
    }
   ],
   "source": [
    "prices_per_squares = df.pivot_table(index='locality_name', values='price_per_square',\n",
    "               aggfunc={'count', 'mean'}).sort_values('count', ascending=False)\n",
    "prices_per_squares.head(10)"
   ]
  },
  {
   "cell_type": "code",
   "execution_count": 1042,
   "metadata": {},
   "outputs": [
    {
     "data": {
      "text/html": [
       "<div>\n",
       "<style scoped>\n",
       "    .dataframe tbody tr th:only-of-type {\n",
       "        vertical-align: middle;\n",
       "    }\n",
       "\n",
       "    .dataframe tbody tr th {\n",
       "        vertical-align: top;\n",
       "    }\n",
       "\n",
       "    .dataframe thead th {\n",
       "        text-align: right;\n",
       "    }\n",
       "</style>\n",
       "<table border=\"1\" class=\"dataframe\">\n",
       "  <thead>\n",
       "    <tr style=\"text-align: right;\">\n",
       "      <th></th>\n",
       "      <th>count</th>\n",
       "      <th>mean</th>\n",
       "    </tr>\n",
       "    <tr>\n",
       "      <th>locality_name</th>\n",
       "      <th></th>\n",
       "      <th></th>\n",
       "    </tr>\n",
       "  </thead>\n",
       "  <tbody>\n",
       "    <tr>\n",
       "      <th>посёлок Лисий Нос</th>\n",
       "      <td>2</td>\n",
       "      <td>121616.221359</td>\n",
       "    </tr>\n",
       "    <tr>\n",
       "      <th>Санкт-Петербург</th>\n",
       "      <td>13618</td>\n",
       "      <td>112061.856384</td>\n",
       "    </tr>\n",
       "    <tr>\n",
       "      <th>Зеленогорск</th>\n",
       "      <td>21</td>\n",
       "      <td>111332.344382</td>\n",
       "    </tr>\n",
       "    <tr>\n",
       "      <th>Пушкин</th>\n",
       "      <td>306</td>\n",
       "      <td>102073.653442</td>\n",
       "    </tr>\n",
       "    <tr>\n",
       "      <th>Сестрорецк</th>\n",
       "      <td>163</td>\n",
       "      <td>101232.408917</td>\n",
       "    </tr>\n",
       "    <tr>\n",
       "      <th>...</th>\n",
       "      <td>...</td>\n",
       "      <td>...</td>\n",
       "    </tr>\n",
       "    <tr>\n",
       "      <th>поселок Совхозный</th>\n",
       "      <td>2</td>\n",
       "      <td>12629.129129</td>\n",
       "    </tr>\n",
       "    <tr>\n",
       "      <th>деревня Выскатка</th>\n",
       "      <td>2</td>\n",
       "      <td>12335.480902</td>\n",
       "    </tr>\n",
       "    <tr>\n",
       "      <th>деревня Вахнова Кара</th>\n",
       "      <td>1</td>\n",
       "      <td>11688.311688</td>\n",
       "    </tr>\n",
       "    <tr>\n",
       "      <th>посёлок станции Свирь</th>\n",
       "      <td>2</td>\n",
       "      <td>11481.481481</td>\n",
       "    </tr>\n",
       "    <tr>\n",
       "      <th>деревня Старополье</th>\n",
       "      <td>3</td>\n",
       "      <td>11206.221198</td>\n",
       "    </tr>\n",
       "  </tbody>\n",
       "</table>\n",
       "<p>330 rows × 2 columns</p>\n",
       "</div>"
      ],
      "text/plain": [
       "                       count           mean\n",
       "locality_name                              \n",
       "посёлок Лисий Нос          2  121616.221359\n",
       "Санкт-Петербург        13618  112061.856384\n",
       "Зеленогорск               21  111332.344382\n",
       "Пушкин                   306  102073.653442\n",
       "Сестрорецк               163  101232.408917\n",
       "...                      ...            ...\n",
       "поселок Совхозный          2   12629.129129\n",
       "деревня Выскатка           2   12335.480902\n",
       "деревня Вахнова Кара       1   11688.311688\n",
       "посёлок станции Свирь      2   11481.481481\n",
       "деревня Старополье         3   11206.221198\n",
       "\n",
       "[330 rows x 2 columns]"
      ]
     },
     "execution_count": 1042,
     "metadata": {},
     "output_type": "execute_result"
    }
   ],
   "source": [
    "prices_per_squares.sort_values('mean', ascending=False)"
   ]
  },
  {
   "cell_type": "markdown",
   "metadata": {},
   "source": [
    "Максимальная цена в Зеленогорске. Минимальная в деревне \"Вахнова Кара\"."
   ]
  },
  {
   "cell_type": "markdown",
   "metadata": {},
   "source": [
    "Выделим квартиры в Санкт-Петербурге."
   ]
  },
  {
   "cell_type": "code",
   "execution_count": 1043,
   "metadata": {
    "scrolled": true
   },
   "outputs": [
    {
     "name": "stderr",
     "output_type": "stream",
     "text": [
      "/tmp/ipykernel_37/3879655299.py:2: SettingWithCopyWarning: \n",
      "A value is trying to be set on a copy of a slice from a DataFrame.\n",
      "Try using .loc[row_indexer,col_indexer] = value instead\n",
      "\n",
      "See the caveats in the documentation: https://pandas.pydata.org/pandas-docs/stable/user_guide/indexing.html#returning-a-view-versus-a-copy\n",
      "  sp_apts['cityCenter_km'] = (sp_apts['cityCenters_nearest'] / 1000).round(0)\n",
      "/tmp/ipykernel_37/3879655299.py:3: SettingWithCopyWarning: \n",
      "A value is trying to be set on a copy of a slice from a DataFrame.\n",
      "Try using .loc[row_indexer,col_indexer] = value instead\n",
      "\n",
      "See the caveats in the documentation: https://pandas.pydata.org/pandas-docs/stable/user_guide/indexing.html#returning-a-view-versus-a-copy\n",
      "  sp_apts['cityCenter_km'] = pd.to_numeric(sp_apts['cityCenter_km'])\n"
     ]
    }
   ],
   "source": [
    "sp_apts = df.query('locality_name == \"Санкт-Петербург\"')\n",
    "sp_apts['cityCenter_km'] = (sp_apts['cityCenters_nearest'] / 1000).round(0)\n",
    "sp_apts['cityCenter_km'] = pd.to_numeric(sp_apts['cityCenter_km'])"
   ]
  },
  {
   "cell_type": "code",
   "execution_count": 1044,
   "metadata": {},
   "outputs": [
    {
     "data": {
      "text/plain": [
       "2        14.0\n",
       "3         7.0\n",
       "4         8.0\n",
       "9        15.0\n",
       "10       14.0\n",
       "         ... \n",
       "23688    14.0\n",
       "23689    16.0\n",
       "23690     6.0\n",
       "23691     4.0\n",
       "23697    10.0\n",
       "Name: cityCenter_km, Length: 13618, dtype: float64"
      ]
     },
     "execution_count": 1044,
     "metadata": {},
     "output_type": "execute_result"
    }
   ],
   "source": [
    "sp_apts['cityCenter_km']"
   ]
  },
  {
   "cell_type": "code",
   "execution_count": 1045,
   "metadata": {
    "scrolled": false
   },
   "outputs": [
    {
     "data": {
      "text/plain": [
       "<AxesSubplot:xlabel='cityCenter_km', ylabel='last_price'>"
      ]
     },
     "execution_count": 1045,
     "metadata": {},
     "output_type": "execute_result"
    },
    {
     "data": {
      "image/png": "[encoded data removed]",
      "text/plain": [
       "<Figure size 936x360 with 1 Axes>"
      ]
     },
     "metadata": {},
     "output_type": "display_data"
    }
   ],
   "source": [
    "sns.lineplot(data=sp_apts.groupby('cityCenter_km')['last_price'].mean())"
   ]
  },
  {
   "cell_type": "markdown",
   "metadata": {},
   "source": [
    "Границу обозначим в 10 километров от центра."
   ]
  },
  {
   "cell_type": "code",
   "execution_count": 1046,
   "metadata": {},
   "outputs": [],
   "source": [
    "sp_apts = sp_apts.query('cityCenter_km <= 8')"
   ]
  },
  {
   "cell_type": "code",
   "execution_count": 1047,
   "metadata": {},
   "outputs": [
    {
     "data": {
      "image/png": "[encoded data removed]",
      "text/plain": [
       "<Figure size 936x360 with 1 Axes>"
      ]
     },
     "metadata": {},
     "output_type": "display_data"
    },
    {
     "data": {
      "image/png": "[encoded data removed]",
      "text/plain": [
       "<Figure size 936x360 with 1 Axes>"
      ]
     },
     "metadata": {},
     "output_type": "display_data"
    },
    {
     "data": {
      "image/png": "[encoded data removed]",
      "text/plain": [
       "<Figure size 936x360 with 1 Axes>"
      ]
     },
     "metadata": {},
     "output_type": "display_data"
    },
    {
     "data": {
      "image/png": "[encoded data removed]",
      "text/plain": [
       "<Figure size 936x360 with 1 Axes>"
      ]
     },
     "metadata": {},
     "output_type": "display_data"
    }
   ],
   "source": [
    "cols = ['last_price', 'total_area', 'rooms', 'ceiling_height']\n",
    "\n",
    "for i in cols:\n",
    "    plt.figure(i)\n",
    "    sns.boxplot(x=sp_apts[i])"
   ]
  },
  {
   "cell_type": "code",
   "execution_count": 1048,
   "metadata": {},
   "outputs": [
    {
     "data": {
      "image/png": "[encoded data removed]",
      "text/plain": [
       "<Figure size 936x360 with 1 Axes>"
      ]
     },
     "metadata": {},
     "output_type": "display_data"
    },
    {
     "data": {
      "image/png": "[encoded data removed]",
      "text/plain": [
       "<Figure size 936x360 with 1 Axes>"
      ]
     },
     "metadata": {},
     "output_type": "display_data"
    },
    {
     "data": {
      "image/png": "[encoded data removed]",
      "text/plain": [
       "<Figure size 936x360 with 1 Axes>"
      ]
     },
     "metadata": {},
     "output_type": "display_data"
    },
    {
     "data": {
      "image/png": "[encoded data removed]",
      "text/plain": [
       "<Figure size 936x360 with 1 Axes>"
      ]
     },
     "metadata": {},
     "output_type": "display_data"
    }
   ],
   "source": [
    "for col in ['rooms', 'floor', 'cityCenter_km', 'days_exposition']:\n",
    "    plt.figure(col)\n",
    "    sns.lineplot(data=sp_apts, y='last_price', x=col)"
   ]
  },
  {
   "cell_type": "code",
   "execution_count": 1049,
   "metadata": {},
   "outputs": [
    {
     "data": {
      "text/plain": [
       "<AxesSubplot:>"
      ]
     },
     "execution_count": 1049,
     "metadata": {},
     "output_type": "execute_result"
    },
    {
     "data": {
      "image/png": "[encoded data removed]",
      "text/plain": [
       "<Figure size 720x720 with 2 Axes>"
      ]
     },
     "metadata": {},
     "output_type": "display_data"
    }
   ],
   "source": [
    "plt.figure(figsize=(10, 10))\n",
    "sns.heatmap(sp_apts.corr(), vmin=-1, vmax=1, cmap='coolwarm', square=True)"
   ]
  },
  {
   "cell_type": "markdown",
   "metadata": {},
   "source": [
    "Стоимость квартиры связана с площадью квартиры, количеством комнат, высотой потолков, жилой площадью.\n",
    "\n",
    "Год продажи отрицательно коррелирует с `days_exposition`\n",
    "\n",
    "Взаимосвязи цены и прочих критериев в выборке квартир в центре и по всей дате отличаются. Например, в центре цена больше коррелирует с высотой потолков."
   ]
  },
  {
   "cell_type": "markdown",
   "metadata": {},
   "source": [
    "## Общий вывод"
   ]
  },
  {
   "cell_type": "markdown",
   "metadata": {},
   "source": [
    "Изучили данные по недвижимости Санкт-Петербурга и Ленинградской области. Предобработали данные, избавившись от пропусков и заполнив некоторые колонки известными значениями. Провели исследовательский анализ данных, изучив, как на цену продажи влияют различные факторы.\n",
    "\n",
    "В ходе исследования обнаружилось много аномальных значений и пропусков. Некоторые пропуски удалось заполнить, руководствуясь логикой. Большинство из них осталось. При последующей выгрузке данных было бы неплохо обсудить с программистами откуда такое количество пропущенных значений. Возможно, имеют место быть технические ошибки, которые можно исправить, тем самым улучшить качество данных. Аномальные значения, которые были обнаружили, были убраны, для последующего анализа. Они, опять же, могут быть связаны с техническими процессами.\n",
    "\n",
    "В ходе исследования была обнаружена взаимосвязь между ценой продажи, общей и жилой площадями, количеством комнат в объекте недвижимости.\n",
    "\n",
    "При исследовании объектов в центре Санкт-Петербурга, удалось выяснить, что чем ближе объект к центру, тем больше у него будет цена продажи. Цена продажи в центре так же связана с жилой площадью и количеством комнат."
   ]
  }
 ],
 "metadata": {
  "ExecuteTimeLog": [
   {
    "duration": 130,
    "start_time": "2022-05-03T07:25:49.892Z"
   },
   {
    "duration": 83,
    "start_time": "2022-05-03T07:25:52.200Z"
   },
   {
    "duration": 44,
    "start_time": "2022-05-03T07:26:24.336Z"
   },
   {
    "duration": 1367,
    "start_time": "2022-05-03T07:26:30.122Z"
   },
   {
    "duration": 166,
    "start_time": "2022-05-03T07:26:31.491Z"
   },
   {
    "duration": 0,
    "start_time": "2022-05-03T07:26:31.661Z"
   },
   {
    "duration": 0,
    "start_time": "2022-05-03T07:26:31.663Z"
   },
   {
    "duration": 0,
    "start_time": "2022-05-03T07:26:31.663Z"
   },
   {
    "duration": 0,
    "start_time": "2022-05-03T07:26:31.665Z"
   },
   {
    "duration": 0,
    "start_time": "2022-05-03T07:26:31.666Z"
   },
   {
    "duration": 0,
    "start_time": "2022-05-03T07:26:31.666Z"
   },
   {
    "duration": 0,
    "start_time": "2022-05-03T07:26:31.668Z"
   },
   {
    "duration": 0,
    "start_time": "2022-05-03T07:26:31.669Z"
   },
   {
    "duration": 0,
    "start_time": "2022-05-03T07:26:31.670Z"
   },
   {
    "duration": 0,
    "start_time": "2022-05-03T07:26:31.671Z"
   },
   {
    "duration": 0,
    "start_time": "2022-05-03T07:26:31.672Z"
   },
   {
    "duration": 0,
    "start_time": "2022-05-03T07:26:31.673Z"
   },
   {
    "duration": 0,
    "start_time": "2022-05-03T07:26:31.674Z"
   },
   {
    "duration": 0,
    "start_time": "2022-05-03T07:26:31.675Z"
   },
   {
    "duration": 0,
    "start_time": "2022-05-03T07:26:31.676Z"
   },
   {
    "duration": 0,
    "start_time": "2022-05-03T07:26:31.677Z"
   },
   {
    "duration": 0,
    "start_time": "2022-05-03T07:26:31.678Z"
   },
   {
    "duration": 0,
    "start_time": "2022-05-03T07:26:31.679Z"
   },
   {
    "duration": 0,
    "start_time": "2022-05-03T07:26:31.680Z"
   },
   {
    "duration": 0,
    "start_time": "2022-05-03T07:26:31.681Z"
   },
   {
    "duration": 0,
    "start_time": "2022-05-03T07:26:31.682Z"
   },
   {
    "duration": 0,
    "start_time": "2022-05-03T07:26:31.683Z"
   },
   {
    "duration": 0,
    "start_time": "2022-05-03T07:26:31.684Z"
   },
   {
    "duration": 0,
    "start_time": "2022-05-03T07:26:31.685Z"
   },
   {
    "duration": 0,
    "start_time": "2022-05-03T07:26:31.687Z"
   },
   {
    "duration": 0,
    "start_time": "2022-05-03T07:26:31.687Z"
   },
   {
    "duration": 0,
    "start_time": "2022-05-03T07:26:31.689Z"
   },
   {
    "duration": 0,
    "start_time": "2022-05-03T07:26:31.690Z"
   },
   {
    "duration": 0,
    "start_time": "2022-05-03T07:26:31.691Z"
   },
   {
    "duration": 0,
    "start_time": "2022-05-03T07:26:31.692Z"
   },
   {
    "duration": 0,
    "start_time": "2022-05-03T07:26:31.693Z"
   },
   {
    "duration": 0,
    "start_time": "2022-05-03T07:26:31.694Z"
   },
   {
    "duration": 0,
    "start_time": "2022-05-03T07:26:31.695Z"
   },
   {
    "duration": 0,
    "start_time": "2022-05-03T07:26:31.696Z"
   },
   {
    "duration": 0,
    "start_time": "2022-05-03T07:26:31.697Z"
   },
   {
    "duration": 0,
    "start_time": "2022-05-03T07:26:31.698Z"
   },
   {
    "duration": 0,
    "start_time": "2022-05-03T07:26:31.699Z"
   },
   {
    "duration": 0,
    "start_time": "2022-05-03T07:26:31.701Z"
   },
   {
    "duration": 0,
    "start_time": "2022-05-03T07:26:31.702Z"
   },
   {
    "duration": 0,
    "start_time": "2022-05-03T07:26:31.703Z"
   },
   {
    "duration": 1,
    "start_time": "2022-05-03T07:26:31.703Z"
   },
   {
    "duration": 0,
    "start_time": "2022-05-03T07:26:31.705Z"
   },
   {
    "duration": 0,
    "start_time": "2022-05-03T07:26:31.706Z"
   },
   {
    "duration": 0,
    "start_time": "2022-05-03T07:26:31.707Z"
   },
   {
    "duration": 0,
    "start_time": "2022-05-03T07:26:31.708Z"
   },
   {
    "duration": 0,
    "start_time": "2022-05-03T07:26:31.709Z"
   },
   {
    "duration": 0,
    "start_time": "2022-05-03T07:26:31.710Z"
   },
   {
    "duration": 0,
    "start_time": "2022-05-03T07:26:31.711Z"
   },
   {
    "duration": 0,
    "start_time": "2022-05-03T07:26:31.712Z"
   },
   {
    "duration": 0,
    "start_time": "2022-05-03T07:26:31.773Z"
   },
   {
    "duration": 0,
    "start_time": "2022-05-03T07:26:31.775Z"
   },
   {
    "duration": 0,
    "start_time": "2022-05-03T07:26:31.776Z"
   },
   {
    "duration": 0,
    "start_time": "2022-05-03T07:26:31.777Z"
   },
   {
    "duration": 0,
    "start_time": "2022-05-03T07:26:31.778Z"
   },
   {
    "duration": 0,
    "start_time": "2022-05-03T07:26:31.779Z"
   },
   {
    "duration": 0,
    "start_time": "2022-05-03T07:26:31.780Z"
   },
   {
    "duration": 0,
    "start_time": "2022-05-03T07:26:31.781Z"
   },
   {
    "duration": 0,
    "start_time": "2022-05-03T07:26:31.782Z"
   },
   {
    "duration": 0,
    "start_time": "2022-05-03T07:26:31.783Z"
   },
   {
    "duration": 0,
    "start_time": "2022-05-03T07:26:31.784Z"
   },
   {
    "duration": 0,
    "start_time": "2022-05-03T07:26:31.785Z"
   },
   {
    "duration": 0,
    "start_time": "2022-05-03T07:26:31.787Z"
   },
   {
    "duration": 0,
    "start_time": "2022-05-03T07:26:31.788Z"
   },
   {
    "duration": 0,
    "start_time": "2022-05-03T07:26:31.789Z"
   },
   {
    "duration": 0,
    "start_time": "2022-05-03T07:26:31.789Z"
   },
   {
    "duration": 0,
    "start_time": "2022-05-03T07:26:31.790Z"
   },
   {
    "duration": 0,
    "start_time": "2022-05-03T07:26:31.791Z"
   },
   {
    "duration": 0,
    "start_time": "2022-05-03T07:26:31.793Z"
   },
   {
    "duration": 0,
    "start_time": "2022-05-03T07:26:31.794Z"
   },
   {
    "duration": 0,
    "start_time": "2022-05-03T07:26:31.795Z"
   },
   {
    "duration": 0,
    "start_time": "2022-05-03T07:26:31.796Z"
   },
   {
    "duration": 0,
    "start_time": "2022-05-03T07:26:31.797Z"
   },
   {
    "duration": 0,
    "start_time": "2022-05-03T07:26:31.798Z"
   },
   {
    "duration": 0,
    "start_time": "2022-05-03T07:26:31.799Z"
   },
   {
    "duration": 0,
    "start_time": "2022-05-03T07:26:31.799Z"
   },
   {
    "duration": 0,
    "start_time": "2022-05-03T07:26:31.800Z"
   },
   {
    "duration": 0,
    "start_time": "2022-05-03T07:26:31.801Z"
   },
   {
    "duration": 0,
    "start_time": "2022-05-03T07:26:31.802Z"
   },
   {
    "duration": 0,
    "start_time": "2022-05-03T07:26:31.803Z"
   },
   {
    "duration": 0,
    "start_time": "2022-05-03T07:26:31.804Z"
   },
   {
    "duration": 0,
    "start_time": "2022-05-03T07:26:31.805Z"
   },
   {
    "duration": 10,
    "start_time": "2022-05-03T07:27:52.425Z"
   },
   {
    "duration": 76,
    "start_time": "2022-05-03T07:29:06.430Z"
   },
   {
    "duration": 4,
    "start_time": "2022-05-03T07:29:21.463Z"
   },
   {
    "duration": 78,
    "start_time": "2022-05-03T07:29:21.469Z"
   },
   {
    "duration": 29,
    "start_time": "2022-05-03T07:29:21.549Z"
   },
   {
    "duration": 10,
    "start_time": "2022-05-03T07:29:21.580Z"
   },
   {
    "duration": 27,
    "start_time": "2022-05-03T07:29:21.592Z"
   },
   {
    "duration": 105,
    "start_time": "2022-05-03T07:29:21.621Z"
   },
   {
    "duration": 622,
    "start_time": "2022-05-03T07:29:21.728Z"
   },
   {
    "duration": 3,
    "start_time": "2022-05-03T07:29:22.352Z"
   },
   {
    "duration": 68,
    "start_time": "2022-05-03T07:29:22.357Z"
   },
   {
    "duration": 5,
    "start_time": "2022-05-03T07:29:22.427Z"
   },
   {
    "duration": 6,
    "start_time": "2022-05-03T07:29:22.435Z"
   },
   {
    "duration": 6,
    "start_time": "2022-05-03T07:29:22.442Z"
   },
   {
    "duration": 5,
    "start_time": "2022-05-03T07:29:22.450Z"
   },
   {
    "duration": 6,
    "start_time": "2022-05-03T07:29:22.473Z"
   },
   {
    "duration": 8,
    "start_time": "2022-05-03T07:29:22.480Z"
   },
   {
    "duration": 11,
    "start_time": "2022-05-03T07:29:22.489Z"
   },
   {
    "duration": 8,
    "start_time": "2022-05-03T07:29:22.502Z"
   },
   {
    "duration": 29,
    "start_time": "2022-05-03T07:29:22.511Z"
   },
   {
    "duration": 6,
    "start_time": "2022-05-03T07:29:22.541Z"
   },
   {
    "duration": 26,
    "start_time": "2022-05-03T07:29:22.548Z"
   },
   {
    "duration": 9,
    "start_time": "2022-05-03T07:29:22.576Z"
   },
   {
    "duration": 9,
    "start_time": "2022-05-03T07:29:22.587Z"
   },
   {
    "duration": 11,
    "start_time": "2022-05-03T07:29:22.598Z"
   },
   {
    "duration": 9,
    "start_time": "2022-05-03T07:29:22.611Z"
   },
   {
    "duration": 9,
    "start_time": "2022-05-03T07:29:22.622Z"
   },
   {
    "duration": 294,
    "start_time": "2022-05-03T07:29:22.633Z"
   },
   {
    "duration": 9,
    "start_time": "2022-05-03T07:29:22.928Z"
   },
   {
    "duration": 8,
    "start_time": "2022-05-03T07:29:22.939Z"
   },
   {
    "duration": 35,
    "start_time": "2022-05-03T07:29:22.951Z"
   },
   {
    "duration": 10,
    "start_time": "2022-05-03T07:29:22.987Z"
   },
   {
    "duration": 9,
    "start_time": "2022-05-03T07:29:22.999Z"
   },
   {
    "duration": 206,
    "start_time": "2022-05-03T07:29:23.010Z"
   },
   {
    "duration": 463,
    "start_time": "2022-05-03T07:29:23.218Z"
   },
   {
    "duration": 8,
    "start_time": "2022-05-03T07:29:23.683Z"
   },
   {
    "duration": 5,
    "start_time": "2022-05-03T07:29:23.692Z"
   },
   {
    "duration": 7,
    "start_time": "2022-05-03T07:29:23.699Z"
   },
   {
    "duration": 5,
    "start_time": "2022-05-03T07:29:23.708Z"
   },
   {
    "duration": 751,
    "start_time": "2022-05-03T07:29:23.714Z"
   },
   {
    "duration": 5,
    "start_time": "2022-05-03T07:29:24.473Z"
   },
   {
    "duration": 568,
    "start_time": "2022-05-03T07:29:24.479Z"
   },
   {
    "duration": 5,
    "start_time": "2022-05-03T07:29:25.048Z"
   },
   {
    "duration": 335,
    "start_time": "2022-05-03T07:29:25.054Z"
   },
   {
    "duration": 5,
    "start_time": "2022-05-03T07:29:25.391Z"
   },
   {
    "duration": 5164,
    "start_time": "2022-05-03T07:29:25.397Z"
   },
   {
    "duration": 18,
    "start_time": "2022-05-03T07:29:30.563Z"
   },
   {
    "duration": 171,
    "start_time": "2022-05-03T07:29:30.582Z"
   },
   {
    "duration": 169,
    "start_time": "2022-05-03T07:29:30.754Z"
   },
   {
    "duration": 5,
    "start_time": "2022-05-03T07:29:30.925Z"
   },
   {
    "duration": 156,
    "start_time": "2022-05-03T07:29:30.932Z"
   },
   {
    "duration": 3,
    "start_time": "2022-05-03T07:29:31.090Z"
   },
   {
    "duration": 10,
    "start_time": "2022-05-03T07:29:31.095Z"
   },
   {
    "duration": 5,
    "start_time": "2022-05-03T07:29:31.107Z"
   },
   {
    "duration": 6,
    "start_time": "2022-05-03T07:29:31.114Z"
   },
   {
    "duration": 15,
    "start_time": "2022-05-03T07:29:31.122Z"
   },
   {
    "duration": 5,
    "start_time": "2022-05-03T07:29:31.139Z"
   },
   {
    "duration": 10,
    "start_time": "2022-05-03T07:29:31.146Z"
   },
   {
    "duration": 10,
    "start_time": "2022-05-03T07:29:31.174Z"
   },
   {
    "duration": 10,
    "start_time": "2022-05-03T07:29:31.187Z"
   },
   {
    "duration": 16,
    "start_time": "2022-05-03T07:29:31.199Z"
   },
   {
    "duration": 4,
    "start_time": "2022-05-03T07:29:31.216Z"
   },
   {
    "duration": 8,
    "start_time": "2022-05-03T07:29:31.222Z"
   },
   {
    "duration": 56,
    "start_time": "2022-05-03T07:29:31.231Z"
   },
   {
    "duration": 11444,
    "start_time": "2022-05-03T07:29:31.289Z"
   },
   {
    "duration": 514,
    "start_time": "2022-05-03T07:29:42.735Z"
   },
   {
    "duration": 1471,
    "start_time": "2022-05-03T07:29:43.250Z"
   },
   {
    "duration": 154,
    "start_time": "2022-05-03T07:29:44.722Z"
   },
   {
    "duration": 9,
    "start_time": "2022-05-03T07:29:44.877Z"
   },
   {
    "duration": 20,
    "start_time": "2022-05-03T07:29:44.888Z"
   },
   {
    "duration": 3,
    "start_time": "2022-05-03T07:29:44.910Z"
   },
   {
    "duration": 883,
    "start_time": "2022-05-03T07:29:44.915Z"
   },
   {
    "duration": 134,
    "start_time": "2022-05-03T07:29:45.800Z"
   },
   {
    "duration": 165,
    "start_time": "2022-05-03T07:29:45.936Z"
   },
   {
    "duration": 195,
    "start_time": "2022-05-03T07:29:46.102Z"
   },
   {
    "duration": 169,
    "start_time": "2022-05-03T07:29:46.299Z"
   },
   {
    "duration": 21,
    "start_time": "2022-05-03T07:29:46.469Z"
   },
   {
    "duration": 10,
    "start_time": "2022-05-03T07:29:46.492Z"
   },
   {
    "duration": 14,
    "start_time": "2022-05-03T07:29:46.504Z"
   },
   {
    "duration": 5,
    "start_time": "2022-05-03T07:29:46.519Z"
   },
   {
    "duration": 212,
    "start_time": "2022-05-03T07:29:46.526Z"
   },
   {
    "duration": 7,
    "start_time": "2022-05-03T07:29:46.740Z"
   },
   {
    "duration": 539,
    "start_time": "2022-05-03T07:29:46.749Z"
   },
   {
    "duration": 7619,
    "start_time": "2022-05-03T07:29:47.290Z"
   },
   {
    "duration": 787,
    "start_time": "2022-05-03T07:29:54.914Z"
   },
   {
    "duration": 1380,
    "start_time": "2022-05-04T07:42:48.271Z"
   },
   {
    "duration": 83,
    "start_time": "2022-05-04T07:42:49.653Z"
   },
   {
    "duration": 17,
    "start_time": "2022-05-04T07:42:49.737Z"
   },
   {
    "duration": 10,
    "start_time": "2022-05-04T07:42:49.756Z"
   },
   {
    "duration": 26,
    "start_time": "2022-05-04T07:42:49.767Z"
   },
   {
    "duration": 94,
    "start_time": "2022-05-04T07:42:49.795Z"
   },
   {
    "duration": 653,
    "start_time": "2022-05-04T07:42:49.891Z"
   },
   {
    "duration": 4,
    "start_time": "2022-05-04T07:42:50.546Z"
   },
   {
    "duration": 66,
    "start_time": "2022-05-04T07:42:50.551Z"
   },
   {
    "duration": 19,
    "start_time": "2022-05-04T07:42:50.619Z"
   },
   {
    "duration": 10,
    "start_time": "2022-05-04T07:42:50.640Z"
   },
   {
    "duration": 7,
    "start_time": "2022-05-04T07:42:50.651Z"
   },
   {
    "duration": 13,
    "start_time": "2022-05-04T07:42:50.660Z"
   },
   {
    "duration": 6,
    "start_time": "2022-05-04T07:42:50.674Z"
   },
   {
    "duration": 9,
    "start_time": "2022-05-04T07:42:50.682Z"
   },
   {
    "duration": 11,
    "start_time": "2022-05-04T07:42:50.692Z"
   },
   {
    "duration": 10,
    "start_time": "2022-05-04T07:42:50.705Z"
   },
   {
    "duration": 40,
    "start_time": "2022-05-04T07:42:50.717Z"
   },
   {
    "duration": 6,
    "start_time": "2022-05-04T07:42:50.759Z"
   },
   {
    "duration": 12,
    "start_time": "2022-05-04T07:42:50.767Z"
   },
   {
    "duration": 12,
    "start_time": "2022-05-04T07:42:50.781Z"
   },
   {
    "duration": 25,
    "start_time": "2022-05-04T07:42:50.794Z"
   },
   {
    "duration": 10,
    "start_time": "2022-05-04T07:42:50.820Z"
   },
   {
    "duration": 12,
    "start_time": "2022-05-04T07:42:50.831Z"
   },
   {
    "duration": 6,
    "start_time": "2022-05-04T07:42:50.845Z"
   },
   {
    "duration": 316,
    "start_time": "2022-05-04T07:42:50.853Z"
   },
   {
    "duration": 9,
    "start_time": "2022-05-04T07:42:51.170Z"
   },
   {
    "duration": 9,
    "start_time": "2022-05-04T07:42:51.183Z"
   },
   {
    "duration": 29,
    "start_time": "2022-05-04T07:42:51.193Z"
   },
   {
    "duration": 4,
    "start_time": "2022-05-04T07:42:51.233Z"
   },
   {
    "duration": 9,
    "start_time": "2022-05-04T07:42:51.239Z"
   },
   {
    "duration": 229,
    "start_time": "2022-05-04T07:42:51.250Z"
   },
   {
    "duration": 515,
    "start_time": "2022-05-04T07:42:51.481Z"
   },
   {
    "duration": 9,
    "start_time": "2022-05-04T07:42:51.997Z"
   },
   {
    "duration": 4,
    "start_time": "2022-05-04T07:42:52.008Z"
   },
   {
    "duration": 19,
    "start_time": "2022-05-04T07:42:52.014Z"
   },
   {
    "duration": 5,
    "start_time": "2022-05-04T07:42:52.035Z"
   },
   {
    "duration": 802,
    "start_time": "2022-05-04T07:42:52.041Z"
   },
   {
    "duration": 4,
    "start_time": "2022-05-04T07:42:52.845Z"
   },
   {
    "duration": 622,
    "start_time": "2022-05-04T07:42:52.851Z"
   },
   {
    "duration": 5,
    "start_time": "2022-05-04T07:42:53.475Z"
   },
   {
    "duration": 395,
    "start_time": "2022-05-04T07:42:53.482Z"
   },
   {
    "duration": 5,
    "start_time": "2022-05-04T07:42:53.878Z"
   },
   {
    "duration": 4849,
    "start_time": "2022-05-04T07:42:53.885Z"
   },
   {
    "duration": 10,
    "start_time": "2022-05-04T07:42:58.736Z"
   },
   {
    "duration": 178,
    "start_time": "2022-05-04T07:42:58.748Z"
   },
   {
    "duration": 167,
    "start_time": "2022-05-04T07:42:58.927Z"
   },
   {
    "duration": 4,
    "start_time": "2022-05-04T07:42:59.096Z"
   },
   {
    "duration": 157,
    "start_time": "2022-05-04T07:42:59.101Z"
   },
   {
    "duration": 2,
    "start_time": "2022-05-04T07:42:59.260Z"
   },
   {
    "duration": 7,
    "start_time": "2022-05-04T07:42:59.263Z"
   },
   {
    "duration": 5,
    "start_time": "2022-05-04T07:42:59.272Z"
   },
   {
    "duration": 9,
    "start_time": "2022-05-04T07:42:59.279Z"
   },
   {
    "duration": 13,
    "start_time": "2022-05-04T07:42:59.289Z"
   },
   {
    "duration": 3,
    "start_time": "2022-05-04T07:42:59.304Z"
   },
   {
    "duration": 9,
    "start_time": "2022-05-04T07:42:59.308Z"
   },
   {
    "duration": 7,
    "start_time": "2022-05-04T07:42:59.334Z"
   },
   {
    "duration": 8,
    "start_time": "2022-05-04T07:42:59.343Z"
   },
   {
    "duration": 12,
    "start_time": "2022-05-04T07:42:59.353Z"
   },
   {
    "duration": 3,
    "start_time": "2022-05-04T07:42:59.367Z"
   },
   {
    "duration": 7,
    "start_time": "2022-05-04T07:42:59.372Z"
   },
   {
    "duration": 53,
    "start_time": "2022-05-04T07:42:59.381Z"
   },
   {
    "duration": 13340,
    "start_time": "2022-05-04T07:42:59.436Z"
   },
   {
    "duration": 599,
    "start_time": "2022-05-04T07:43:12.778Z"
   },
   {
    "duration": 1495,
    "start_time": "2022-05-04T07:43:13.378Z"
   },
   {
    "duration": 180,
    "start_time": "2022-05-04T07:43:14.875Z"
   },
   {
    "duration": 10,
    "start_time": "2022-05-04T07:43:15.057Z"
   },
   {
    "duration": 20,
    "start_time": "2022-05-04T07:43:15.069Z"
   },
   {
    "duration": 4,
    "start_time": "2022-05-04T07:43:15.091Z"
   },
   {
    "duration": 966,
    "start_time": "2022-05-04T07:43:15.096Z"
   },
   {
    "duration": 147,
    "start_time": "2022-05-04T07:43:16.063Z"
   },
   {
    "duration": 184,
    "start_time": "2022-05-04T07:43:16.212Z"
   },
   {
    "duration": 213,
    "start_time": "2022-05-04T07:43:16.398Z"
   },
   {
    "duration": 197,
    "start_time": "2022-05-04T07:43:16.613Z"
   },
   {
    "duration": 31,
    "start_time": "2022-05-04T07:43:16.811Z"
   },
   {
    "duration": 10,
    "start_time": "2022-05-04T07:43:16.844Z"
   },
   {
    "duration": 17,
    "start_time": "2022-05-04T07:43:16.856Z"
   },
   {
    "duration": 6,
    "start_time": "2022-05-04T07:43:16.875Z"
   },
   {
    "duration": 237,
    "start_time": "2022-05-04T07:43:16.883Z"
   },
   {
    "duration": 16,
    "start_time": "2022-05-04T07:43:17.121Z"
   },
   {
    "duration": 602,
    "start_time": "2022-05-04T07:43:17.138Z"
   },
   {
    "duration": 7445,
    "start_time": "2022-05-04T07:43:17.746Z"
   },
   {
    "duration": 967,
    "start_time": "2022-05-04T07:43:25.192Z"
   },
   {
    "duration": 4,
    "start_time": "2022-05-04T07:43:48.584Z"
   },
   {
    "duration": 92,
    "start_time": "2022-05-04T07:43:48.590Z"
   },
   {
    "duration": 17,
    "start_time": "2022-05-04T07:43:48.684Z"
   },
   {
    "duration": 33,
    "start_time": "2022-05-04T07:43:48.702Z"
   },
   {
    "duration": 30,
    "start_time": "2022-05-04T07:43:48.737Z"
   },
   {
    "duration": 116,
    "start_time": "2022-05-04T07:43:48.769Z"
   },
   {
    "duration": 626,
    "start_time": "2022-05-04T07:43:48.887Z"
   },
   {
    "duration": 4,
    "start_time": "2022-05-04T07:43:49.515Z"
   },
   {
    "duration": 68,
    "start_time": "2022-05-04T07:43:49.520Z"
   },
   {
    "duration": 7,
    "start_time": "2022-05-04T07:43:49.589Z"
   },
   {
    "duration": 6,
    "start_time": "2022-05-04T07:43:49.599Z"
   },
   {
    "duration": 30,
    "start_time": "2022-05-04T07:43:49.607Z"
   },
   {
    "duration": 6,
    "start_time": "2022-05-04T07:43:49.638Z"
   },
   {
    "duration": 7,
    "start_time": "2022-05-04T07:43:49.646Z"
   },
   {
    "duration": 8,
    "start_time": "2022-05-04T07:43:49.654Z"
   },
   {
    "duration": 10,
    "start_time": "2022-05-04T07:43:49.663Z"
   },
   {
    "duration": 10,
    "start_time": "2022-05-04T07:43:49.675Z"
   },
   {
    "duration": 47,
    "start_time": "2022-05-04T07:43:49.687Z"
   },
   {
    "duration": 6,
    "start_time": "2022-05-04T07:43:49.736Z"
   },
   {
    "duration": 10,
    "start_time": "2022-05-04T07:43:49.743Z"
   },
   {
    "duration": 6,
    "start_time": "2022-05-04T07:43:49.755Z"
   },
   {
    "duration": 6,
    "start_time": "2022-05-04T07:43:49.763Z"
   },
   {
    "duration": 7,
    "start_time": "2022-05-04T07:43:49.771Z"
   },
   {
    "duration": 6,
    "start_time": "2022-05-04T07:43:49.780Z"
   },
   {
    "duration": 7,
    "start_time": "2022-05-04T07:43:49.788Z"
   },
   {
    "duration": 315,
    "start_time": "2022-05-04T07:43:49.797Z"
   },
   {
    "duration": 10,
    "start_time": "2022-05-04T07:43:50.113Z"
   },
   {
    "duration": 8,
    "start_time": "2022-05-04T07:43:50.133Z"
   },
   {
    "duration": 18,
    "start_time": "2022-05-04T07:43:50.146Z"
   },
   {
    "duration": 5,
    "start_time": "2022-05-04T07:43:50.165Z"
   },
   {
    "duration": 7,
    "start_time": "2022-05-04T07:43:50.172Z"
   },
   {
    "duration": 228,
    "start_time": "2022-05-04T07:43:50.180Z"
   },
   {
    "duration": 482,
    "start_time": "2022-05-04T07:43:50.410Z"
   },
   {
    "duration": 10,
    "start_time": "2022-05-04T07:43:50.893Z"
   },
   {
    "duration": 7,
    "start_time": "2022-05-04T07:43:50.905Z"
   },
   {
    "duration": 19,
    "start_time": "2022-05-04T07:43:50.914Z"
   },
   {
    "duration": 5,
    "start_time": "2022-05-04T07:43:50.935Z"
   },
   {
    "duration": 968,
    "start_time": "2022-05-04T07:43:50.942Z"
   },
   {
    "duration": 5,
    "start_time": "2022-05-04T07:43:51.912Z"
   },
   {
    "duration": 587,
    "start_time": "2022-05-04T07:43:51.918Z"
   },
   {
    "duration": 5,
    "start_time": "2022-05-04T07:43:52.506Z"
   },
   {
    "duration": 359,
    "start_time": "2022-05-04T07:43:52.513Z"
   },
   {
    "duration": 4,
    "start_time": "2022-05-04T07:43:52.874Z"
   },
   {
    "duration": 4788,
    "start_time": "2022-05-04T07:43:52.880Z"
   },
   {
    "duration": 9,
    "start_time": "2022-05-04T07:43:57.670Z"
   },
   {
    "duration": 175,
    "start_time": "2022-05-04T07:43:57.681Z"
   },
   {
    "duration": 169,
    "start_time": "2022-05-04T07:43:57.858Z"
   },
   {
    "duration": 4,
    "start_time": "2022-05-04T07:43:58.033Z"
   },
   {
    "duration": 153,
    "start_time": "2022-05-04T07:43:58.039Z"
   },
   {
    "duration": 3,
    "start_time": "2022-05-04T07:43:58.194Z"
   },
   {
    "duration": 6,
    "start_time": "2022-05-04T07:43:58.198Z"
   },
   {
    "duration": 6,
    "start_time": "2022-05-04T07:43:58.205Z"
   },
   {
    "duration": 5,
    "start_time": "2022-05-04T07:43:58.212Z"
   },
   {
    "duration": 9,
    "start_time": "2022-05-04T07:43:58.234Z"
   },
   {
    "duration": 5,
    "start_time": "2022-05-04T07:43:58.244Z"
   },
   {
    "duration": 6,
    "start_time": "2022-05-04T07:43:58.250Z"
   },
   {
    "duration": 11,
    "start_time": "2022-05-04T07:43:58.258Z"
   },
   {
    "duration": 8,
    "start_time": "2022-05-04T07:43:58.271Z"
   },
   {
    "duration": 14,
    "start_time": "2022-05-04T07:43:58.281Z"
   },
   {
    "duration": 39,
    "start_time": "2022-05-04T07:43:58.297Z"
   },
   {
    "duration": 19,
    "start_time": "2022-05-04T07:43:58.337Z"
   },
   {
    "duration": 32,
    "start_time": "2022-05-04T07:43:58.358Z"
   },
   {
    "duration": 13522,
    "start_time": "2022-05-04T07:43:58.392Z"
   },
   {
    "duration": 1785,
    "start_time": "2022-05-04T07:44:11.916Z"
   },
   {
    "duration": 400,
    "start_time": "2022-05-04T07:44:13.703Z"
   },
   {
    "duration": 177,
    "start_time": "2022-05-04T07:44:14.105Z"
   },
   {
    "duration": 10,
    "start_time": "2022-05-04T07:44:14.284Z"
   },
   {
    "duration": 3,
    "start_time": "2022-05-04T07:44:14.296Z"
   },
   {
    "duration": 25,
    "start_time": "2022-05-04T07:44:14.301Z"
   },
   {
    "duration": 6,
    "start_time": "2022-05-04T07:44:14.328Z"
   },
   {
    "duration": 1081,
    "start_time": "2022-05-04T07:44:14.336Z"
   },
   {
    "duration": 158,
    "start_time": "2022-05-04T07:44:15.418Z"
   },
   {
    "duration": 180,
    "start_time": "2022-05-04T07:44:15.577Z"
   },
   {
    "duration": 212,
    "start_time": "2022-05-04T07:44:15.759Z"
   },
   {
    "duration": 198,
    "start_time": "2022-05-04T07:44:15.972Z"
   },
   {
    "duration": 22,
    "start_time": "2022-05-04T07:44:16.172Z"
   },
   {
    "duration": 10,
    "start_time": "2022-05-04T07:44:16.196Z"
   },
   {
    "duration": 35,
    "start_time": "2022-05-04T07:44:16.208Z"
   },
   {
    "duration": 13,
    "start_time": "2022-05-04T07:44:16.245Z"
   },
   {
    "duration": 221,
    "start_time": "2022-05-04T07:44:16.259Z"
   },
   {
    "duration": 9,
    "start_time": "2022-05-04T07:44:16.482Z"
   },
   {
    "duration": 604,
    "start_time": "2022-05-04T07:44:16.492Z"
   },
   {
    "duration": 7690,
    "start_time": "2022-05-04T07:44:17.102Z"
   },
   {
    "duration": 939,
    "start_time": "2022-05-04T07:44:24.793Z"
   },
   {
    "duration": 6,
    "start_time": "2022-05-04T07:45:05.659Z"
   },
   {
    "duration": 134,
    "start_time": "2022-05-04T07:45:05.668Z"
   },
   {
    "duration": 37,
    "start_time": "2022-05-04T07:45:05.803Z"
   },
   {
    "duration": 10,
    "start_time": "2022-05-04T07:45:05.843Z"
   },
   {
    "duration": 35,
    "start_time": "2022-05-04T07:45:05.854Z"
   },
   {
    "duration": 113,
    "start_time": "2022-05-04T07:45:05.891Z"
   },
   {
    "duration": 633,
    "start_time": "2022-05-04T07:45:06.007Z"
   },
   {
    "duration": 3,
    "start_time": "2022-05-04T07:45:06.643Z"
   },
   {
    "duration": 90,
    "start_time": "2022-05-04T07:45:06.651Z"
   },
   {
    "duration": 8,
    "start_time": "2022-05-04T07:45:06.743Z"
   },
   {
    "duration": 7,
    "start_time": "2022-05-04T07:45:06.753Z"
   },
   {
    "duration": 8,
    "start_time": "2022-05-04T07:45:06.762Z"
   },
   {
    "duration": 9,
    "start_time": "2022-05-04T07:45:06.772Z"
   },
   {
    "duration": 5,
    "start_time": "2022-05-04T07:45:06.784Z"
   },
   {
    "duration": 43,
    "start_time": "2022-05-04T07:45:06.791Z"
   },
   {
    "duration": 17,
    "start_time": "2022-05-04T07:45:06.836Z"
   },
   {
    "duration": 18,
    "start_time": "2022-05-04T07:45:06.856Z"
   },
   {
    "duration": 32,
    "start_time": "2022-05-04T07:45:06.876Z"
   },
   {
    "duration": 24,
    "start_time": "2022-05-04T07:45:06.909Z"
   },
   {
    "duration": 11,
    "start_time": "2022-05-04T07:45:06.936Z"
   },
   {
    "duration": 18,
    "start_time": "2022-05-04T07:45:06.949Z"
   },
   {
    "duration": 7,
    "start_time": "2022-05-04T07:45:06.969Z"
   },
   {
    "duration": 11,
    "start_time": "2022-05-04T07:45:06.977Z"
   },
   {
    "duration": 6,
    "start_time": "2022-05-04T07:45:06.992Z"
   },
   {
    "duration": 33,
    "start_time": "2022-05-04T07:45:07.000Z"
   },
   {
    "duration": 336,
    "start_time": "2022-05-04T07:45:07.035Z"
   },
   {
    "duration": 9,
    "start_time": "2022-05-04T07:45:07.372Z"
   },
   {
    "duration": 8,
    "start_time": "2022-05-04T07:45:07.383Z"
   },
   {
    "duration": 16,
    "start_time": "2022-05-04T07:45:07.393Z"
   },
   {
    "duration": 4,
    "start_time": "2022-05-04T07:45:07.433Z"
   },
   {
    "duration": 12,
    "start_time": "2022-05-04T07:45:07.439Z"
   },
   {
    "duration": 225,
    "start_time": "2022-05-04T07:45:07.452Z"
   },
   {
    "duration": 555,
    "start_time": "2022-05-04T07:45:07.679Z"
   },
   {
    "duration": 10,
    "start_time": "2022-05-04T07:45:08.236Z"
   },
   {
    "duration": 5,
    "start_time": "2022-05-04T07:45:08.248Z"
   },
   {
    "duration": 9,
    "start_time": "2022-05-04T07:45:08.255Z"
   },
   {
    "duration": 7,
    "start_time": "2022-05-04T07:45:08.266Z"
   },
   {
    "duration": 742,
    "start_time": "2022-05-04T07:45:08.275Z"
   },
   {
    "duration": 6,
    "start_time": "2022-05-04T07:45:09.019Z"
   },
   {
    "duration": 586,
    "start_time": "2022-05-04T07:45:09.033Z"
   },
   {
    "duration": 14,
    "start_time": "2022-05-04T07:45:09.621Z"
   },
   {
    "duration": 368,
    "start_time": "2022-05-04T07:45:09.636Z"
   },
   {
    "duration": 5,
    "start_time": "2022-05-04T07:45:10.006Z"
   },
   {
    "duration": 5876,
    "start_time": "2022-05-04T07:45:10.013Z"
   },
   {
    "duration": 9,
    "start_time": "2022-05-04T07:45:15.891Z"
   },
   {
    "duration": 203,
    "start_time": "2022-05-04T07:45:15.902Z"
   },
   {
    "duration": 195,
    "start_time": "2022-05-04T07:45:16.106Z"
   },
   {
    "duration": 4,
    "start_time": "2022-05-04T07:45:16.304Z"
   },
   {
    "duration": 184,
    "start_time": "2022-05-04T07:45:16.310Z"
   },
   {
    "duration": 3,
    "start_time": "2022-05-04T07:45:16.497Z"
   },
   {
    "duration": 8,
    "start_time": "2022-05-04T07:45:16.502Z"
   },
   {
    "duration": 46,
    "start_time": "2022-05-04T07:45:16.512Z"
   },
   {
    "duration": 20,
    "start_time": "2022-05-04T07:45:16.560Z"
   },
   {
    "duration": 28,
    "start_time": "2022-05-04T07:45:16.581Z"
   },
   {
    "duration": 31,
    "start_time": "2022-05-04T07:45:16.611Z"
   },
   {
    "duration": 31,
    "start_time": "2022-05-04T07:45:16.644Z"
   },
   {
    "duration": 23,
    "start_time": "2022-05-04T07:45:16.677Z"
   },
   {
    "duration": 16,
    "start_time": "2022-05-04T07:45:16.702Z"
   },
   {
    "duration": 12,
    "start_time": "2022-05-04T07:45:16.720Z"
   },
   {
    "duration": 18,
    "start_time": "2022-05-04T07:45:16.734Z"
   },
   {
    "duration": 25,
    "start_time": "2022-05-04T07:45:16.755Z"
   },
   {
    "duration": 51,
    "start_time": "2022-05-04T07:45:16.781Z"
   },
   {
    "duration": 12962,
    "start_time": "2022-05-04T07:45:16.835Z"
   },
   {
    "duration": 593,
    "start_time": "2022-05-04T07:45:29.799Z"
   },
   {
    "duration": 394,
    "start_time": "2022-05-04T07:45:30.393Z"
   },
   {
    "duration": 172,
    "start_time": "2022-05-04T07:45:30.789Z"
   },
   {
    "duration": 11,
    "start_time": "2022-05-04T07:45:30.963Z"
   },
   {
    "duration": 19,
    "start_time": "2022-05-04T07:45:30.980Z"
   },
   {
    "duration": 4,
    "start_time": "2022-05-04T07:45:36.032Z"
   },
   {
    "duration": 10,
    "start_time": "2022-05-04T07:45:38.512Z"
   },
   {
    "duration": 4,
    "start_time": "2022-05-04T07:45:40.297Z"
   },
   {
    "duration": 11,
    "start_time": "2022-05-04T07:45:45.744Z"
   },
   {
    "duration": 4,
    "start_time": "2022-05-04T07:45:46.546Z"
   },
   {
    "duration": 12,
    "start_time": "2022-05-04T07:45:49.328Z"
   },
   {
    "duration": 4,
    "start_time": "2022-05-04T07:45:49.895Z"
   },
   {
    "duration": 16,
    "start_time": "2022-05-04T07:45:52.217Z"
   },
   {
    "duration": 4,
    "start_time": "2022-05-04T07:45:52.681Z"
   },
   {
    "duration": 16,
    "start_time": "2022-05-04T07:45:54.953Z"
   },
   {
    "duration": 4,
    "start_time": "2022-05-04T07:45:55.733Z"
   },
   {
    "duration": 4,
    "start_time": "2022-05-04T07:46:29.012Z"
   },
   {
    "duration": 305,
    "start_time": "2022-05-04T07:46:29.018Z"
   },
   {
    "duration": 15,
    "start_time": "2022-05-04T07:46:29.325Z"
   },
   {
    "duration": 10,
    "start_time": "2022-05-04T07:46:29.342Z"
   },
   {
    "duration": 28,
    "start_time": "2022-05-04T07:46:29.354Z"
   },
   {
    "duration": 98,
    "start_time": "2022-05-04T07:46:29.384Z"
   },
   {
    "duration": 629,
    "start_time": "2022-05-04T07:46:29.485Z"
   },
   {
    "duration": 5,
    "start_time": "2022-05-04T07:46:30.116Z"
   },
   {
    "duration": 79,
    "start_time": "2022-05-04T07:46:30.123Z"
   },
   {
    "duration": 9,
    "start_time": "2022-05-04T07:46:30.205Z"
   },
   {
    "duration": 17,
    "start_time": "2022-05-04T07:46:30.218Z"
   },
   {
    "duration": 20,
    "start_time": "2022-05-04T07:46:30.238Z"
   },
   {
    "duration": 21,
    "start_time": "2022-05-04T07:46:30.260Z"
   },
   {
    "duration": 17,
    "start_time": "2022-05-04T07:46:30.283Z"
   },
   {
    "duration": 20,
    "start_time": "2022-05-04T07:46:30.302Z"
   },
   {
    "duration": 14,
    "start_time": "2022-05-04T07:46:30.324Z"
   },
   {
    "duration": 28,
    "start_time": "2022-05-04T07:46:30.339Z"
   },
   {
    "duration": 31,
    "start_time": "2022-05-04T07:46:30.370Z"
   },
   {
    "duration": 6,
    "start_time": "2022-05-04T07:46:30.403Z"
   },
   {
    "duration": 20,
    "start_time": "2022-05-04T07:46:30.410Z"
   },
   {
    "duration": 16,
    "start_time": "2022-05-04T07:46:30.431Z"
   },
   {
    "duration": 13,
    "start_time": "2022-05-04T07:46:30.449Z"
   },
   {
    "duration": 101,
    "start_time": "2022-05-04T07:46:30.464Z"
   },
   {
    "duration": 25,
    "start_time": "2022-05-04T07:46:30.567Z"
   },
   {
    "duration": 27,
    "start_time": "2022-05-04T07:46:30.594Z"
   },
   {
    "duration": 329,
    "start_time": "2022-05-04T07:46:30.622Z"
   },
   {
    "duration": 10,
    "start_time": "2022-05-04T07:46:30.952Z"
   },
   {
    "duration": 22,
    "start_time": "2022-05-04T07:46:30.963Z"
   },
   {
    "duration": 16,
    "start_time": "2022-05-04T07:46:30.990Z"
   },
   {
    "duration": 22,
    "start_time": "2022-05-04T07:46:31.008Z"
   },
   {
    "duration": 22,
    "start_time": "2022-05-04T07:46:31.031Z"
   },
   {
    "duration": 222,
    "start_time": "2022-05-04T07:46:31.055Z"
   },
   {
    "duration": 2117,
    "start_time": "2022-05-04T07:46:31.279Z"
   },
   {
    "duration": 10,
    "start_time": "2022-05-04T07:46:33.397Z"
   },
   {
    "duration": 8,
    "start_time": "2022-05-04T07:46:33.408Z"
   },
   {
    "duration": 15,
    "start_time": "2022-05-04T07:46:33.418Z"
   },
   {
    "duration": 5,
    "start_time": "2022-05-04T07:46:33.435Z"
   },
   {
    "duration": 794,
    "start_time": "2022-05-04T07:46:33.442Z"
   },
   {
    "duration": 5,
    "start_time": "2022-05-04T07:46:34.238Z"
   },
   {
    "duration": 893,
    "start_time": "2022-05-04T07:46:34.244Z"
   },
   {
    "duration": 5,
    "start_time": "2022-05-04T07:46:35.139Z"
   },
   {
    "duration": 732,
    "start_time": "2022-05-04T07:46:35.145Z"
   },
   {
    "duration": 59,
    "start_time": "2022-05-04T07:46:35.878Z"
   },
   {
    "duration": 4982,
    "start_time": "2022-05-04T07:46:35.939Z"
   },
   {
    "duration": 15,
    "start_time": "2022-05-04T07:46:40.923Z"
   },
   {
    "duration": 172,
    "start_time": "2022-05-04T07:46:40.939Z"
   },
   {
    "duration": 173,
    "start_time": "2022-05-04T07:46:41.113Z"
   },
   {
    "duration": 3,
    "start_time": "2022-05-04T07:46:41.288Z"
   },
   {
    "duration": 152,
    "start_time": "2022-05-04T07:46:41.293Z"
   },
   {
    "duration": 2,
    "start_time": "2022-05-04T07:46:41.447Z"
   },
   {
    "duration": 6,
    "start_time": "2022-05-04T07:46:41.451Z"
   },
   {
    "duration": 6,
    "start_time": "2022-05-04T07:46:41.458Z"
   },
   {
    "duration": 7,
    "start_time": "2022-05-04T07:46:41.465Z"
   },
   {
    "duration": 12,
    "start_time": "2022-05-04T07:46:41.474Z"
   },
   {
    "duration": 4,
    "start_time": "2022-05-04T07:46:41.488Z"
   },
   {
    "duration": 8,
    "start_time": "2022-05-04T07:46:41.493Z"
   },
   {
    "duration": 38,
    "start_time": "2022-05-04T07:46:41.503Z"
   },
   {
    "duration": 8,
    "start_time": "2022-05-04T07:46:41.543Z"
   },
   {
    "duration": 12,
    "start_time": "2022-05-04T07:46:41.552Z"
   },
   {
    "duration": 4,
    "start_time": "2022-05-04T07:46:41.566Z"
   },
   {
    "duration": 7,
    "start_time": "2022-05-04T07:46:41.571Z"
   },
   {
    "duration": 28,
    "start_time": "2022-05-04T07:46:41.580Z"
   },
   {
    "duration": 12876,
    "start_time": "2022-05-04T07:46:41.634Z"
   },
   {
    "duration": 595,
    "start_time": "2022-05-04T07:46:54.512Z"
   },
   {
    "duration": 386,
    "start_time": "2022-05-04T07:46:55.109Z"
   },
   {
    "duration": 165,
    "start_time": "2022-05-04T07:46:55.497Z"
   },
   {
    "duration": 11,
    "start_time": "2022-05-04T07:46:55.664Z"
   },
   {
    "duration": 3,
    "start_time": "2022-05-04T07:46:55.677Z"
   },
   {
    "duration": 27,
    "start_time": "2022-05-04T07:46:55.682Z"
   },
   {
    "duration": 24,
    "start_time": "2022-05-04T07:46:55.711Z"
   },
   {
    "duration": 881,
    "start_time": "2022-05-04T07:46:55.737Z"
   },
   {
    "duration": 158,
    "start_time": "2022-05-04T07:46:56.620Z"
   },
   {
    "duration": 177,
    "start_time": "2022-05-04T07:46:56.781Z"
   },
   {
    "duration": 215,
    "start_time": "2022-05-04T07:46:56.960Z"
   },
   {
    "duration": 187,
    "start_time": "2022-05-04T07:46:57.177Z"
   },
   {
    "duration": 20,
    "start_time": "2022-05-04T07:46:57.366Z"
   },
   {
    "duration": 11,
    "start_time": "2022-05-04T07:46:57.387Z"
   },
   {
    "duration": 36,
    "start_time": "2022-05-04T07:46:57.399Z"
   },
   {
    "duration": 7,
    "start_time": "2022-05-04T07:46:57.436Z"
   },
   {
    "duration": 213,
    "start_time": "2022-05-04T07:46:57.445Z"
   },
   {
    "duration": 8,
    "start_time": "2022-05-04T07:46:57.660Z"
   },
   {
    "duration": 564,
    "start_time": "2022-05-04T07:46:57.669Z"
   },
   {
    "duration": 7389,
    "start_time": "2022-05-04T07:46:58.239Z"
   },
   {
    "duration": 902,
    "start_time": "2022-05-04T07:47:05.629Z"
   },
   {
    "duration": 4,
    "start_time": "2022-05-04T07:47:06.534Z"
   },
   {
    "duration": 5,
    "start_time": "2022-05-04T07:48:15.431Z"
   },
   {
    "duration": 97,
    "start_time": "2022-05-04T07:48:15.439Z"
   },
   {
    "duration": 17,
    "start_time": "2022-05-04T07:48:15.538Z"
   },
   {
    "duration": 11,
    "start_time": "2022-05-04T07:48:15.557Z"
   },
   {
    "duration": 30,
    "start_time": "2022-05-04T07:48:15.572Z"
   },
   {
    "duration": 112,
    "start_time": "2022-05-04T07:48:15.604Z"
   },
   {
    "duration": 606,
    "start_time": "2022-05-04T07:48:15.718Z"
   },
   {
    "duration": 7,
    "start_time": "2022-05-04T07:48:16.326Z"
   },
   {
    "duration": 70,
    "start_time": "2022-05-04T07:48:16.335Z"
   },
   {
    "duration": 8,
    "start_time": "2022-05-04T07:48:16.407Z"
   },
   {
    "duration": 7,
    "start_time": "2022-05-04T07:48:16.434Z"
   },
   {
    "duration": 7,
    "start_time": "2022-05-04T07:48:16.443Z"
   },
   {
    "duration": 6,
    "start_time": "2022-05-04T07:48:16.452Z"
   },
   {
    "duration": 10,
    "start_time": "2022-05-04T07:48:16.461Z"
   },
   {
    "duration": 9,
    "start_time": "2022-05-04T07:48:16.472Z"
   },
   {
    "duration": 19,
    "start_time": "2022-05-04T07:48:16.482Z"
   },
   {
    "duration": 8,
    "start_time": "2022-05-04T07:48:16.503Z"
   },
   {
    "duration": 29,
    "start_time": "2022-05-04T07:48:16.534Z"
   },
   {
    "duration": 6,
    "start_time": "2022-05-04T07:48:16.565Z"
   },
   {
    "duration": 8,
    "start_time": "2022-05-04T07:48:16.573Z"
   },
   {
    "duration": 5,
    "start_time": "2022-05-04T07:48:16.583Z"
   },
   {
    "duration": 7,
    "start_time": "2022-05-04T07:48:16.590Z"
   },
   {
    "duration": 43,
    "start_time": "2022-05-04T07:48:16.599Z"
   },
   {
    "duration": 7,
    "start_time": "2022-05-04T07:48:16.643Z"
   },
   {
    "duration": 7,
    "start_time": "2022-05-04T07:48:16.652Z"
   },
   {
    "duration": 310,
    "start_time": "2022-05-04T07:48:16.660Z"
   },
   {
    "duration": 9,
    "start_time": "2022-05-04T07:48:16.972Z"
   },
   {
    "duration": 8,
    "start_time": "2022-05-04T07:48:16.982Z"
   },
   {
    "duration": 13,
    "start_time": "2022-05-04T07:48:16.992Z"
   },
   {
    "duration": 29,
    "start_time": "2022-05-04T07:48:17.006Z"
   },
   {
    "duration": 8,
    "start_time": "2022-05-04T07:48:17.037Z"
   },
   {
    "duration": 222,
    "start_time": "2022-05-04T07:48:17.046Z"
   },
   {
    "duration": 499,
    "start_time": "2022-05-04T07:48:17.270Z"
   },
   {
    "duration": 10,
    "start_time": "2022-05-04T07:48:17.771Z"
   },
   {
    "duration": 5,
    "start_time": "2022-05-04T07:48:17.782Z"
   },
   {
    "duration": 9,
    "start_time": "2022-05-04T07:48:17.788Z"
   },
   {
    "duration": 5,
    "start_time": "2022-05-04T07:48:17.799Z"
   },
   {
    "duration": 727,
    "start_time": "2022-05-04T07:48:17.805Z"
   },
   {
    "duration": 5,
    "start_time": "2022-05-04T07:48:18.533Z"
   },
   {
    "duration": 603,
    "start_time": "2022-05-04T07:48:18.540Z"
   },
   {
    "duration": 5,
    "start_time": "2022-05-04T07:48:19.148Z"
   },
   {
    "duration": 383,
    "start_time": "2022-05-04T07:48:19.155Z"
   },
   {
    "duration": 5,
    "start_time": "2022-05-04T07:48:19.540Z"
   },
   {
    "duration": 5912,
    "start_time": "2022-05-04T07:48:19.547Z"
   },
   {
    "duration": 9,
    "start_time": "2022-05-04T07:48:25.461Z"
   },
   {
    "duration": 179,
    "start_time": "2022-05-04T07:48:25.472Z"
   },
   {
    "duration": 169,
    "start_time": "2022-05-04T07:48:25.653Z"
   },
   {
    "duration": 4,
    "start_time": "2022-05-04T07:48:25.824Z"
   },
   {
    "duration": 160,
    "start_time": "2022-05-04T07:48:25.834Z"
   },
   {
    "duration": 2,
    "start_time": "2022-05-04T07:48:25.996Z"
   },
   {
    "duration": 8,
    "start_time": "2022-05-04T07:48:26.000Z"
   },
   {
    "duration": 11,
    "start_time": "2022-05-04T07:48:26.010Z"
   },
   {
    "duration": 7,
    "start_time": "2022-05-04T07:48:26.023Z"
   },
   {
    "duration": 10,
    "start_time": "2022-05-04T07:48:26.034Z"
   },
   {
    "duration": 4,
    "start_time": "2022-05-04T07:48:26.046Z"
   },
   {
    "duration": 11,
    "start_time": "2022-05-04T07:48:26.051Z"
   },
   {
    "duration": 15,
    "start_time": "2022-05-04T07:48:26.064Z"
   },
   {
    "duration": 8,
    "start_time": "2022-05-04T07:48:26.081Z"
   },
   {
    "duration": 10,
    "start_time": "2022-05-04T07:48:26.091Z"
   },
   {
    "duration": 32,
    "start_time": "2022-05-04T07:48:26.103Z"
   },
   {
    "duration": 7,
    "start_time": "2022-05-04T07:48:26.137Z"
   },
   {
    "duration": 32,
    "start_time": "2022-05-04T07:48:26.145Z"
   },
   {
    "duration": 13168,
    "start_time": "2022-05-04T07:48:26.179Z"
   },
   {
    "duration": 569,
    "start_time": "2022-05-04T07:48:39.349Z"
   },
   {
    "duration": 392,
    "start_time": "2022-05-04T07:48:39.920Z"
   },
   {
    "duration": 174,
    "start_time": "2022-05-04T07:48:40.315Z"
   },
   {
    "duration": 11,
    "start_time": "2022-05-04T07:48:40.492Z"
   },
   {
    "duration": 4,
    "start_time": "2022-05-04T07:48:58.561Z"
   },
   {
    "duration": 11,
    "start_time": "2022-05-04T07:49:05.106Z"
   },
   {
    "duration": 4,
    "start_time": "2022-05-04T07:49:05.658Z"
   },
   {
    "duration": 10,
    "start_time": "2022-05-04T07:49:09.439Z"
   },
   {
    "duration": 4,
    "start_time": "2022-05-04T07:49:10.065Z"
   },
   {
    "duration": 14,
    "start_time": "2022-05-04T07:49:12.505Z"
   },
   {
    "duration": 4,
    "start_time": "2022-05-04T07:49:12.881Z"
   },
   {
    "duration": 16,
    "start_time": "2022-05-04T07:49:15.129Z"
   },
   {
    "duration": 4,
    "start_time": "2022-05-04T07:49:15.593Z"
   },
   {
    "duration": 4,
    "start_time": "2022-05-04T07:49:24.109Z"
   },
   {
    "duration": 98,
    "start_time": "2022-05-04T07:49:24.115Z"
   },
   {
    "duration": 24,
    "start_time": "2022-05-04T07:49:24.216Z"
   },
   {
    "duration": 9,
    "start_time": "2022-05-04T07:49:24.242Z"
   },
   {
    "duration": 29,
    "start_time": "2022-05-04T07:49:24.253Z"
   },
   {
    "duration": 108,
    "start_time": "2022-05-04T07:49:24.283Z"
   },
   {
    "duration": 614,
    "start_time": "2022-05-04T07:49:24.393Z"
   },
   {
    "duration": 4,
    "start_time": "2022-05-04T07:49:25.008Z"
   },
   {
    "duration": 75,
    "start_time": "2022-05-04T07:49:25.014Z"
   },
   {
    "duration": 6,
    "start_time": "2022-05-04T07:49:25.091Z"
   },
   {
    "duration": 6,
    "start_time": "2022-05-04T07:49:25.100Z"
   },
   {
    "duration": 25,
    "start_time": "2022-05-04T07:49:25.108Z"
   },
   {
    "duration": 5,
    "start_time": "2022-05-04T07:49:25.135Z"
   },
   {
    "duration": 7,
    "start_time": "2022-05-04T07:49:25.142Z"
   },
   {
    "duration": 7,
    "start_time": "2022-05-04T07:49:25.151Z"
   },
   {
    "duration": 12,
    "start_time": "2022-05-04T07:49:25.159Z"
   },
   {
    "duration": 8,
    "start_time": "2022-05-04T07:49:25.172Z"
   },
   {
    "duration": 52,
    "start_time": "2022-05-04T07:49:25.182Z"
   },
   {
    "duration": 6,
    "start_time": "2022-05-04T07:49:25.236Z"
   },
   {
    "duration": 10,
    "start_time": "2022-05-04T07:49:25.244Z"
   },
   {
    "duration": 8,
    "start_time": "2022-05-04T07:49:25.255Z"
   },
   {
    "duration": 9,
    "start_time": "2022-05-04T07:49:25.265Z"
   },
   {
    "duration": 12,
    "start_time": "2022-05-04T07:49:25.275Z"
   },
   {
    "duration": 8,
    "start_time": "2022-05-04T07:49:25.289Z"
   },
   {
    "duration": 9,
    "start_time": "2022-05-04T07:49:25.299Z"
   },
   {
    "duration": 299,
    "start_time": "2022-05-04T07:49:25.334Z"
   },
   {
    "duration": 9,
    "start_time": "2022-05-04T07:49:25.635Z"
   },
   {
    "duration": 8,
    "start_time": "2022-05-04T07:49:25.646Z"
   },
   {
    "duration": 15,
    "start_time": "2022-05-04T07:49:25.658Z"
   },
   {
    "duration": 6,
    "start_time": "2022-05-04T07:49:25.675Z"
   },
   {
    "duration": 7,
    "start_time": "2022-05-04T07:49:25.683Z"
   },
   {
    "duration": 252,
    "start_time": "2022-05-04T07:49:25.692Z"
   },
   {
    "duration": 491,
    "start_time": "2022-05-04T07:49:25.946Z"
   },
   {
    "duration": 9,
    "start_time": "2022-05-04T07:49:26.439Z"
   },
   {
    "duration": 7,
    "start_time": "2022-05-04T07:49:26.450Z"
   },
   {
    "duration": 10,
    "start_time": "2022-05-04T07:49:26.459Z"
   },
   {
    "duration": 6,
    "start_time": "2022-05-04T07:49:26.471Z"
   },
   {
    "duration": 717,
    "start_time": "2022-05-04T07:49:26.479Z"
   },
   {
    "duration": 5,
    "start_time": "2022-05-04T07:49:27.198Z"
   },
   {
    "duration": 578,
    "start_time": "2022-05-04T07:49:27.205Z"
   },
   {
    "duration": 6,
    "start_time": "2022-05-04T07:49:27.785Z"
   },
   {
    "duration": 366,
    "start_time": "2022-05-04T07:49:27.793Z"
   },
   {
    "duration": 6,
    "start_time": "2022-05-04T07:49:28.161Z"
   },
   {
    "duration": 6116,
    "start_time": "2022-05-04T07:49:28.169Z"
   },
   {
    "duration": 11,
    "start_time": "2022-05-04T07:49:34.287Z"
   },
   {
    "duration": 182,
    "start_time": "2022-05-04T07:49:34.300Z"
   },
   {
    "duration": 176,
    "start_time": "2022-05-04T07:49:34.484Z"
   },
   {
    "duration": 4,
    "start_time": "2022-05-04T07:49:34.662Z"
   },
   {
    "duration": 152,
    "start_time": "2022-05-04T07:49:34.668Z"
   },
   {
    "duration": 3,
    "start_time": "2022-05-04T07:49:34.822Z"
   },
   {
    "duration": 2,
    "start_time": "2022-05-04T07:49:34.833Z"
   },
   {
    "duration": 6,
    "start_time": "2022-05-04T07:49:34.837Z"
   },
   {
    "duration": 5,
    "start_time": "2022-05-04T07:49:34.844Z"
   },
   {
    "duration": 13,
    "start_time": "2022-05-04T07:49:34.851Z"
   },
   {
    "duration": 5,
    "start_time": "2022-05-04T07:49:34.866Z"
   },
   {
    "duration": 7,
    "start_time": "2022-05-04T07:49:34.873Z"
   },
   {
    "duration": 10,
    "start_time": "2022-05-04T07:49:34.882Z"
   },
   {
    "duration": 43,
    "start_time": "2022-05-04T07:49:34.894Z"
   },
   {
    "duration": 13,
    "start_time": "2022-05-04T07:49:34.939Z"
   },
   {
    "duration": 5,
    "start_time": "2022-05-04T07:49:34.953Z"
   },
   {
    "duration": 7,
    "start_time": "2022-05-04T07:49:34.959Z"
   },
   {
    "duration": 31,
    "start_time": "2022-05-04T07:49:34.968Z"
   },
   {
    "duration": 11951,
    "start_time": "2022-05-04T07:49:35.000Z"
   },
   {
    "duration": 556,
    "start_time": "2022-05-04T07:49:46.953Z"
   },
   {
    "duration": 366,
    "start_time": "2022-05-04T07:49:47.511Z"
   },
   {
    "duration": 168,
    "start_time": "2022-05-04T07:49:47.878Z"
   },
   {
    "duration": 10,
    "start_time": "2022-05-04T07:49:48.047Z"
   },
   {
    "duration": 4,
    "start_time": "2022-05-04T07:50:15.053Z"
   },
   {
    "duration": 28,
    "start_time": "2022-05-04T07:50:15.059Z"
   },
   {
    "duration": 4,
    "start_time": "2022-05-04T07:50:19.182Z"
   },
   {
    "duration": 4,
    "start_time": "2022-05-04T07:52:53.193Z"
   },
   {
    "duration": 99,
    "start_time": "2022-05-04T07:52:53.199Z"
   },
   {
    "duration": 33,
    "start_time": "2022-05-04T07:52:53.300Z"
   },
   {
    "duration": 12,
    "start_time": "2022-05-04T07:52:53.335Z"
   },
   {
    "duration": 30,
    "start_time": "2022-05-04T07:52:53.349Z"
   },
   {
    "duration": 116,
    "start_time": "2022-05-04T07:52:53.380Z"
   },
   {
    "duration": 624,
    "start_time": "2022-05-04T07:52:53.497Z"
   },
   {
    "duration": 4,
    "start_time": "2022-05-04T07:52:54.123Z"
   },
   {
    "duration": 61,
    "start_time": "2022-05-04T07:52:54.132Z"
   },
   {
    "duration": 6,
    "start_time": "2022-05-04T07:52:54.195Z"
   },
   {
    "duration": 29,
    "start_time": "2022-05-04T07:52:54.204Z"
   },
   {
    "duration": 4,
    "start_time": "2022-05-04T07:52:54.235Z"
   },
   {
    "duration": 7,
    "start_time": "2022-05-04T07:52:54.241Z"
   },
   {
    "duration": 6,
    "start_time": "2022-05-04T07:52:54.249Z"
   },
   {
    "duration": 8,
    "start_time": "2022-05-04T07:52:54.256Z"
   },
   {
    "duration": 12,
    "start_time": "2022-05-04T07:52:54.266Z"
   },
   {
    "duration": 7,
    "start_time": "2022-05-04T07:52:54.280Z"
   },
   {
    "duration": 65,
    "start_time": "2022-05-04T07:52:54.289Z"
   },
   {
    "duration": 6,
    "start_time": "2022-05-04T07:52:54.356Z"
   },
   {
    "duration": 10,
    "start_time": "2022-05-04T07:52:54.364Z"
   },
   {
    "duration": 9,
    "start_time": "2022-05-04T07:52:54.376Z"
   },
   {
    "duration": 11,
    "start_time": "2022-05-04T07:52:54.386Z"
   },
   {
    "duration": 15,
    "start_time": "2022-05-04T07:52:54.399Z"
   },
   {
    "duration": 21,
    "start_time": "2022-05-04T07:52:54.416Z"
   },
   {
    "duration": 9,
    "start_time": "2022-05-04T07:52:54.439Z"
   },
   {
    "duration": 337,
    "start_time": "2022-05-04T07:52:54.450Z"
   },
   {
    "duration": 10,
    "start_time": "2022-05-04T07:52:54.788Z"
   },
   {
    "duration": 9,
    "start_time": "2022-05-04T07:52:54.800Z"
   },
   {
    "duration": 16,
    "start_time": "2022-05-04T07:52:54.833Z"
   },
   {
    "duration": 4,
    "start_time": "2022-05-04T07:52:54.852Z"
   },
   {
    "duration": 9,
    "start_time": "2022-05-04T07:52:54.858Z"
   },
   {
    "duration": 256,
    "start_time": "2022-05-04T07:52:54.869Z"
   },
   {
    "duration": 524,
    "start_time": "2022-05-04T07:52:55.127Z"
   },
   {
    "duration": 9,
    "start_time": "2022-05-04T07:52:55.653Z"
   },
   {
    "duration": 6,
    "start_time": "2022-05-04T07:52:55.664Z"
   },
   {
    "duration": 9,
    "start_time": "2022-05-04T07:52:55.672Z"
   },
   {
    "duration": 7,
    "start_time": "2022-05-04T07:52:55.683Z"
   },
   {
    "duration": 734,
    "start_time": "2022-05-04T07:52:55.691Z"
   },
   {
    "duration": 9,
    "start_time": "2022-05-04T07:52:56.426Z"
   },
   {
    "duration": 2518,
    "start_time": "2022-05-04T07:52:56.437Z"
   },
   {
    "duration": 5,
    "start_time": "2022-05-04T07:52:58.957Z"
   },
   {
    "duration": 357,
    "start_time": "2022-05-04T07:52:58.964Z"
   },
   {
    "duration": 11,
    "start_time": "2022-05-04T07:52:59.323Z"
   },
   {
    "duration": 4201,
    "start_time": "2022-05-04T07:52:59.336Z"
   },
   {
    "duration": 10,
    "start_time": "2022-05-04T07:53:03.539Z"
   },
   {
    "duration": 184,
    "start_time": "2022-05-04T07:53:03.551Z"
   },
   {
    "duration": 175,
    "start_time": "2022-05-04T07:53:03.737Z"
   },
   {
    "duration": 5,
    "start_time": "2022-05-04T07:53:03.913Z"
   },
   {
    "duration": 164,
    "start_time": "2022-05-04T07:53:03.919Z"
   },
   {
    "duration": 2,
    "start_time": "2022-05-04T07:53:04.085Z"
   },
   {
    "duration": 7,
    "start_time": "2022-05-04T07:53:04.089Z"
   },
   {
    "duration": 7,
    "start_time": "2022-05-04T07:53:04.098Z"
   },
   {
    "duration": 9,
    "start_time": "2022-05-04T07:53:04.107Z"
   },
   {
    "duration": 21,
    "start_time": "2022-05-04T07:53:04.118Z"
   },
   {
    "duration": 5,
    "start_time": "2022-05-04T07:53:04.140Z"
   },
   {
    "duration": 26,
    "start_time": "2022-05-04T07:53:04.147Z"
   },
   {
    "duration": 14,
    "start_time": "2022-05-04T07:53:04.174Z"
   },
   {
    "duration": 8,
    "start_time": "2022-05-04T07:53:04.190Z"
   },
   {
    "duration": 25,
    "start_time": "2022-05-04T07:53:04.199Z"
   },
   {
    "duration": 5,
    "start_time": "2022-05-04T07:53:04.225Z"
   },
   {
    "duration": 8,
    "start_time": "2022-05-04T07:53:04.233Z"
   },
   {
    "duration": 33,
    "start_time": "2022-05-04T07:53:04.242Z"
   },
   {
    "duration": 13620,
    "start_time": "2022-05-04T07:53:04.277Z"
   },
   {
    "duration": 549,
    "start_time": "2022-05-04T07:53:17.899Z"
   },
   {
    "duration": 378,
    "start_time": "2022-05-04T07:53:18.450Z"
   },
   {
    "duration": 172,
    "start_time": "2022-05-04T07:53:18.830Z"
   },
   {
    "duration": 10,
    "start_time": "2022-05-04T07:53:19.004Z"
   },
   {
    "duration": 28,
    "start_time": "2022-05-04T07:53:44.288Z"
   },
   {
    "duration": 3,
    "start_time": "2022-05-04T07:54:21.983Z"
   },
   {
    "duration": 7,
    "start_time": "2022-05-04T07:54:23.480Z"
   },
   {
    "duration": 4,
    "start_time": "2022-05-04T07:54:25.646Z"
   },
   {
    "duration": 12,
    "start_time": "2022-05-04T07:54:28.055Z"
   },
   {
    "duration": 4,
    "start_time": "2022-05-04T07:54:29.934Z"
   },
   {
    "duration": 14,
    "start_time": "2022-05-04T07:54:31.926Z"
   },
   {
    "duration": 4,
    "start_time": "2022-05-04T07:54:32.432Z"
   },
   {
    "duration": 16,
    "start_time": "2022-05-04T07:54:34.799Z"
   },
   {
    "duration": 4,
    "start_time": "2022-05-04T07:54:35.230Z"
   },
   {
    "duration": 4,
    "start_time": "2022-05-04T07:54:50.254Z"
   },
   {
    "duration": 104,
    "start_time": "2022-05-04T07:54:50.260Z"
   },
   {
    "duration": 17,
    "start_time": "2022-05-04T07:54:50.366Z"
   },
   {
    "duration": 32,
    "start_time": "2022-05-04T07:54:50.385Z"
   },
   {
    "duration": 44,
    "start_time": "2022-05-04T07:54:50.420Z"
   },
   {
    "duration": 101,
    "start_time": "2022-05-04T07:54:50.466Z"
   },
   {
    "duration": 661,
    "start_time": "2022-05-04T07:54:50.569Z"
   },
   {
    "duration": 4,
    "start_time": "2022-05-04T07:54:51.232Z"
   },
   {
    "duration": 68,
    "start_time": "2022-05-04T07:54:51.238Z"
   },
   {
    "duration": 6,
    "start_time": "2022-05-04T07:54:51.308Z"
   },
   {
    "duration": 20,
    "start_time": "2022-05-04T07:54:51.317Z"
   },
   {
    "duration": 15,
    "start_time": "2022-05-04T07:54:51.339Z"
   },
   {
    "duration": 8,
    "start_time": "2022-05-04T07:54:51.356Z"
   },
   {
    "duration": 8,
    "start_time": "2022-05-04T07:54:51.365Z"
   },
   {
    "duration": 8,
    "start_time": "2022-05-04T07:54:51.374Z"
   },
   {
    "duration": 9,
    "start_time": "2022-05-04T07:54:51.384Z"
   },
   {
    "duration": 9,
    "start_time": "2022-05-04T07:54:51.394Z"
   },
   {
    "duration": 45,
    "start_time": "2022-05-04T07:54:51.404Z"
   },
   {
    "duration": 5,
    "start_time": "2022-05-04T07:54:51.451Z"
   },
   {
    "duration": 11,
    "start_time": "2022-05-04T07:54:51.458Z"
   },
   {
    "duration": 9,
    "start_time": "2022-05-04T07:54:51.471Z"
   },
   {
    "duration": 10,
    "start_time": "2022-05-04T07:54:51.481Z"
   },
   {
    "duration": 10,
    "start_time": "2022-05-04T07:54:51.493Z"
   },
   {
    "duration": 31,
    "start_time": "2022-05-04T07:54:51.504Z"
   },
   {
    "duration": 15,
    "start_time": "2022-05-04T07:54:51.537Z"
   },
   {
    "duration": 312,
    "start_time": "2022-05-04T07:54:51.554Z"
   },
   {
    "duration": 9,
    "start_time": "2022-05-04T07:54:51.868Z"
   },
   {
    "duration": 24,
    "start_time": "2022-05-04T07:54:51.879Z"
   },
   {
    "duration": 19,
    "start_time": "2022-05-04T07:54:51.908Z"
   },
   {
    "duration": 9,
    "start_time": "2022-05-04T07:54:51.928Z"
   },
   {
    "duration": 21,
    "start_time": "2022-05-04T07:54:51.939Z"
   },
   {
    "duration": 224,
    "start_time": "2022-05-04T07:54:51.962Z"
   },
   {
    "duration": 499,
    "start_time": "2022-05-04T07:54:52.188Z"
   },
   {
    "duration": 9,
    "start_time": "2022-05-04T07:54:52.689Z"
   },
   {
    "duration": 10,
    "start_time": "2022-05-04T07:54:52.699Z"
   },
   {
    "duration": 25,
    "start_time": "2022-05-04T07:54:52.710Z"
   },
   {
    "duration": 45,
    "start_time": "2022-05-04T07:54:52.736Z"
   },
   {
    "duration": 715,
    "start_time": "2022-05-04T07:54:52.782Z"
   },
   {
    "duration": 5,
    "start_time": "2022-05-04T07:54:53.498Z"
   },
   {
    "duration": 593,
    "start_time": "2022-05-04T07:54:53.504Z"
   },
   {
    "duration": 5,
    "start_time": "2022-05-04T07:54:54.099Z"
   },
   {
    "duration": 379,
    "start_time": "2022-05-04T07:54:54.106Z"
   },
   {
    "duration": 5,
    "start_time": "2022-05-04T07:54:54.487Z"
   },
   {
    "duration": 4236,
    "start_time": "2022-05-04T07:54:54.493Z"
   },
   {
    "duration": 11,
    "start_time": "2022-05-04T07:54:58.730Z"
   },
   {
    "duration": 178,
    "start_time": "2022-05-04T07:54:58.742Z"
   },
   {
    "duration": 171,
    "start_time": "2022-05-04T07:54:58.921Z"
   },
   {
    "duration": 4,
    "start_time": "2022-05-04T07:54:59.093Z"
   },
   {
    "duration": 153,
    "start_time": "2022-05-04T07:54:59.099Z"
   },
   {
    "duration": 3,
    "start_time": "2022-05-04T07:54:59.253Z"
   },
   {
    "duration": 6,
    "start_time": "2022-05-04T07:54:59.257Z"
   },
   {
    "duration": 5,
    "start_time": "2022-05-04T07:54:59.264Z"
   },
   {
    "duration": 5,
    "start_time": "2022-05-04T07:54:59.271Z"
   },
   {
    "duration": 12,
    "start_time": "2022-05-04T07:54:59.278Z"
   },
   {
    "duration": 3,
    "start_time": "2022-05-04T07:54:59.292Z"
   },
   {
    "duration": 7,
    "start_time": "2022-05-04T07:54:59.297Z"
   },
   {
    "duration": 31,
    "start_time": "2022-05-04T07:54:59.306Z"
   },
   {
    "duration": 8,
    "start_time": "2022-05-04T07:54:59.339Z"
   },
   {
    "duration": 13,
    "start_time": "2022-05-04T07:54:59.348Z"
   },
   {
    "duration": 3,
    "start_time": "2022-05-04T07:54:59.363Z"
   },
   {
    "duration": 6,
    "start_time": "2022-05-04T07:54:59.368Z"
   },
   {
    "duration": 58,
    "start_time": "2022-05-04T07:54:59.376Z"
   },
   {
    "duration": 13265,
    "start_time": "2022-05-04T07:54:59.435Z"
   },
   {
    "duration": 2619,
    "start_time": "2022-05-04T07:55:12.702Z"
   },
   {
    "duration": 382,
    "start_time": "2022-05-04T07:55:15.323Z"
   },
   {
    "duration": 171,
    "start_time": "2022-05-04T07:55:15.706Z"
   },
   {
    "duration": 10,
    "start_time": "2022-05-04T07:55:15.878Z"
   },
   {
    "duration": 27,
    "start_time": "2022-05-04T07:55:15.890Z"
   },
   {
    "duration": 4,
    "start_time": "2022-05-04T07:55:15.934Z"
   },
   {
    "duration": 19,
    "start_time": "2022-05-04T07:55:15.940Z"
   },
   {
    "duration": 3,
    "start_time": "2022-05-04T07:55:15.961Z"
   },
   {
    "duration": 46,
    "start_time": "2022-05-04T07:56:00.070Z"
   },
   {
    "duration": 44,
    "start_time": "2022-05-04T07:56:12.588Z"
   },
   {
    "duration": 42,
    "start_time": "2022-05-04T07:56:15.234Z"
   },
   {
    "duration": 43,
    "start_time": "2022-05-04T07:56:18.219Z"
   },
   {
    "duration": 44,
    "start_time": "2022-05-04T07:56:20.571Z"
   },
   {
    "duration": 43,
    "start_time": "2022-05-04T07:56:23.163Z"
   },
   {
    "duration": 44,
    "start_time": "2022-05-04T07:56:25.099Z"
   },
   {
    "duration": 44,
    "start_time": "2022-05-04T07:56:27.259Z"
   },
   {
    "duration": 15,
    "start_time": "2022-05-04T07:56:53.433Z"
   },
   {
    "duration": 6,
    "start_time": "2022-05-04T07:57:10.169Z"
   },
   {
    "duration": 5,
    "start_time": "2022-05-04T07:57:14.609Z"
   },
   {
    "duration": 9,
    "start_time": "2022-05-04T07:57:27.992Z"
   },
   {
    "duration": 10,
    "start_time": "2022-05-04T07:58:06.673Z"
   },
   {
    "duration": 4,
    "start_time": "2022-05-04T07:58:12.124Z"
   },
   {
    "duration": 88,
    "start_time": "2022-05-04T07:58:12.130Z"
   },
   {
    "duration": 24,
    "start_time": "2022-05-04T07:58:12.221Z"
   },
   {
    "duration": 10,
    "start_time": "2022-05-04T07:58:12.247Z"
   },
   {
    "duration": 31,
    "start_time": "2022-05-04T07:58:12.259Z"
   },
   {
    "duration": 110,
    "start_time": "2022-05-04T07:58:12.291Z"
   },
   {
    "duration": 616,
    "start_time": "2022-05-04T07:58:12.403Z"
   },
   {
    "duration": 12,
    "start_time": "2022-05-04T07:58:13.021Z"
   },
   {
    "duration": 63,
    "start_time": "2022-05-04T07:58:13.035Z"
   },
   {
    "duration": 8,
    "start_time": "2022-05-04T07:58:13.099Z"
   },
   {
    "duration": 25,
    "start_time": "2022-05-04T07:58:13.110Z"
   },
   {
    "duration": 14,
    "start_time": "2022-05-04T07:58:13.137Z"
   },
   {
    "duration": 14,
    "start_time": "2022-05-04T07:58:13.153Z"
   },
   {
    "duration": 13,
    "start_time": "2022-05-04T07:58:13.169Z"
   },
   {
    "duration": 7,
    "start_time": "2022-05-04T07:58:13.183Z"
   },
   {
    "duration": 11,
    "start_time": "2022-05-04T07:58:13.192Z"
   },
   {
    "duration": 7,
    "start_time": "2022-05-04T07:58:13.205Z"
   },
   {
    "duration": 36,
    "start_time": "2022-05-04T07:58:13.213Z"
   },
   {
    "duration": 5,
    "start_time": "2022-05-04T07:58:13.251Z"
   },
   {
    "duration": 9,
    "start_time": "2022-05-04T07:58:13.258Z"
   },
   {
    "duration": 6,
    "start_time": "2022-05-04T07:58:13.269Z"
   },
   {
    "duration": 8,
    "start_time": "2022-05-04T07:58:13.277Z"
   },
   {
    "duration": 10,
    "start_time": "2022-05-04T07:58:13.287Z"
   },
   {
    "duration": 16,
    "start_time": "2022-05-04T07:58:13.299Z"
   },
   {
    "duration": 7,
    "start_time": "2022-05-04T07:58:13.334Z"
   },
   {
    "duration": 313,
    "start_time": "2022-05-04T07:58:13.343Z"
   },
   {
    "duration": 9,
    "start_time": "2022-05-04T07:58:13.658Z"
   },
   {
    "duration": 9,
    "start_time": "2022-05-04T07:58:13.669Z"
   },
   {
    "duration": 15,
    "start_time": "2022-05-04T07:58:13.682Z"
   },
   {
    "duration": 35,
    "start_time": "2022-05-04T07:58:13.699Z"
   },
   {
    "duration": 10,
    "start_time": "2022-05-04T07:58:13.736Z"
   },
   {
    "duration": 223,
    "start_time": "2022-05-04T07:58:13.748Z"
   },
   {
    "duration": 500,
    "start_time": "2022-05-04T07:58:13.973Z"
   },
   {
    "duration": 10,
    "start_time": "2022-05-04T07:58:14.475Z"
   },
   {
    "duration": 8,
    "start_time": "2022-05-04T07:58:14.487Z"
   },
   {
    "duration": 9,
    "start_time": "2022-05-04T07:58:14.496Z"
   },
   {
    "duration": 27,
    "start_time": "2022-05-04T07:58:14.507Z"
   },
   {
    "duration": 773,
    "start_time": "2022-05-04T07:58:14.536Z"
   },
   {
    "duration": 4,
    "start_time": "2022-05-04T07:58:15.311Z"
   },
   {
    "duration": 737,
    "start_time": "2022-05-04T07:58:15.317Z"
   },
   {
    "duration": 6,
    "start_time": "2022-05-04T07:58:16.055Z"
   },
   {
    "duration": 380,
    "start_time": "2022-05-04T07:58:16.062Z"
   },
   {
    "duration": 5,
    "start_time": "2022-05-04T07:58:16.443Z"
   },
   {
    "duration": 4176,
    "start_time": "2022-05-04T07:58:16.450Z"
   },
   {
    "duration": 9,
    "start_time": "2022-05-04T07:58:20.633Z"
   },
   {
    "duration": 184,
    "start_time": "2022-05-04T07:58:20.644Z"
   },
   {
    "duration": 169,
    "start_time": "2022-05-04T07:58:20.830Z"
   },
   {
    "duration": 4,
    "start_time": "2022-05-04T07:58:21.001Z"
   },
   {
    "duration": 156,
    "start_time": "2022-05-04T07:58:21.006Z"
   },
   {
    "duration": 3,
    "start_time": "2022-05-04T07:58:21.164Z"
   },
   {
    "duration": 7,
    "start_time": "2022-05-04T07:58:21.168Z"
   },
   {
    "duration": 6,
    "start_time": "2022-05-04T07:58:21.177Z"
   },
   {
    "duration": 5,
    "start_time": "2022-05-04T07:58:21.185Z"
   },
   {
    "duration": 15,
    "start_time": "2022-05-04T07:58:21.192Z"
   },
   {
    "duration": 4,
    "start_time": "2022-05-04T07:58:21.209Z"
   },
   {
    "duration": 22,
    "start_time": "2022-05-04T07:58:21.214Z"
   },
   {
    "duration": 11,
    "start_time": "2022-05-04T07:58:21.238Z"
   },
   {
    "duration": 9,
    "start_time": "2022-05-04T07:58:21.251Z"
   },
   {
    "duration": 12,
    "start_time": "2022-05-04T07:58:21.262Z"
   },
   {
    "duration": 5,
    "start_time": "2022-05-04T07:58:21.276Z"
   },
   {
    "duration": 8,
    "start_time": "2022-05-04T07:58:21.282Z"
   },
   {
    "duration": 63,
    "start_time": "2022-05-04T07:58:21.292Z"
   },
   {
    "duration": 12417,
    "start_time": "2022-05-04T07:58:21.357Z"
   },
   {
    "duration": 559,
    "start_time": "2022-05-04T07:58:33.776Z"
   },
   {
    "duration": 359,
    "start_time": "2022-05-04T07:58:34.337Z"
   },
   {
    "duration": 163,
    "start_time": "2022-05-04T07:58:34.697Z"
   },
   {
    "duration": 10,
    "start_time": "2022-05-04T07:58:34.861Z"
   },
   {
    "duration": 61,
    "start_time": "2022-05-04T07:58:34.873Z"
   },
   {
    "duration": 4,
    "start_time": "2022-05-04T08:00:22.921Z"
   },
   {
    "duration": 5,
    "start_time": "2022-05-04T08:01:34.096Z"
   },
   {
    "duration": 5,
    "start_time": "2022-05-04T08:01:34.760Z"
   },
   {
    "duration": 21,
    "start_time": "2022-05-04T08:01:36.057Z"
   },
   {
    "duration": 4,
    "start_time": "2022-05-04T08:01:36.479Z"
   },
   {
    "duration": 14,
    "start_time": "2022-05-04T08:02:05.896Z"
   },
   {
    "duration": 4,
    "start_time": "2022-05-04T08:02:06.904Z"
   },
   {
    "duration": 4,
    "start_time": "2022-05-04T08:02:13.363Z"
   },
   {
    "duration": 86,
    "start_time": "2022-05-04T08:02:13.369Z"
   },
   {
    "duration": 16,
    "start_time": "2022-05-04T08:02:13.457Z"
   },
   {
    "duration": 10,
    "start_time": "2022-05-04T08:02:13.474Z"
   },
   {
    "duration": 60,
    "start_time": "2022-05-04T08:02:13.487Z"
   },
   {
    "duration": 103,
    "start_time": "2022-05-04T08:02:13.549Z"
   },
   {
    "duration": 649,
    "start_time": "2022-05-04T08:02:13.654Z"
   },
   {
    "duration": 4,
    "start_time": "2022-05-04T08:02:14.305Z"
   },
   {
    "duration": 66,
    "start_time": "2022-05-04T08:02:14.310Z"
   },
   {
    "duration": 6,
    "start_time": "2022-05-04T08:02:14.378Z"
   },
   {
    "duration": 7,
    "start_time": "2022-05-04T08:02:14.387Z"
   },
   {
    "duration": 5,
    "start_time": "2022-05-04T08:02:14.396Z"
   },
   {
    "duration": 13,
    "start_time": "2022-05-04T08:02:14.403Z"
   },
   {
    "duration": 15,
    "start_time": "2022-05-04T08:02:14.418Z"
   },
   {
    "duration": 7,
    "start_time": "2022-05-04T08:02:14.435Z"
   },
   {
    "duration": 11,
    "start_time": "2022-05-04T08:02:14.444Z"
   },
   {
    "duration": 10,
    "start_time": "2022-05-04T08:02:14.457Z"
   },
   {
    "duration": 33,
    "start_time": "2022-05-04T08:02:14.468Z"
   },
   {
    "duration": 6,
    "start_time": "2022-05-04T08:02:14.502Z"
   },
   {
    "duration": 9,
    "start_time": "2022-05-04T08:02:14.510Z"
   },
   {
    "duration": 9,
    "start_time": "2022-05-04T08:02:14.521Z"
   },
   {
    "duration": 7,
    "start_time": "2022-05-04T08:02:14.532Z"
   },
   {
    "duration": 10,
    "start_time": "2022-05-04T08:02:14.541Z"
   },
   {
    "duration": 12,
    "start_time": "2022-05-04T08:02:14.552Z"
   },
   {
    "duration": 9,
    "start_time": "2022-05-04T08:02:14.565Z"
   },
   {
    "duration": 308,
    "start_time": "2022-05-04T08:02:14.575Z"
   },
   {
    "duration": 9,
    "start_time": "2022-05-04T08:02:14.885Z"
   },
   {
    "duration": 12,
    "start_time": "2022-05-04T08:02:14.895Z"
   },
   {
    "duration": 14,
    "start_time": "2022-05-04T08:02:14.911Z"
   },
   {
    "duration": 9,
    "start_time": "2022-05-04T08:02:14.926Z"
   },
   {
    "duration": 9,
    "start_time": "2022-05-04T08:02:14.936Z"
   },
   {
    "duration": 327,
    "start_time": "2022-05-04T08:02:14.946Z"
   },
   {
    "duration": 614,
    "start_time": "2022-05-04T08:02:15.274Z"
   },
   {
    "duration": 10,
    "start_time": "2022-05-04T08:02:15.889Z"
   },
   {
    "duration": 6,
    "start_time": "2022-05-04T08:02:15.900Z"
   },
   {
    "duration": 27,
    "start_time": "2022-05-04T08:02:15.907Z"
   },
   {
    "duration": 5,
    "start_time": "2022-05-04T08:02:15.935Z"
   },
   {
    "duration": 752,
    "start_time": "2022-05-04T08:02:15.942Z"
   },
   {
    "duration": 5,
    "start_time": "2022-05-04T08:02:16.697Z"
   },
   {
    "duration": 2807,
    "start_time": "2022-05-04T08:02:16.704Z"
   },
   {
    "duration": 6,
    "start_time": "2022-05-04T08:02:19.514Z"
   },
   {
    "duration": 375,
    "start_time": "2022-05-04T08:02:19.534Z"
   },
   {
    "duration": 21,
    "start_time": "2022-05-04T08:02:19.912Z"
   },
   {
    "duration": 4225,
    "start_time": "2022-05-04T08:02:19.935Z"
   },
   {
    "duration": 11,
    "start_time": "2022-05-04T08:02:24.162Z"
   },
   {
    "duration": 183,
    "start_time": "2022-05-04T08:02:24.175Z"
   },
   {
    "duration": 179,
    "start_time": "2022-05-04T08:02:24.361Z"
   },
   {
    "duration": 4,
    "start_time": "2022-05-04T08:02:24.542Z"
   },
   {
    "duration": 161,
    "start_time": "2022-05-04T08:02:24.548Z"
   },
   {
    "duration": 3,
    "start_time": "2022-05-04T08:02:24.711Z"
   },
   {
    "duration": 6,
    "start_time": "2022-05-04T08:02:24.716Z"
   },
   {
    "duration": 5,
    "start_time": "2022-05-04T08:02:24.734Z"
   },
   {
    "duration": 12,
    "start_time": "2022-05-04T08:02:24.741Z"
   },
   {
    "duration": 13,
    "start_time": "2022-05-04T08:02:24.755Z"
   },
   {
    "duration": 5,
    "start_time": "2022-05-04T08:02:24.770Z"
   },
   {
    "duration": 8,
    "start_time": "2022-05-04T08:02:24.777Z"
   },
   {
    "duration": 14,
    "start_time": "2022-05-04T08:02:24.787Z"
   },
   {
    "duration": 9,
    "start_time": "2022-05-04T08:02:24.803Z"
   },
   {
    "duration": 14,
    "start_time": "2022-05-04T08:02:24.834Z"
   },
   {
    "duration": 5,
    "start_time": "2022-05-04T08:02:24.850Z"
   },
   {
    "duration": 17,
    "start_time": "2022-05-04T08:02:24.857Z"
   },
   {
    "duration": 31,
    "start_time": "2022-05-04T08:02:24.876Z"
   },
   {
    "duration": 12684,
    "start_time": "2022-05-04T08:02:24.909Z"
   },
   {
    "duration": 569,
    "start_time": "2022-05-04T08:02:37.595Z"
   },
   {
    "duration": 375,
    "start_time": "2022-05-04T08:02:38.166Z"
   },
   {
    "duration": 165,
    "start_time": "2022-05-04T08:02:38.543Z"
   },
   {
    "duration": 23,
    "start_time": "2022-05-04T08:02:38.710Z"
   },
   {
    "duration": 5,
    "start_time": "2022-05-04T08:02:38.736Z"
   },
   {
    "duration": 8,
    "start_time": "2022-05-04T08:02:38.743Z"
   },
   {
    "duration": 4,
    "start_time": "2022-05-04T08:02:45.780Z"
   },
   {
    "duration": 6,
    "start_time": "2022-05-04T08:02:46.608Z"
   },
   {
    "duration": 22,
    "start_time": "2022-05-04T08:02:47.921Z"
   },
   {
    "duration": 5,
    "start_time": "2022-05-04T08:02:48.638Z"
   },
   {
    "duration": 22,
    "start_time": "2022-05-04T08:02:54.240Z"
   },
   {
    "duration": 4,
    "start_time": "2022-05-04T08:02:54.807Z"
   },
   {
    "duration": 19,
    "start_time": "2022-05-04T08:17:46.064Z"
   },
   {
    "duration": 874,
    "start_time": "2022-05-04T08:17:52.935Z"
   },
   {
    "duration": 4,
    "start_time": "2022-05-04T08:18:22.919Z"
   },
   {
    "duration": 100,
    "start_time": "2022-05-04T08:18:22.925Z"
   },
   {
    "duration": 20,
    "start_time": "2022-05-04T08:18:23.027Z"
   },
   {
    "duration": 11,
    "start_time": "2022-05-04T08:18:23.048Z"
   },
   {
    "duration": 28,
    "start_time": "2022-05-04T08:18:23.061Z"
   },
   {
    "duration": 110,
    "start_time": "2022-05-04T08:18:23.091Z"
   },
   {
    "duration": 593,
    "start_time": "2022-05-04T08:18:23.203Z"
   },
   {
    "duration": 4,
    "start_time": "2022-05-04T08:18:23.798Z"
   },
   {
    "duration": 72,
    "start_time": "2022-05-04T08:18:23.803Z"
   },
   {
    "duration": 6,
    "start_time": "2022-05-04T08:18:23.877Z"
   },
   {
    "duration": 27,
    "start_time": "2022-05-04T08:18:23.886Z"
   },
   {
    "duration": 11,
    "start_time": "2022-05-04T08:18:23.915Z"
   },
   {
    "duration": 31,
    "start_time": "2022-05-04T08:18:23.928Z"
   },
   {
    "duration": 8,
    "start_time": "2022-05-04T08:18:23.961Z"
   },
   {
    "duration": 25,
    "start_time": "2022-05-04T08:18:23.971Z"
   },
   {
    "duration": 17,
    "start_time": "2022-05-04T08:18:23.998Z"
   },
   {
    "duration": 22,
    "start_time": "2022-05-04T08:18:24.017Z"
   },
   {
    "duration": 40,
    "start_time": "2022-05-04T08:18:24.041Z"
   },
   {
    "duration": 6,
    "start_time": "2022-05-04T08:18:24.082Z"
   },
   {
    "duration": 14,
    "start_time": "2022-05-04T08:18:24.089Z"
   },
   {
    "duration": 22,
    "start_time": "2022-05-04T08:18:24.105Z"
   },
   {
    "duration": 24,
    "start_time": "2022-05-04T08:18:24.129Z"
   },
   {
    "duration": 15,
    "start_time": "2022-05-04T08:18:24.155Z"
   },
   {
    "duration": 17,
    "start_time": "2022-05-04T08:18:24.172Z"
   },
   {
    "duration": 13,
    "start_time": "2022-05-04T08:18:24.191Z"
   },
   {
    "duration": 298,
    "start_time": "2022-05-04T08:18:24.206Z"
   },
   {
    "duration": 9,
    "start_time": "2022-05-04T08:18:24.507Z"
   },
   {
    "duration": 29,
    "start_time": "2022-05-04T08:18:24.518Z"
   },
   {
    "duration": 18,
    "start_time": "2022-05-04T08:18:24.553Z"
   },
   {
    "duration": 23,
    "start_time": "2022-05-04T08:18:24.573Z"
   },
   {
    "duration": 23,
    "start_time": "2022-05-04T08:18:24.597Z"
   },
   {
    "duration": 223,
    "start_time": "2022-05-04T08:18:24.622Z"
   },
   {
    "duration": 494,
    "start_time": "2022-05-04T08:18:24.847Z"
   },
   {
    "duration": 9,
    "start_time": "2022-05-04T08:18:25.343Z"
   },
   {
    "duration": 5,
    "start_time": "2022-05-04T08:18:25.353Z"
   },
   {
    "duration": 8,
    "start_time": "2022-05-04T08:18:25.359Z"
   },
   {
    "duration": 5,
    "start_time": "2022-05-04T08:18:25.368Z"
   },
   {
    "duration": 731,
    "start_time": "2022-05-04T08:18:25.374Z"
   },
   {
    "duration": 5,
    "start_time": "2022-05-04T08:18:26.107Z"
   },
   {
    "duration": 574,
    "start_time": "2022-05-04T08:18:26.113Z"
   },
   {
    "duration": 5,
    "start_time": "2022-05-04T08:18:26.689Z"
   },
   {
    "duration": 359,
    "start_time": "2022-05-04T08:18:26.695Z"
   },
   {
    "duration": 5,
    "start_time": "2022-05-04T08:18:27.056Z"
   },
   {
    "duration": 4156,
    "start_time": "2022-05-04T08:18:27.063Z"
   },
   {
    "duration": 14,
    "start_time": "2022-05-04T08:18:31.221Z"
   },
   {
    "duration": 2864,
    "start_time": "2022-05-04T08:18:31.237Z"
   },
   {
    "duration": 175,
    "start_time": "2022-05-04T08:18:34.102Z"
   },
   {
    "duration": 4,
    "start_time": "2022-05-04T08:18:34.279Z"
   },
   {
    "duration": 157,
    "start_time": "2022-05-04T08:18:34.285Z"
   },
   {
    "duration": 2,
    "start_time": "2022-05-04T08:18:34.444Z"
   },
   {
    "duration": 8,
    "start_time": "2022-05-04T08:18:34.448Z"
   },
   {
    "duration": 6,
    "start_time": "2022-05-04T08:18:34.458Z"
   },
   {
    "duration": 6,
    "start_time": "2022-05-04T08:18:34.466Z"
   },
   {
    "duration": 14,
    "start_time": "2022-05-04T08:18:34.474Z"
   },
   {
    "duration": 4,
    "start_time": "2022-05-04T08:18:34.489Z"
   },
   {
    "duration": 10,
    "start_time": "2022-05-04T08:18:34.494Z"
   },
   {
    "duration": 32,
    "start_time": "2022-05-04T08:18:34.505Z"
   },
   {
    "duration": 8,
    "start_time": "2022-05-04T08:18:34.539Z"
   },
   {
    "duration": 38,
    "start_time": "2022-05-04T08:18:34.549Z"
   },
   {
    "duration": 7,
    "start_time": "2022-05-04T08:18:34.588Z"
   },
   {
    "duration": 18,
    "start_time": "2022-05-04T08:18:34.596Z"
   },
   {
    "duration": 41,
    "start_time": "2022-05-04T08:18:34.616Z"
   },
   {
    "duration": 10785,
    "start_time": "2022-05-04T08:18:34.658Z"
   },
   {
    "duration": 567,
    "start_time": "2022-05-04T08:18:45.445Z"
   },
   {
    "duration": 2960,
    "start_time": "2022-05-04T08:18:46.014Z"
   },
   {
    "duration": 171,
    "start_time": "2022-05-04T08:18:48.976Z"
   },
   {
    "duration": 11,
    "start_time": "2022-05-04T08:18:49.148Z"
   },
   {
    "duration": 4,
    "start_time": "2022-05-04T08:18:49.160Z"
   },
   {
    "duration": 6,
    "start_time": "2022-05-04T08:18:49.166Z"
   },
   {
    "duration": 22,
    "start_time": "2022-05-04T08:18:49.174Z"
   },
   {
    "duration": 3,
    "start_time": "2022-05-04T08:18:49.199Z"
   },
   {
    "duration": 923,
    "start_time": "2022-05-04T08:18:49.204Z"
   },
   {
    "duration": 152,
    "start_time": "2022-05-04T08:18:50.129Z"
   },
   {
    "duration": 175,
    "start_time": "2022-05-04T08:18:50.283Z"
   },
   {
    "duration": 212,
    "start_time": "2022-05-04T08:18:50.459Z"
   },
   {
    "duration": 189,
    "start_time": "2022-05-04T08:18:50.673Z"
   },
   {
    "duration": 19,
    "start_time": "2022-05-04T08:18:50.864Z"
   },
   {
    "duration": 24,
    "start_time": "2022-05-04T08:18:50.885Z"
   },
   {
    "duration": 31,
    "start_time": "2022-05-04T08:18:50.911Z"
   },
   {
    "duration": 16,
    "start_time": "2022-05-04T08:18:50.944Z"
   },
   {
    "duration": 6,
    "start_time": "2022-05-04T08:18:50.962Z"
   },
   {
    "duration": 223,
    "start_time": "2022-05-04T08:18:50.969Z"
   },
   {
    "duration": 11,
    "start_time": "2022-05-04T08:18:51.200Z"
   },
   {
    "duration": 599,
    "start_time": "2022-05-04T08:18:51.213Z"
   },
   {
    "duration": 9389,
    "start_time": "2022-05-04T08:18:51.813Z"
   },
   {
    "duration": 1035,
    "start_time": "2022-05-04T08:19:01.204Z"
   },
   {
    "duration": 5,
    "start_time": "2022-05-04T08:21:08.269Z"
   },
   {
    "duration": 90,
    "start_time": "2022-05-04T08:21:08.276Z"
   },
   {
    "duration": 15,
    "start_time": "2022-05-04T08:21:08.368Z"
   },
   {
    "duration": 10,
    "start_time": "2022-05-04T08:21:08.385Z"
   },
   {
    "duration": 59,
    "start_time": "2022-05-04T08:21:08.398Z"
   },
   {
    "duration": 104,
    "start_time": "2022-05-04T08:21:08.458Z"
   },
   {
    "duration": 634,
    "start_time": "2022-05-04T08:21:08.564Z"
   },
   {
    "duration": 3,
    "start_time": "2022-05-04T08:21:09.200Z"
   },
   {
    "duration": 73,
    "start_time": "2022-05-04T08:21:09.205Z"
   },
   {
    "duration": 6,
    "start_time": "2022-05-04T08:21:09.279Z"
   },
   {
    "duration": 5,
    "start_time": "2022-05-04T08:21:09.288Z"
   },
   {
    "duration": 6,
    "start_time": "2022-05-04T08:21:09.295Z"
   },
   {
    "duration": 8,
    "start_time": "2022-05-04T08:21:09.303Z"
   },
   {
    "duration": 24,
    "start_time": "2022-05-04T08:21:09.313Z"
   },
   {
    "duration": 8,
    "start_time": "2022-05-04T08:21:09.339Z"
   },
   {
    "duration": 11,
    "start_time": "2022-05-04T08:21:09.348Z"
   },
   {
    "duration": 11,
    "start_time": "2022-05-04T08:21:09.361Z"
   },
   {
    "duration": 33,
    "start_time": "2022-05-04T08:21:09.373Z"
   },
   {
    "duration": 27,
    "start_time": "2022-05-04T08:21:09.408Z"
   },
   {
    "duration": 6,
    "start_time": "2022-05-04T08:21:09.437Z"
   },
   {
    "duration": 7,
    "start_time": "2022-05-04T08:21:09.445Z"
   },
   {
    "duration": 10,
    "start_time": "2022-05-04T08:21:09.454Z"
   },
   {
    "duration": 8,
    "start_time": "2022-05-04T08:21:09.466Z"
   },
   {
    "duration": 10,
    "start_time": "2022-05-04T08:21:09.476Z"
   },
   {
    "duration": 7,
    "start_time": "2022-05-04T08:21:09.488Z"
   },
   {
    "duration": 321,
    "start_time": "2022-05-04T08:21:09.497Z"
   },
   {
    "duration": 14,
    "start_time": "2022-05-04T08:21:09.821Z"
   },
   {
    "duration": 8,
    "start_time": "2022-05-04T08:21:09.838Z"
   },
   {
    "duration": 16,
    "start_time": "2022-05-04T08:21:09.852Z"
   },
   {
    "duration": 5,
    "start_time": "2022-05-04T08:21:09.870Z"
   },
   {
    "duration": 9,
    "start_time": "2022-05-04T08:21:09.877Z"
   },
   {
    "duration": 261,
    "start_time": "2022-05-04T08:21:09.888Z"
   },
   {
    "duration": 508,
    "start_time": "2022-05-04T08:21:10.150Z"
   },
   {
    "duration": 10,
    "start_time": "2022-05-04T08:21:10.660Z"
   },
   {
    "duration": 9,
    "start_time": "2022-05-04T08:21:10.671Z"
   },
   {
    "duration": 6,
    "start_time": "2022-05-04T08:21:10.682Z"
   },
   {
    "duration": 6,
    "start_time": "2022-05-04T08:21:10.690Z"
   },
   {
    "duration": 753,
    "start_time": "2022-05-04T08:21:10.698Z"
   },
   {
    "duration": 6,
    "start_time": "2022-05-04T08:21:11.453Z"
   },
   {
    "duration": 603,
    "start_time": "2022-05-04T08:21:11.461Z"
   },
   {
    "duration": 5,
    "start_time": "2022-05-04T08:21:12.065Z"
   },
   {
    "duration": 384,
    "start_time": "2022-05-04T08:21:12.072Z"
   },
   {
    "duration": 5,
    "start_time": "2022-05-04T08:21:12.458Z"
   },
   {
    "duration": 4244,
    "start_time": "2022-05-04T08:21:12.464Z"
   },
   {
    "duration": 9,
    "start_time": "2022-05-04T08:21:16.710Z"
   },
   {
    "duration": 177,
    "start_time": "2022-05-04T08:21:16.720Z"
   },
   {
    "duration": 181,
    "start_time": "2022-05-04T08:21:16.899Z"
   },
   {
    "duration": 5,
    "start_time": "2022-05-04T08:21:17.081Z"
   },
   {
    "duration": 158,
    "start_time": "2022-05-04T08:21:17.087Z"
   },
   {
    "duration": 2,
    "start_time": "2022-05-04T08:21:17.247Z"
   },
   {
    "duration": 10,
    "start_time": "2022-05-04T08:21:17.251Z"
   },
   {
    "duration": 6,
    "start_time": "2022-05-04T08:21:17.262Z"
   },
   {
    "duration": 11,
    "start_time": "2022-05-04T08:21:17.270Z"
   },
   {
    "duration": 15,
    "start_time": "2022-05-04T08:21:17.283Z"
   },
   {
    "duration": 4,
    "start_time": "2022-05-04T08:21:17.299Z"
   },
   {
    "duration": 8,
    "start_time": "2022-05-04T08:21:17.305Z"
   },
   {
    "duration": 25,
    "start_time": "2022-05-04T08:21:17.315Z"
   },
   {
    "duration": 8,
    "start_time": "2022-05-04T08:21:17.342Z"
   },
   {
    "duration": 13,
    "start_time": "2022-05-04T08:21:17.352Z"
   },
   {
    "duration": 3,
    "start_time": "2022-05-04T08:21:17.367Z"
   },
   {
    "duration": 9,
    "start_time": "2022-05-04T08:21:17.372Z"
   },
   {
    "duration": 55,
    "start_time": "2022-05-04T08:21:17.383Z"
   },
   {
    "duration": 12979,
    "start_time": "2022-05-04T08:21:17.440Z"
   },
   {
    "duration": 587,
    "start_time": "2022-05-04T08:21:30.421Z"
   },
   {
    "duration": 391,
    "start_time": "2022-05-04T08:21:31.010Z"
   },
   {
    "duration": 183,
    "start_time": "2022-05-04T08:21:31.403Z"
   },
   {
    "duration": 11,
    "start_time": "2022-05-04T08:21:31.589Z"
   },
   {
    "duration": 15,
    "start_time": "2022-05-04T08:21:31.602Z"
   },
   {
    "duration": 19,
    "start_time": "2022-05-04T08:21:31.619Z"
   },
   {
    "duration": 37,
    "start_time": "2022-05-04T08:21:31.640Z"
   },
   {
    "duration": 4,
    "start_time": "2022-05-04T08:21:31.679Z"
   },
   {
    "duration": 933,
    "start_time": "2022-05-04T08:21:31.685Z"
   },
   {
    "duration": 155,
    "start_time": "2022-05-04T08:21:32.620Z"
   },
   {
    "duration": 190,
    "start_time": "2022-05-04T08:21:32.777Z"
   },
   {
    "duration": 204,
    "start_time": "2022-05-04T08:21:32.970Z"
   },
   {
    "duration": 195,
    "start_time": "2022-05-04T08:21:33.177Z"
   },
   {
    "duration": 13,
    "start_time": "2022-05-04T08:21:33.374Z"
   },
   {
    "duration": 24,
    "start_time": "2022-05-04T08:21:33.389Z"
   },
   {
    "duration": 28,
    "start_time": "2022-05-04T08:21:33.414Z"
   },
   {
    "duration": 16,
    "start_time": "2022-05-04T08:21:33.443Z"
   },
   {
    "duration": 5,
    "start_time": "2022-05-04T08:21:33.461Z"
   },
   {
    "duration": 220,
    "start_time": "2022-05-04T08:21:33.468Z"
   },
   {
    "duration": 11,
    "start_time": "2022-05-04T08:21:33.695Z"
   },
   {
    "duration": 587,
    "start_time": "2022-05-04T08:21:33.708Z"
   },
   {
    "duration": 9107,
    "start_time": "2022-05-04T08:21:34.297Z"
   },
   {
    "duration": 1000,
    "start_time": "2022-05-04T08:21:43.406Z"
   },
   {
    "duration": 442,
    "start_time": "2022-05-04T09:40:09.131Z"
   },
   {
    "duration": 4,
    "start_time": "2022-05-04T09:40:30.343Z"
   },
   {
    "duration": 91,
    "start_time": "2022-05-04T09:40:30.350Z"
   },
   {
    "duration": 18,
    "start_time": "2022-05-04T09:40:30.443Z"
   },
   {
    "duration": 12,
    "start_time": "2022-05-04T09:40:30.463Z"
   },
   {
    "duration": 71,
    "start_time": "2022-05-04T09:40:30.478Z"
   },
   {
    "duration": 110,
    "start_time": "2022-05-04T09:40:30.552Z"
   },
   {
    "duration": 666,
    "start_time": "2022-05-04T09:40:30.664Z"
   },
   {
    "duration": 4,
    "start_time": "2022-05-04T09:40:31.332Z"
   },
   {
    "duration": 70,
    "start_time": "2022-05-04T09:40:31.338Z"
   },
   {
    "duration": 7,
    "start_time": "2022-05-04T09:40:31.410Z"
   },
   {
    "duration": 19,
    "start_time": "2022-05-04T09:40:31.419Z"
   },
   {
    "duration": 14,
    "start_time": "2022-05-04T09:40:31.440Z"
   },
   {
    "duration": 10,
    "start_time": "2022-05-04T09:40:31.455Z"
   },
   {
    "duration": 19,
    "start_time": "2022-05-04T09:40:31.467Z"
   },
   {
    "duration": 23,
    "start_time": "2022-05-04T09:40:31.490Z"
   },
   {
    "duration": 27,
    "start_time": "2022-05-04T09:40:31.515Z"
   },
   {
    "duration": 27,
    "start_time": "2022-05-04T09:40:31.544Z"
   },
   {
    "duration": 51,
    "start_time": "2022-05-04T09:40:31.573Z"
   },
   {
    "duration": 7,
    "start_time": "2022-05-04T09:40:31.625Z"
   },
   {
    "duration": 23,
    "start_time": "2022-05-04T09:40:31.633Z"
   },
   {
    "duration": 21,
    "start_time": "2022-05-04T09:40:31.657Z"
   },
   {
    "duration": 15,
    "start_time": "2022-05-04T09:40:31.680Z"
   },
   {
    "duration": 18,
    "start_time": "2022-05-04T09:40:31.696Z"
   },
   {
    "duration": 19,
    "start_time": "2022-05-04T09:40:31.716Z"
   },
   {
    "duration": 18,
    "start_time": "2022-05-04T09:40:31.737Z"
   },
   {
    "duration": 305,
    "start_time": "2022-05-04T09:40:31.757Z"
   },
   {
    "duration": 10,
    "start_time": "2022-05-04T09:40:32.064Z"
   },
   {
    "duration": 10,
    "start_time": "2022-05-04T09:40:32.076Z"
   },
   {
    "duration": 23,
    "start_time": "2022-05-04T09:40:32.088Z"
   },
   {
    "duration": 23,
    "start_time": "2022-05-04T09:40:32.113Z"
   },
   {
    "duration": 21,
    "start_time": "2022-05-04T09:40:32.138Z"
   },
   {
    "duration": 225,
    "start_time": "2022-05-04T09:40:32.162Z"
   },
   {
    "duration": 523,
    "start_time": "2022-05-04T09:40:32.389Z"
   },
   {
    "duration": 10,
    "start_time": "2022-05-04T09:40:32.914Z"
   },
   {
    "duration": 6,
    "start_time": "2022-05-04T09:40:32.933Z"
   },
   {
    "duration": 7,
    "start_time": "2022-05-04T09:40:32.941Z"
   },
   {
    "duration": 7,
    "start_time": "2022-05-04T09:40:32.950Z"
   },
   {
    "duration": 776,
    "start_time": "2022-05-04T09:40:32.958Z"
   },
   {
    "duration": 6,
    "start_time": "2022-05-04T09:40:33.736Z"
   },
   {
    "duration": 608,
    "start_time": "2022-05-04T09:40:33.744Z"
   },
   {
    "duration": 5,
    "start_time": "2022-05-04T09:40:34.354Z"
   },
   {
    "duration": 395,
    "start_time": "2022-05-04T09:40:34.365Z"
   },
   {
    "duration": 6,
    "start_time": "2022-05-04T09:40:34.762Z"
   },
   {
    "duration": 4326,
    "start_time": "2022-05-04T09:40:34.770Z"
   },
   {
    "duration": 9,
    "start_time": "2022-05-04T09:40:39.098Z"
   },
   {
    "duration": 183,
    "start_time": "2022-05-04T09:40:39.109Z"
   },
   {
    "duration": 182,
    "start_time": "2022-05-04T09:40:39.294Z"
   },
   {
    "duration": 5,
    "start_time": "2022-05-04T09:40:39.478Z"
   },
   {
    "duration": 159,
    "start_time": "2022-05-04T09:40:39.484Z"
   },
   {
    "duration": 3,
    "start_time": "2022-05-04T09:40:39.645Z"
   },
   {
    "duration": 7,
    "start_time": "2022-05-04T09:40:39.650Z"
   },
   {
    "duration": 8,
    "start_time": "2022-05-04T09:40:39.658Z"
   },
   {
    "duration": 13,
    "start_time": "2022-05-04T09:40:39.668Z"
   },
   {
    "duration": 13,
    "start_time": "2022-05-04T09:40:39.683Z"
   },
   {
    "duration": 5,
    "start_time": "2022-05-04T09:40:39.698Z"
   },
   {
    "duration": 14,
    "start_time": "2022-05-04T09:40:39.704Z"
   },
   {
    "duration": 26,
    "start_time": "2022-05-04T09:40:39.719Z"
   },
   {
    "duration": 16,
    "start_time": "2022-05-04T09:40:39.747Z"
   },
   {
    "duration": 30,
    "start_time": "2022-05-04T09:40:39.765Z"
   },
   {
    "duration": 5,
    "start_time": "2022-05-04T09:40:39.797Z"
   },
   {
    "duration": 9,
    "start_time": "2022-05-04T09:40:39.804Z"
   },
   {
    "duration": 35,
    "start_time": "2022-05-04T09:40:39.815Z"
   },
   {
    "duration": 14181,
    "start_time": "2022-05-04T09:40:39.852Z"
   },
   {
    "duration": 589,
    "start_time": "2022-05-04T09:40:54.035Z"
   },
   {
    "duration": 376,
    "start_time": "2022-05-04T09:40:54.626Z"
   },
   {
    "duration": 182,
    "start_time": "2022-05-04T09:40:55.005Z"
   },
   {
    "duration": 10,
    "start_time": "2022-05-04T09:40:55.189Z"
   },
   {
    "duration": 4,
    "start_time": "2022-05-04T09:40:55.200Z"
   },
   {
    "duration": 29,
    "start_time": "2022-05-04T09:40:55.205Z"
   },
   {
    "duration": 26,
    "start_time": "2022-05-04T09:40:55.236Z"
   },
   {
    "duration": 4,
    "start_time": "2022-05-04T09:40:55.264Z"
   },
   {
    "duration": 937,
    "start_time": "2022-05-04T09:40:55.269Z"
   },
   {
    "duration": 147,
    "start_time": "2022-05-04T09:40:56.208Z"
   },
   {
    "duration": 183,
    "start_time": "2022-05-04T09:40:56.357Z"
   },
   {
    "duration": 204,
    "start_time": "2022-05-04T09:40:56.542Z"
   },
   {
    "duration": 200,
    "start_time": "2022-05-04T09:40:56.748Z"
   },
   {
    "duration": 12,
    "start_time": "2022-05-04T09:40:56.949Z"
   },
   {
    "duration": 25,
    "start_time": "2022-05-04T09:40:56.963Z"
   },
   {
    "duration": 11,
    "start_time": "2022-05-04T09:40:56.989Z"
   },
   {
    "duration": 42,
    "start_time": "2022-05-04T09:40:57.002Z"
   },
   {
    "duration": 7,
    "start_time": "2022-05-04T09:40:57.046Z"
   },
   {
    "duration": 221,
    "start_time": "2022-05-04T09:40:57.055Z"
   },
   {
    "duration": 11,
    "start_time": "2022-05-04T09:40:57.278Z"
   },
   {
    "duration": 581,
    "start_time": "2022-05-04T09:40:57.291Z"
   },
   {
    "duration": 9702,
    "start_time": "2022-05-04T09:40:57.874Z"
   },
   {
    "duration": 1048,
    "start_time": "2022-05-04T09:41:07.578Z"
   }
  ],
  "kernelspec": {
   "display_name": "Python 3 (ipykernel)",
   "language": "python",
   "name": "python3"
  },
  "language_info": {
   "codemirror_mode": {
    "name": "ipython",
    "version": 3
   },
   "file_extension": ".py",
   "mimetype": "text/x-python",
   "name": "python",
   "nbconvert_exporter": "python",
   "pygments_lexer": "ipython3",
   "version": "3.9.7"
  },
  "latex_envs": {
   "LaTeX_envs_menu_present": true,
   "autoclose": false,
   "autocomplete": true,
   "bibliofile": "biblio.bib",
   "cite_by": "apalike",
   "current_citInitial": 1,
   "eqLabelWithNumbers": true,
   "eqNumInitial": 1,
   "hotkeys": {
    "equation": "Ctrl-E",
    "itemize": "Ctrl-I"
   },
   "labels_anchors": false,
   "latex_user_defs": false,
   "report_style_numbering": false,
   "user_envs_cfg": false
  },
  "toc": {
   "base_numbering": 1,
   "nav_menu": {},
   "number_sections": true,
   "sideBar": true,
   "skip_h1_title": true,
   "title_cell": "Содержание",
   "title_sidebar": "Contents",
   "toc_cell": true,
   "toc_position": {
    "height": "calc(100% - 180px)",
    "left": "10px",
    "top": "150px",
    "width": "265.797px"
   },
   "toc_section_display": true,
   "toc_window_display": true
  },
  "varInspector": {
   "cols": {
    "lenName": 16,
    "lenType": 16,
    "lenVar": 40
   },
   "kernels_config": {
    "python": {
     "delete_cmd_postfix": "",
     "delete_cmd_prefix": "del ",
     "library": "var_list.py",
     "varRefreshCmd": "print(var_dic_list())"
    },
    "r": {
     "delete_cmd_postfix": ") ",
     "delete_cmd_prefix": "rm(",
     "library": "var_list.r",
     "varRefreshCmd": "cat(var_dic_list()) "
    }
   },
   "types_to_exclude": [
    "module",
    "function",
    "builtin_function_or_method",
    "instance",
    "_Feature"
   ],
   "window_display": false
  }
 },
 "nbformat": 4,
 "nbformat_minor": 4
}
