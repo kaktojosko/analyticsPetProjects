{
 "cells": [
  {
   "cell_type": "markdown",
   "id": "a14fc08d",
   "metadata": {},
   "source": [
    "# Исследование надежности заемщиков."
   ]
  },
  {
   "cell_type": "markdown",
   "id": "bf2dab4f",
   "metadata": {},
   "source": [
    "**Цель проекта** — проверить две гипотезы:\n",
    "\n",
    "* Семейное положение заемщика влияет на факт погашения погашения кредита\n",
    "* Количество детей у заемщика влияет на факт погашения погашения кредита\n",
    "\n",
    "Сначала проверим данные на ошибки, пропуски и дубликаты. Проведем предобработку, затем проверим гипотезы и ответим на вопросы."
   ]
  },
  {
   "cell_type": "markdown",
   "id": "28aa5395",
   "metadata": {},
   "source": [
    "## Шаг 1. Обзор данных"
   ]
  },
  {
   "cell_type": "code",
   "execution_count": null,
   "id": "2ecdb529",
   "metadata": {},
   "outputs": [],
   "source": [
    "import pandas as pd # импорт необходимых для работы библиотек\n",
    "from nltk.stem import SnowballStemmer\n",
    "stemmer = SnowballStemmer('russian')"
   ]
  },
  {
   "cell_type": "code",
   "execution_count": null,
   "id": "88cf716c",
   "metadata": {},
   "outputs": [],
   "source": [
    "# проект выполнялся локально, поэтому путь может быть неверным.\n",
    "df = pd.read_csv('/datasets/data.csv') # читаем данные\n",
    "df.head(10) # выводим первые 10 строк"
   ]
  },
  {
   "cell_type": "code",
   "execution_count": null,
   "id": "558130ab",
   "metadata": {
    "scrolled": true
   },
   "outputs": [],
   "source": [
    "df.info() # общая информация по данным"
   ]
  },
  {
   "cell_type": "markdown",
   "id": "2a9e26f2",
   "metadata": {},
   "source": [
    "#### Описание данных\n",
    "* `children` — количество детей в семье\n",
    "* `days_employed` — общий трудовой стаж в днях\n",
    "* `dob_years` — возраст клиента в годах\n",
    "* `education` — уровень образования клиента\n",
    "* `education_id` — идентификатор уровня образования\n",
    "* `family_status` — семейное положение\n",
    "* `family_status_id` — идентификатор семейного положения\n",
    "* `gender` — пол клиента\n",
    "* `income_type` — тип занятости\n",
    "* `debt` — имел ли задолженность по возврату кредитов\n",
    "* `total_income` — ежемесячный доход\n",
    "* `purpose` — цель получения кредита\n",
    "\n",
    "Названия колонок соответствуют стилю."
   ]
  },
  {
   "cell_type": "markdown",
   "id": "d1b2df3b",
   "metadata": {},
   "source": [
    "Видно, что есть явные пропуски в столбцах `days_employed`, `total_income`. Количество пропусков в этих столбцах одинаковое.\n",
    "\n",
    "Также видно, что в столбце `education` записи в разном регистре."
   ]
  },
  {
   "cell_type": "markdown",
   "id": "c9991e44",
   "metadata": {},
   "source": [
    "**Вывод:**\n",
    "\n",
    "Чтобы продолжить исследование, нужно подготовить данные. В них есть проблемы:\n",
    "\n",
    "* В двух столбцах датафрейма есть пропущенные значения. Их нужно как то заполнить или удалить.\n",
    "* Столбцы типа `object` нужно проверить на явные и неявные дубликаты, привести к нормальному виду."
   ]
  },
  {
   "cell_type": "markdown",
   "id": "84b69179",
   "metadata": {},
   "source": [
    "## Шаг 2.1 Заполнение пропусков"
   ]
  },
  {
   "cell_type": "markdown",
   "id": "190061fb",
   "metadata": {},
   "source": [
    "Заполним пропуски в колонке `total_income`."
   ]
  },
  {
   "cell_type": "code",
   "execution_count": null,
   "id": "ce52b840",
   "metadata": {},
   "outputs": [],
   "source": [
    "df[df['total_income'].isna()]"
   ]
  },
  {
   "cell_type": "markdown",
   "id": "ad03de76",
   "metadata": {},
   "source": [
    "Видим, что во всех видимых строчках, где `total_income` равен `NaN`, `days_employed` тоже равен `NaN`. Проверим, везде ли так."
   ]
  },
  {
   "cell_type": "code",
   "execution_count": null,
   "id": "a06b7ee3",
   "metadata": {},
   "outputs": [],
   "source": [
    "# Смотрим на уникальные значения столбца days_emploed, где total_income равен NaN\n",
    "df[df['total_income'].isna()]['days_employed'].value_counts()"
   ]
  },
  {
   "cell_type": "markdown",
   "id": "b14b893a",
   "metadata": {},
   "source": [
    "Действительно, это так. У людей, с пропущенным суммарным доходом отсутствуют значения отработанных дней."
   ]
  },
  {
   "cell_type": "markdown",
   "id": "7c6fdb9c",
   "metadata": {},
   "source": [
    "Теперь проверим долю пропущенных значений в колонке `total_income` от всех значений."
   ]
  },
  {
   "cell_type": "code",
   "execution_count": null,
   "id": "7ef0a70a",
   "metadata": {},
   "outputs": [],
   "source": [
    "# количество пропущенных значений делим на общее количество значений\n",
    "df[df['total_income'].isna()].shape[0] / df['total_income'].shape[0]"
   ]
  },
  {
   "cell_type": "markdown",
   "id": "8306a2a2",
   "metadata": {},
   "source": [
    "Примерно 10% данных в `total_income` - пропуски"
   ]
  },
  {
   "cell_type": "markdown",
   "id": "b7303a03",
   "metadata": {},
   "source": [
    "Возможные причины пропуска могут быть связаны с тем, что человек не имел задекларированного дохода, работал неофициально. Причина пропуска не напоминает технический характер. Пропуск в этом столбце можно охарактеризовать как **случайный**."
   ]
  },
  {
   "cell_type": "markdown",
   "id": "4b65ce1c",
   "metadata": {},
   "source": [
    "**Заполним пропуски в `total_income` медианой, пропуски в `days_employed` нулями.**\n",
    "\n",
    "Заполнять будем именно медианным значением, так как оно описывает данные более объективно и меньше подвержено выбросам, чем среднее значение."
   ]
  },
  {
   "cell_type": "code",
   "execution_count": null,
   "id": "a6b7dd11",
   "metadata": {},
   "outputs": [],
   "source": [
    "df['total_income'].median() # медиана"
   ]
  },
  {
   "cell_type": "code",
   "execution_count": null,
   "id": "f67b2e51",
   "metadata": {},
   "outputs": [],
   "source": [
    "# заменяем медианой пропущенные значения 'total_income'\n",
    "df['total_income'] = df['total_income'].fillna(df['total_income'].median())"
   ]
  },
  {
   "cell_type": "code",
   "execution_count": null,
   "id": "98577746",
   "metadata": {},
   "outputs": [],
   "source": [
    "# заменяем 0 пропущенные значения 'days_employed'\n",
    "df['days_employed'] = df['days_employed'].fillna(0)"
   ]
  },
  {
   "cell_type": "markdown",
   "id": "b3f54317",
   "metadata": {},
   "source": [
    "Проверим, остались ли пропуски:"
   ]
  },
  {
   "cell_type": "code",
   "execution_count": null,
   "id": "4953e233",
   "metadata": {},
   "outputs": [],
   "source": [
    "df.info()"
   ]
  },
  {
   "cell_type": "markdown",
   "id": "74da3b9f",
   "metadata": {},
   "source": [
    "## Шаг 2.2 Проверка данных на аномалии и исправления."
   ]
  },
  {
   "cell_type": "markdown",
   "id": "749a1c8c",
   "metadata": {},
   "source": [
    "Посмотрим на общие статистики, чтобы понять, какие есть аномалии"
   ]
  },
  {
   "cell_type": "code",
   "execution_count": null,
   "id": "e17d7bb3",
   "metadata": {},
   "outputs": [],
   "source": [
    "df.describe()"
   ]
  },
  {
   "cell_type": "markdown",
   "id": "3bb7cc47",
   "metadata": {},
   "source": [
    "**Сразу бросается в глаза две проблемы:**\n",
    "\n",
    "* минимальное значение `children` равно -1 (максимальное 20, что тоже вызывает подозрения.)\n",
    "* показатели `days_employed` отрицательные, а максимальное значение равно ~1100 годам\n",
    "\n",
    "И еще стоит проверить значения `dob_years`, которые равны 0"
   ]
  },
  {
   "cell_type": "markdown",
   "id": "8632d4b9",
   "metadata": {},
   "source": [
    "### 2.2.1 days_employed\n",
    "\n",
    "В колонке `days_employed` аномалия. Трудовой стаж не может быть отрицательным. Посмотрим на значения, которые больше нуля."
   ]
  },
  {
   "cell_type": "code",
   "execution_count": null,
   "id": "2428216a",
   "metadata": {
    "scrolled": true
   },
   "outputs": [],
   "source": [
    "df[df['days_employed'] > 0].head()"
   ]
  },
  {
   "cell_type": "code",
   "execution_count": null,
   "id": "54e8cbd9",
   "metadata": {},
   "outputs": [],
   "source": [
    "df[df['days_employed'] > 0]['income_type'].value_counts()"
   ]
  },
  {
   "cell_type": "code",
   "execution_count": null,
   "id": "caebcbce",
   "metadata": {
    "scrolled": true
   },
   "outputs": [],
   "source": [
    "df[(df['days_employed'] > 0) & (df['income_type'] != 'пенсионер')]"
   ]
  },
  {
   "cell_type": "markdown",
   "id": "d5d630bd",
   "metadata": {},
   "source": [
    "Видим, что все, кто работал положительное число дней являются пенсионерами, кроме двух безработных людей."
   ]
  },
  {
   "cell_type": "code",
   "execution_count": null,
   "id": "ebfa1a97",
   "metadata": {},
   "outputs": [],
   "source": [
    "df[df['days_employed'] > 0].describe()"
   ]
  },
  {
   "cell_type": "markdown",
   "id": "5759757f",
   "metadata": {},
   "source": [
    "Смотря на интервал минимальных и максимальных значений по данной выборке можно предположить, что людям, которые находятся на пенсии, присваивали большое число отработанных дней. Двое безработных, которые попали в этот список не могли столько отработать. Их будем считать за выбросы."
   ]
  },
  {
   "cell_type": "code",
   "execution_count": null,
   "id": "12ac5fc8",
   "metadata": {
    "scrolled": true
   },
   "outputs": [],
   "source": [
    "df[df.days_employed < 0].describe()"
   ]
  },
  {
   "cell_type": "markdown",
   "id": "c6e1bf5f",
   "metadata": {},
   "source": [
    "У людей с отрицательными значениями всё выглядит приемлимо. Минимальное значение взятое по модулю 18388 дня примерно равно 50 годам. А максимальное по модулю 24 дня."
   ]
  },
  {
   "cell_type": "code",
   "execution_count": null,
   "id": "952b93e7",
   "metadata": {},
   "outputs": [],
   "source": [
    "df[df.days_employed < 0].sort_values('days_employed').head(10)"
   ]
  },
  {
   "cell_type": "markdown",
   "id": "9c3624a4",
   "metadata": {},
   "source": [
    "Люди, которые отработали больше всего времени из возрастной категории 55+. Ещё раз убеждаемся в том, что данные похожи на реальные."
   ]
  },
  {
   "cell_type": "markdown",
   "id": "24dd8b6e",
   "metadata": {},
   "source": [
    "**Аномалию устраним так:**\n",
    "\n",
    "* Людям, которые в положительном диапазоне, заполним нулями. Это явные выбросы, они нам будут мешать.\n",
    "* Людям, кто отработал отрицательное количество времени, присвоим положительный знак."
   ]
  },
  {
   "cell_type": "code",
   "execution_count": null,
   "id": "6d69eedb",
   "metadata": {},
   "outputs": [],
   "source": [
    "# заполняем нулями аномальные значения\n",
    "df.loc[df['days_employed'] > 0, 'days_employed'] = 0"
   ]
  },
  {
   "cell_type": "code",
   "execution_count": null,
   "id": "0b840fa1",
   "metadata": {},
   "outputs": [],
   "source": [
    "# проверяем\n",
    "df[df.days_employed > 0].value_counts()"
   ]
  },
  {
   "cell_type": "code",
   "execution_count": null,
   "id": "c6072415",
   "metadata": {},
   "outputs": [],
   "source": [
    "# заменяем знак минус на знак плюс - переписываем число, взяв его по модулю\n",
    "df.loc[df['days_employed'] < 0, 'days_employed'] = df.loc[df['days_employed'] < 0, 'days_employed'].apply(lambda num : abs(num))\n"
   ]
  },
  {
   "cell_type": "code",
   "execution_count": null,
   "id": "50735e7e",
   "metadata": {
    "scrolled": true
   },
   "outputs": [],
   "source": [
    "#проверяем\n",
    "df.days_employed.describe()"
   ]
  },
  {
   "cell_type": "markdown",
   "id": "78c99c97",
   "metadata": {},
   "source": [
    "### 2.2.2 children"
   ]
  },
  {
   "cell_type": "markdown",
   "id": "4f0a4cef",
   "metadata": {},
   "source": [
    "Минимальное значение children равно -1 (максимальное 20, что тоже вызывает подозрения.)"
   ]
  },
  {
   "cell_type": "code",
   "execution_count": null,
   "id": "65505902",
   "metadata": {
    "scrolled": false
   },
   "outputs": [],
   "source": [
    "# список уникальных значений колонки children\n",
    "df['children'].value_counts()"
   ]
  },
  {
   "cell_type": "markdown",
   "id": "180e784d",
   "metadata": {},
   "source": [
    "Видим, что есть определенный ряд количества детей: 0, 1, 2, 3, 4, 5. Значения -1, 20 из этого ряда явно выделяются.\n",
    "\n",
    "20 детей - выбросы, либо это ошибка с вводом данных, где случайно добавили 0. Данные о доходах тоже никак не позволяют судить о том, что это не выбросы."
   ]
  },
  {
   "cell_type": "markdown",
   "id": "141d72c0",
   "metadata": {},
   "source": [
    "Сравнение статистик, где 20 и 2 детей соответственно."
   ]
  },
  {
   "cell_type": "code",
   "execution_count": null,
   "id": "54fdb0b2",
   "metadata": {
    "scrolled": false
   },
   "outputs": [],
   "source": [
    "df[df.children == 20].describe()"
   ]
  },
  {
   "cell_type": "code",
   "execution_count": null,
   "id": "64b103ff",
   "metadata": {
    "scrolled": false
   },
   "outputs": [],
   "source": [
    "df[df.children == 2].describe()"
   ]
  },
  {
   "cell_type": "code",
   "execution_count": null,
   "id": "6a5a6d79",
   "metadata": {},
   "outputs": [],
   "source": [
    "(76 / (2055 + 76)) * 100"
   ]
  },
  {
   "cell_type": "markdown",
   "id": "fead2b3f",
   "metadata": {},
   "source": [
    "Показатели примерно похожи. Количество таких значений составляет 3.6% от всех данных с детьми равными 2 + 20.\n",
    "\n",
    "Изменим количество детей с 20 на 2."
   ]
  },
  {
   "cell_type": "code",
   "execution_count": null,
   "id": "62bb7971",
   "metadata": {},
   "outputs": [],
   "source": [
    "df.loc[df.children == 20, 'children'] = 2"
   ]
  },
  {
   "cell_type": "markdown",
   "id": "c36f4f8a",
   "metadata": {},
   "source": [
    "Теперь разберемся со строками, где значение равно -1"
   ]
  },
  {
   "cell_type": "code",
   "execution_count": null,
   "id": "84305484",
   "metadata": {
    "scrolled": true
   },
   "outputs": [],
   "source": [
    "df[df.children == -1].describe()"
   ]
  },
  {
   "cell_type": "code",
   "execution_count": null,
   "id": "2bfb12d0",
   "metadata": {},
   "outputs": [],
   "source": [
    "(47 / (4818 + 47)) * 100"
   ]
  },
  {
   "cell_type": "markdown",
   "id": "e1fe7a8b",
   "metadata": {},
   "source": [
    "Тоже напоминает техническую ошибку. Добавили - к 1 и получилось -1.\n",
    "\n",
    "Так как количество таких значений составляет меньше 1% от всех данных с детьми равными 1 + (-1), присвоим 1 вместо -1."
   ]
  },
  {
   "cell_type": "code",
   "execution_count": null,
   "id": "f3f63198",
   "metadata": {},
   "outputs": [],
   "source": [
    "df.loc[df.children == -1, 'children'] = 1"
   ]
  },
  {
   "cell_type": "markdown",
   "id": "c1b2ae9e",
   "metadata": {},
   "source": [
    "Проверим уникальные значения"
   ]
  },
  {
   "cell_type": "code",
   "execution_count": null,
   "id": "81c51ef7",
   "metadata": {},
   "outputs": [],
   "source": [
    "df.children.value_counts()"
   ]
  },
  {
   "cell_type": "markdown",
   "id": "6999b447",
   "metadata": {},
   "source": [
    "### 2.2.3 dob_years == 0"
   ]
  },
  {
   "cell_type": "code",
   "execution_count": null,
   "id": "bf54fc3c",
   "metadata": {
    "scrolled": false
   },
   "outputs": [],
   "source": [
    "df.loc[df['dob_years'] <= 18, ['dob_years']].value_counts()"
   ]
  },
  {
   "cell_type": "markdown",
   "id": "1ed61ff6",
   "metadata": {},
   "source": [
    "В промежутке от 0 до 18 лет встречаются только значения 0 лет. Заполним их медианным значением возраста."
   ]
  },
  {
   "cell_type": "code",
   "execution_count": null,
   "id": "91183552",
   "metadata": {},
   "outputs": [],
   "source": [
    "df[df['dob_years'] != 0]['dob_years'].median() # медиана не учитывая 0"
   ]
  },
  {
   "cell_type": "code",
   "execution_count": null,
   "id": "e5f4cfa5",
   "metadata": {},
   "outputs": [],
   "source": [
    "# заменяем значения\n",
    "df.loc[df['dob_years'] == 0, 'dob_years'] = df[df['dob_years'] != 0]['dob_years'].median()"
   ]
  },
  {
   "cell_type": "code",
   "execution_count": null,
   "id": "4180f8a8",
   "metadata": {},
   "outputs": [],
   "source": [
    "# проверяем что нули ушли\n",
    "df.loc[df['dob_years'] < 18, ['dob_years']].value_counts()"
   ]
  },
  {
   "cell_type": "markdown",
   "id": "38b4c0c2",
   "metadata": {},
   "source": [
    "## Шаг 2.3. Изменение типов данных."
   ]
  },
  {
   "cell_type": "code",
   "execution_count": null,
   "id": "57b5383c",
   "metadata": {
    "scrolled": true
   },
   "outputs": [],
   "source": [
    "df.info()"
   ]
  },
  {
   "cell_type": "markdown",
   "id": "b7663e51",
   "metadata": {},
   "source": [
    "Заменим тип данных `float64` колонки `total_income` на `int`."
   ]
  },
  {
   "cell_type": "code",
   "execution_count": null,
   "id": "03b920eb",
   "metadata": {},
   "outputs": [],
   "source": [
    "df['total_income'] = df['total_income'].astype('int')"
   ]
  },
  {
   "cell_type": "code",
   "execution_count": null,
   "id": "f7fe57d9",
   "metadata": {},
   "outputs": [],
   "source": [
    "# проверим изменения\n",
    "df.info()"
   ]
  },
  {
   "cell_type": "markdown",
   "id": "507833c0",
   "metadata": {},
   "source": [
    "## Шаг 2.4. Удаление дубликатов."
   ]
  },
  {
   "cell_type": "markdown",
   "id": "54a875a9",
   "metadata": {},
   "source": [
    "Сначала удалим явные дубликаты. Так как у нас нет колонки `id` мы не сможем судить точно дубликаты ли это или нет. Но предлагаю всё равно их удалить, так как они занимают маленькую часть данных и их отсутствие не сильно скажется на анализе."
   ]
  },
  {
   "cell_type": "code",
   "execution_count": null,
   "id": "648e975e",
   "metadata": {
    "scrolled": true
   },
   "outputs": [],
   "source": [
    "# количество дубликатов\n",
    "df.duplicated().sum()"
   ]
  },
  {
   "cell_type": "code",
   "execution_count": null,
   "id": "7228168d",
   "metadata": {},
   "outputs": [],
   "source": [
    "# удалим дубликаты\n",
    "df = df.drop_duplicates().reset_index(drop=True)"
   ]
  },
  {
   "cell_type": "code",
   "execution_count": null,
   "id": "3dc5ec68",
   "metadata": {},
   "outputs": [],
   "source": [
    "# проверяем\n",
    "df.duplicated().sum()"
   ]
  },
  {
   "cell_type": "markdown",
   "id": "f5a9b114",
   "metadata": {},
   "source": [
    "Теперь проверим неявные"
   ]
  },
  {
   "cell_type": "code",
   "execution_count": null,
   "id": "76a077d9",
   "metadata": {},
   "outputs": [],
   "source": [
    "df.info()"
   ]
  },
  {
   "cell_type": "markdown",
   "id": "2c914ac1",
   "metadata": {},
   "source": [
    "Неявные дубликаты могут быть в колонках `education`, `family_status`, `gender`, `income_type`, `purpose`"
   ]
  },
  {
   "cell_type": "code",
   "execution_count": null,
   "id": "ec0e2512",
   "metadata": {},
   "outputs": [],
   "source": [
    "# смотрим на уникальные значения\n",
    "df['education'].value_counts()"
   ]
  },
  {
   "cell_type": "code",
   "execution_count": null,
   "id": "2aca85b6",
   "metadata": {},
   "outputs": [],
   "source": [
    "# исправляем, сведя все к маленьким буквам\n",
    "df['education'] = df['education'].str.lower()"
   ]
  },
  {
   "cell_type": "code",
   "execution_count": null,
   "id": "a6b60b17",
   "metadata": {},
   "outputs": [],
   "source": [
    "# проверяем\n",
    "df['education'].value_counts()"
   ]
  },
  {
   "cell_type": "code",
   "execution_count": null,
   "id": "18bb9398",
   "metadata": {},
   "outputs": [],
   "source": [
    "df['family_status'].value_counts()"
   ]
  },
  {
   "cell_type": "markdown",
   "id": "2887f522",
   "metadata": {},
   "source": [
    "В колонке `family_status` всё хорошо. Исправление не требуется"
   ]
  },
  {
   "cell_type": "code",
   "execution_count": null,
   "id": "fc0599c9",
   "metadata": {},
   "outputs": [],
   "source": [
    "df['gender'].value_counts()"
   ]
  },
  {
   "cell_type": "markdown",
   "id": "15b96e5c",
   "metadata": {},
   "source": [
    " Тут тоже все хорошо. `XNA` - intersex гендер."
   ]
  },
  {
   "cell_type": "code",
   "execution_count": null,
   "id": "b12f3313",
   "metadata": {},
   "outputs": [],
   "source": [
    "df['income_type'].value_counts()"
   ]
  },
  {
   "cell_type": "markdown",
   "id": "90b5c8e2",
   "metadata": {},
   "source": [
    "Тут тоже всё оки."
   ]
  },
  {
   "cell_type": "code",
   "execution_count": null,
   "id": "19345b76",
   "metadata": {},
   "outputs": [],
   "source": [
    "df['purpose'].value_counts()"
   ]
  },
  {
   "cell_type": "markdown",
   "id": "6176760e",
   "metadata": {},
   "source": [
    "Выделим основные группы колонки `purpose`:\n",
    "* Свадьба\n",
    "* Жилье, недвижимость\n",
    "* Автомобиль\n",
    "* Образование\n",
    "\n",
    "Это пригодится нам в [шаге 2.7](#step2_7)"
   ]
  },
  {
   "cell_type": "code",
   "execution_count": null,
   "id": "7c75d92f",
   "metadata": {
    "scrolled": false
   },
   "outputs": [],
   "source": [
    "# функция, которая разделит все значения колонки `purpose` на 4\n",
    "def categorize_by_keywords(arg):\n",
    "    stemmed_query = stemmer.stem(arg)\n",
    "    for word in stemmed_query.split(' '):\n",
    "        if word == 'жил' or word == 'недвижим':\n",
    "            return 'операции с недвижимостью'\n",
    "        elif word == 'автомобил':\n",
    "            return 'операции с автомобилем'\n",
    "        elif word == 'образован':\n",
    "            return 'получение образования'\n",
    "        elif word == 'свадьб':\n",
    "            return 'проведение свадьбы'"
   ]
  },
  {
   "cell_type": "code",
   "execution_count": null,
   "id": "bd8752da",
   "metadata": {
    "scrolled": true
   },
   "outputs": [],
   "source": [
    "df['purpose']"
   ]
  },
  {
   "cell_type": "code",
   "execution_count": null,
   "id": "d2077cde",
   "metadata": {},
   "outputs": [],
   "source": [
    "# заменим все значения на определенные\n",
    "df['purpose'] = df['purpose'].apply(categorize_by_keywords)"
   ]
  },
  {
   "cell_type": "code",
   "execution_count": null,
   "id": "f58625d9",
   "metadata": {},
   "outputs": [],
   "source": [
    "# проверим\n",
    "df['purpose'].value_counts()"
   ]
  },
  {
   "cell_type": "markdown",
   "id": "3f40c05c",
   "metadata": {},
   "source": [
    "**Вывод:**\n",
    "В колонке `education` все значения уже были одинаковые, нужно было только привести их к единому регистру. Возможные причины этому могли быть неаккуратность введения данных. Кто то пишет с большой буквы, кто то с маленькой, кто то капсом.\n",
    "\n",
    "В колонке `purpose` пришлось применить стемминг, чтобы выделить корни слов и по ключевым словам категоризировать цели взятия кредита. Такое происходит из-за того, что люди, которые заполняют колонку делают это разными словами, как придется."
   ]
  },
  {
   "cell_type": "markdown",
   "id": "f38a54aa",
   "metadata": {},
   "source": [
    "## Шаг 2.5. Формирование дополнительных датафреймов словарей, декомпозиция исходного датафрейма."
   ]
  },
  {
   "cell_type": "markdown",
   "id": "044838a7",
   "metadata": {},
   "source": [
    "Создадим два новых датафрейма с уникальными значениями по `education, education_id` и `family_status, family_status_id`"
   ]
  },
  {
   "cell_type": "code",
   "execution_count": null,
   "id": "c6f59ec1",
   "metadata": {
    "scrolled": true
   },
   "outputs": [],
   "source": [
    "education_df = pd.DataFrame(df.loc[:, 'education':'education_id']).drop_duplicates().set_index('education_id')\n",
    "family_status_df = pd.DataFrame(df.loc[:, 'family_status':'family_status_id']).drop_duplicates().set_index('family_status_id')\n"
   ]
  },
  {
   "cell_type": "markdown",
   "id": "c75a866b",
   "metadata": {},
   "source": [
    "Проверим"
   ]
  },
  {
   "cell_type": "code",
   "execution_count": null,
   "id": "3294b9f7",
   "metadata": {
    "scrolled": true
   },
   "outputs": [],
   "source": [
    "education_df"
   ]
  },
  {
   "cell_type": "code",
   "execution_count": null,
   "id": "275e2aa6",
   "metadata": {
    "scrolled": true
   },
   "outputs": [],
   "source": [
    "family_status_df"
   ]
  },
  {
   "cell_type": "markdown",
   "id": "469f15c8",
   "metadata": {},
   "source": [
    "Теперь удалим колонки `education` и `family_status` из основного датафрейма"
   ]
  },
  {
   "cell_type": "code",
   "execution_count": null,
   "id": "fc5f5599",
   "metadata": {},
   "outputs": [],
   "source": [
    "# удаляем\n",
    "df = df.drop(['education', 'family_status'], axis=1)"
   ]
  },
  {
   "cell_type": "code",
   "execution_count": null,
   "id": "fc5fa1f6",
   "metadata": {
    "scrolled": true
   },
   "outputs": [],
   "source": [
    "# проверяем\n",
    "df.columns"
   ]
  },
  {
   "cell_type": "markdown",
   "id": "6f67cea3",
   "metadata": {},
   "source": [
    "## Шаг 2.6. Категоризация дохода."
   ]
  },
  {
   "cell_type": "markdown",
   "id": "6040b931",
   "metadata": {},
   "source": [
    "Создадим новый столбец `total_income_category` на основании столбца `total_income` следующим образом:\n",
    "\n",
    "* 0–30000 — `E`;\n",
    "* 30001–50000 — `D`;\n",
    "* 50001–200000 — `C`;\n",
    "* 200001–1000000 — `B`;\n",
    "* 1000001 и выше — `A`."
   ]
  },
  {
   "cell_type": "code",
   "execution_count": null,
   "id": "a1f7a91a",
   "metadata": {
    "scrolled": true
   },
   "outputs": [],
   "source": [
    "df.total_income.describe()"
   ]
  },
  {
   "cell_type": "markdown",
   "id": "ebc29178",
   "metadata": {},
   "source": [
    "Все значения больше 0."
   ]
  },
  {
   "cell_type": "markdown",
   "id": "6b4df431",
   "metadata": {},
   "source": [
    "Напишем функцию, которая будет принимать число и возвращать строчку в зависимости от категории, в которое число попало."
   ]
  },
  {
   "cell_type": "code",
   "execution_count": null,
   "id": "4d42e4ba",
   "metadata": {},
   "outputs": [],
   "source": [
    "def total_income_categoriser(arg):\n",
    "    if arg > 0 and arg <= 30000:\n",
    "        return 'E'\n",
    "    elif arg >= 30001 and arg <= 50000:\n",
    "        return 'D'\n",
    "    elif arg >= 50001 and arg <= 200000:\n",
    "        return 'C'\n",
    "    elif arg >= 200001and arg <= 1000000:\n",
    "        return 'B'\n",
    "    else:\n",
    "        return 'A'"
   ]
  },
  {
   "cell_type": "code",
   "execution_count": null,
   "id": "9efd0fcd",
   "metadata": {},
   "outputs": [],
   "source": [
    "# создадим новый столбец, применив функцию total_income_categoriser\n",
    "df['total_income_category'] = df['total_income'].apply(total_income_categoriser)"
   ]
  },
  {
   "cell_type": "code",
   "execution_count": null,
   "id": "219891f5",
   "metadata": {},
   "outputs": [],
   "source": [
    "# проверяем\n",
    "df.head()"
   ]
  },
  {
   "cell_type": "markdown",
   "id": "77a2d44b",
   "metadata": {},
   "source": [
    "## Шаг 2.7. Категоризация целей кредита. <a id='step2_7'></a>"
   ]
  },
  {
   "cell_type": "markdown",
   "id": "921c04f5",
   "metadata": {},
   "source": [
    "Так как мы уже категоризировали колонку `purpose` ранее в значения:\n",
    "* операции с автомобилем,\n",
    "* операции с недвижимостью,\n",
    "* проведение свадьбы,\n",
    "* получение образования.\n",
    "\n",
    "Просто изменим название колонки `purpose` на `purpose_category`."
   ]
  },
  {
   "cell_type": "code",
   "execution_count": null,
   "id": "17885f41",
   "metadata": {},
   "outputs": [],
   "source": [
    "df = df.rename(columns={'purpose': 'purpose_category'}, errors='raise')"
   ]
  },
  {
   "cell_type": "code",
   "execution_count": null,
   "id": "81f1efa6",
   "metadata": {},
   "outputs": [],
   "source": [
    "df.head()"
   ]
  },
  {
   "cell_type": "markdown",
   "id": "8669d88a",
   "metadata": {},
   "source": [
    "## Ответы на вопросы."
   ]
  },
  {
   "cell_type": "markdown",
   "id": "bdef8ec3",
   "metadata": {},
   "source": [
    "#### Вопрос 1:\n",
    "Есть ли зависимость между количеством детей и возвратом кредита в срок?\n",
    "\n",
    "`debt` — имел ли задолженность по возврату кредитов"
   ]
  },
  {
   "cell_type": "code",
   "execution_count": null,
   "id": "239b139c",
   "metadata": {},
   "outputs": [],
   "source": [
    "debt_children = df.pivot_table(index='children', columns= 'debt', values='days_employed', aggfunc='count')\n",
    "\n",
    "debt_children['ratio_%'] = (debt_children[1] / (debt_children[0] + debt_children[1])) * 100\n",
    "debt_children"
   ]
  },
  {
   "cell_type": "markdown",
   "id": "d9b60a21",
   "metadata": {},
   "source": [
    "#### Вывод 1:"
   ]
  },
  {
   "cell_type": "markdown",
   "id": "62ba9771",
   "metadata": {},
   "source": [
    "Если у ребенка 0 детей, то он наиболее вероятно вернет кредит. Если у ребенка 4 ребенка, то он наименее вероятно вернет кредит.\n",
    "\n",
    "Данные не позволяют четко утверждать о зависимости возврата кредита и детей, но можно предположить, что чем больше в семье детей, тем менее вероятен возврат кредита."
   ]
  },
  {
   "cell_type": "markdown",
   "id": "d2946755",
   "metadata": {},
   "source": [
    "#### Вопрос 2:\n",
    "Есть ли зависимость между семейным положением и возвратом кредита в срок?"
   ]
  },
  {
   "cell_type": "code",
   "execution_count": null,
   "id": "1986f167",
   "metadata": {},
   "outputs": [],
   "source": [
    "family_status_debt = df.join(family_status_df, on='family_status_id', how='left') \\\n",
    "                       .pivot_table(index='family_status', columns='debt', values='gender', aggfunc='count')\n",
    "family_status_debt['ratio_%'] = (family_status_debt[1] / (family_status_debt[1] + family_status_debt[0])) * 100"
   ]
  },
  {
   "cell_type": "code",
   "execution_count": null,
   "id": "41eca883",
   "metadata": {},
   "outputs": [],
   "source": [
    "family_status_debt"
   ]
  },
  {
   "cell_type": "markdown",
   "id": "5f3c5f45",
   "metadata": {},
   "source": [
    "#### Вывод 2:"
   ]
  },
  {
   "cell_type": "markdown",
   "id": "0ce8c052",
   "metadata": {},
   "source": [
    "Люди со статусами `Не женат / не замужем`, `гражданский брак` наименее вероятно возвращали кредиты. Люди со статусом `женат / замужем`, `вдовец / вдова`, `в разводе` наиболее вероятно возвращали кредиты.\n",
    "\n",
    "Делая такой вывод, следует помнить о том, что количество данных в группах довольно сильно различаются и такой прогноз может быть не точным."
   ]
  },
  {
   "cell_type": "markdown",
   "id": "a955a92d",
   "metadata": {},
   "source": [
    "#### Вопрос 3:\n",
    "Есть ли зависимость между уровнем дохода и возвратом кредита в срок?"
   ]
  },
  {
   "cell_type": "code",
   "execution_count": null,
   "id": "4b41a31c",
   "metadata": {},
   "outputs": [],
   "source": [
    "total_income_debt = df.pivot_table(index='total_income_category', columns='debt', values='gender', aggfunc='count')\n",
    "total_income_debt['ratio_%'] = (total_income_debt[1] / (total_income_debt[1] + total_income_debt[0])) * 100"
   ]
  },
  {
   "cell_type": "code",
   "execution_count": null,
   "id": "03c38246",
   "metadata": {
    "scrolled": true
   },
   "outputs": [],
   "source": [
    "total_income_debt"
   ]
  },
  {
   "cell_type": "markdown",
   "id": "c6cfa5a0",
   "metadata": {},
   "source": [
    "#### Вывод 3:"
   ]
  },
  {
   "cell_type": "markdown",
   "id": "ba7e33e4",
   "metadata": {},
   "source": [
    "Заработок напоминает нормальное распределение. Больше всего людей со средним заработком, меньше всего тех, кто зарабатывает очень много или совсем не зарабатывает.\n",
    "\n",
    "Судить о том, кто наиболее вероятно вернет кредит сложно, но можно отметить, что наименьшая доля тех, кто не вернул кредит отмечается у людей с категориями зароботка `D` и `B`."
   ]
  },
  {
   "cell_type": "markdown",
   "id": "5a34e01a",
   "metadata": {},
   "source": [
    "#### Вопрос 4:\n",
    "Как разные цели кредита влияют на его возврат в срок?\n"
   ]
  },
  {
   "cell_type": "code",
   "execution_count": null,
   "id": "017e65b4",
   "metadata": {},
   "outputs": [],
   "source": [
    "purpose_category_debt = df.pivot_table(index='purpose_category', columns='debt', values='gender', aggfunc='count')\n",
    "purpose_category_debt['ratio_%'] = (purpose_category_debt[1] / (purpose_category_debt[1] + purpose_category_debt[0])) * 100"
   ]
  },
  {
   "cell_type": "code",
   "execution_count": null,
   "id": "966708f7",
   "metadata": {},
   "outputs": [],
   "source": [
    "purpose_category_debt"
   ]
  },
  {
   "cell_type": "markdown",
   "id": "adadf4db",
   "metadata": {},
   "source": [
    "#### Вывод 4"
   ]
  },
  {
   "cell_type": "markdown",
   "id": "4294b5f2",
   "metadata": {},
   "source": [
    "Люди которые берут кредит на `операции с недвижимостью` и `проведение свадьбы` наиболее вероятно вернут кредит, чем те, кто берет кредит на `операции с автомобилем` и `получение образования`. "
   ]
  },
  {
   "cell_type": "markdown",
   "id": "5ccadd88",
   "metadata": {},
   "source": [
    "# Общий вывод:"
   ]
  },
  {
   "cell_type": "markdown",
   "id": "8c5d4ebe",
   "metadata": {},
   "source": [
    "Было обнаружено много ошибок в данных. Все они были исправлены и очищены. \n",
    "\n",
    "Предобработанные данные можно интерпретировать так:\n",
    "Если у человека нет детей, он женат / замужем, вдовец / вдова, в разводе, и он берет кредит на недвижимость или свадьбу, то вероятность того, что он вернет кредит - наибольшая."
   ]
  }
 ],
 "metadata": {
  "kernelspec": {
   "display_name": "Python 3 (ipykernel)",
   "language": "python",
   "name": "python3"
  },
  "language_info": {
   "codemirror_mode": {
    "name": "ipython",
    "version": 3
   },
   "file_extension": ".py",
   "mimetype": "text/x-python",
   "name": "python",
   "nbconvert_exporter": "python",
   "pygments_lexer": "ipython3",
   "version": "3.9.7"
  },
  "toc": {
   "base_numbering": 1,
   "nav_menu": {
    "height": "379px",
    "width": "252px"
   },
   "number_sections": true,
   "sideBar": true,
   "skip_h1_title": true,
   "title_cell": "Table of Contents",
   "title_sidebar": "Contents",
   "toc_cell": false,
   "toc_position": {
    "height": "calc(100% - 180px)",
    "left": "10px",
    "top": "150px",
    "width": "206.391px"
   },
   "toc_section_display": true,
   "toc_window_display": true
  }
 },
 "nbformat": 4,
 "nbformat_minor": 5
}
